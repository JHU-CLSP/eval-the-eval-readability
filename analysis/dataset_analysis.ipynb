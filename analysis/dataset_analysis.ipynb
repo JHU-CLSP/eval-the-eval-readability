{
 "cells": [
  {
   "cell_type": "code",
   "execution_count": 1,
   "metadata": {},
   "outputs": [
    {
     "name": "stderr",
     "output_type": "stream",
     "text": [
      "[nltk_data] Downloading package punkt_tab to\n",
      "[nltk_data]     /scratch4/mdredze1/nltk_cache...\n",
      "[nltk_data]   Package punkt_tab is already up-to-date!\n",
      "[nltk_data] Downloading package stopwords to\n",
      "[nltk_data]     /scratch4/mdredze1/nltk_cache...\n",
      "[nltk_data]   Package stopwords is already up-to-date!\n"
     ]
    }
   ],
   "source": [
    "import pandas as pd\n",
    "import matplotlib.pyplot as plt\n",
    "import nltk\n",
    "from nltk.corpus import stopwords\n",
    "nltk.download('punkt_tab')\n",
    "nltk.download('stopwords')\n",
    "import seaborn as sns\n",
    "import numpy as np\n",
    "import matplotlib.pyplot as plt\n",
    "from readability import Readability\n",
    "from itertools import combinations\n",
    "import glob\n",
    "import yake\n",
    "from tqdm import tqdm\n",
    "from scipy.stats import pearsonr\n",
    "from collections import defaultdict\n",
    "from sklearn.metrics import cohen_kappa_score\n",
    "import os"
   ]
  },
  {
   "cell_type": "code",
   "execution_count": 2,
   "metadata": {},
   "outputs": [],
   "source": [
    "output_dir = os.environ.get('READABILITY_ANALYSIS_DATA_DIR')\n",
    "dataset_dir = os.environ.get('DATASET_DIR')"
   ]
  },
  {
   "cell_type": "code",
   "execution_count": 3,
   "metadata": {},
   "outputs": [
    {
     "data": {
      "text/plain": [
       "10"
      ]
     },
     "execution_count": 3,
     "metadata": {},
     "output_type": "execute_result"
    }
   ],
   "source": [
    "output_files = glob.glob(f\"{output_dir}/meta-llama/Llama-3.3-70B-Instruct*.csv\")\n",
    "len(output_files)"
   ]
  },
  {
   "cell_type": "code",
   "execution_count": 4,
   "metadata": {},
   "outputs": [],
   "source": [
    "def get_summaries(d_name):\n",
    "    f_name = f'{dataset_dir}/{d_name}.target'\n",
    "    lines = open(f_name).readlines()\n",
    "    return [l.strip() for l in lines]"
   ]
  },
  {
   "cell_type": "code",
   "execution_count": 5,
   "metadata": {},
   "outputs": [
    {
     "data": {
      "text/html": [
       "<div>\n",
       "<style scoped>\n",
       "    .dataframe tbody tr th:only-of-type {\n",
       "        vertical-align: middle;\n",
       "    }\n",
       "\n",
       "    .dataframe tbody tr th {\n",
       "        vertical-align: top;\n",
       "    }\n",
       "\n",
       "    .dataframe thead th {\n",
       "        text-align: right;\n",
       "    }\n",
       "</style>\n",
       "<table border=\"1\" class=\"dataframe\">\n",
       "  <thead>\n",
       "    <tr style=\"text-align: right;\">\n",
       "      <th></th>\n",
       "      <th>readability</th>\n",
       "      <th>summary</th>\n",
       "      <th>response</th>\n",
       "      <th>reason</th>\n",
       "      <th>dataset</th>\n",
       "      <th>model</th>\n",
       "    </tr>\n",
       "  </thead>\n",
       "  <tbody>\n",
       "    <tr>\n",
       "      <th>0</th>\n",
       "      <td>3</td>\n",
       "      <td>Influenza virus continues to pose a significan...</td>\n",
       "      <td>[{'role': 'assistant', 'content': 'Score: 3\\nR...</td>\n",
       "      <td>The text assumes some basic knowledge of biolo...</td>\n",
       "      <td>plos</td>\n",
       "      <td>3-70B-Instruct-own_reasoning</td>\n",
       "    </tr>\n",
       "    <tr>\n",
       "      <th>1</th>\n",
       "      <td>2</td>\n",
       "      <td>In Brazil , leprosy remains a significant publ...</td>\n",
       "      <td>[{'role': 'assistant', 'content': 'Score: 2\\nR...</td>\n",
       "      <td>The text assumes a significant amount of backg...</td>\n",
       "      <td>plos</td>\n",
       "      <td>3-70B-Instruct-own_reasoning</td>\n",
       "    </tr>\n",
       "    <tr>\n",
       "      <th>2</th>\n",
       "      <td>2</td>\n",
       "      <td>Leishmaniasis is a tropical disease transmitte...</td>\n",
       "      <td>[{'role': 'assistant', 'content': 'Score: 2\\nR...</td>\n",
       "      <td>The text assumes a high level of background kn...</td>\n",
       "      <td>plos</td>\n",
       "      <td>3-70B-Instruct-own_reasoning</td>\n",
       "    </tr>\n",
       "    <tr>\n",
       "      <th>3</th>\n",
       "      <td>2</td>\n",
       "      <td>We address how predictable evolution is at the...</td>\n",
       "      <td>[{'role': 'assistant', 'content': 'Score: 2\\nR...</td>\n",
       "      <td>The text assumes a high level of background kn...</td>\n",
       "      <td>plos</td>\n",
       "      <td>3-70B-Instruct-own_reasoning</td>\n",
       "    </tr>\n",
       "    <tr>\n",
       "      <th>4</th>\n",
       "      <td>2</td>\n",
       "      <td>Certain proteins can occasionally misfold into...</td>\n",
       "      <td>[{'role': 'assistant', 'content': 'Score: 2\\nR...</td>\n",
       "      <td>The text assumes a significant amount of backg...</td>\n",
       "      <td>plos</td>\n",
       "      <td>3-70B-Instruct-own_reasoning</td>\n",
       "    </tr>\n",
       "    <tr>\n",
       "      <th>...</th>\n",
       "      <td>...</td>\n",
       "      <td>...</td>\n",
       "      <td>...</td>\n",
       "      <td>...</td>\n",
       "      <td>...</td>\n",
       "      <td>...</td>\n",
       "    </tr>\n",
       "    <tr>\n",
       "      <th>27173</th>\n",
       "      <td>3</td>\n",
       "      <td>What catches our eye We are almost constantly ...</td>\n",
       "      <td>[{'role': 'assistant', 'content': 'Score: 3\\nR...</td>\n",
       "      <td>The text assumes a basic understanding of biol...</td>\n",
       "      <td>eureka</td>\n",
       "      <td>3-70B-Instruct-own_reasoning</td>\n",
       "    </tr>\n",
       "    <tr>\n",
       "      <th>27174</th>\n",
       "      <td>3</td>\n",
       "      <td>Molecule capable of halting and reverting Park...</td>\n",
       "      <td>[{'role': 'assistant', 'content': 'Score: 3\\nR...</td>\n",
       "      <td>The text assumes some basic knowledge of biolo...</td>\n",
       "      <td>eureka</td>\n",
       "      <td>3-70B-Instruct-own_reasoning</td>\n",
       "    </tr>\n",
       "    <tr>\n",
       "      <th>27175</th>\n",
       "      <td>4</td>\n",
       "      <td>Is the key to sparking climate action a game ?...</td>\n",
       "      <td>[{'role': 'assistant', 'content': 'Score: 4\\nR...</td>\n",
       "      <td>The text is well-structured and written in a c...</td>\n",
       "      <td>eureka</td>\n",
       "      <td>3-70B-Instruct-own_reasoning</td>\n",
       "    </tr>\n",
       "    <tr>\n",
       "      <th>27176</th>\n",
       "      <td>2</td>\n",
       "      <td>Jumping genes drive sex chromosome changes in ...</td>\n",
       "      <td>[{'role': 'assistant', 'content': 'Score: 2\\nR...</td>\n",
       "      <td>The text assumes a significant amount of backg...</td>\n",
       "      <td>eureka</td>\n",
       "      <td>3-70B-Instruct-own_reasoning</td>\n",
       "    </tr>\n",
       "    <tr>\n",
       "      <th>27177</th>\n",
       "      <td>4</td>\n",
       "      <td>Ocean acidification may reduce sea scallop fis...</td>\n",
       "      <td>[{'role': 'assistant', 'content': 'Score: 4\\nR...</td>\n",
       "      <td>The text is written in a clear and concise man...</td>\n",
       "      <td>eureka</td>\n",
       "      <td>3-70B-Instruct-own_reasoning</td>\n",
       "    </tr>\n",
       "  </tbody>\n",
       "</table>\n",
       "<p>27178 rows × 6 columns</p>\n",
       "</div>"
      ],
      "text/plain": [
       "       readability                                            summary  \\\n",
       "0                3  Influenza virus continues to pose a significan...   \n",
       "1                2  In Brazil , leprosy remains a significant publ...   \n",
       "2                2  Leishmaniasis is a tropical disease transmitte...   \n",
       "3                2  We address how predictable evolution is at the...   \n",
       "4                2  Certain proteins can occasionally misfold into...   \n",
       "...            ...                                                ...   \n",
       "27173            3  What catches our eye We are almost constantly ...   \n",
       "27174            3  Molecule capable of halting and reverting Park...   \n",
       "27175            4  Is the key to sparking climate action a game ?...   \n",
       "27176            2  Jumping genes drive sex chromosome changes in ...   \n",
       "27177            4  Ocean acidification may reduce sea scallop fis...   \n",
       "\n",
       "                                                response  \\\n",
       "0      [{'role': 'assistant', 'content': 'Score: 3\\nR...   \n",
       "1      [{'role': 'assistant', 'content': 'Score: 2\\nR...   \n",
       "2      [{'role': 'assistant', 'content': 'Score: 2\\nR...   \n",
       "3      [{'role': 'assistant', 'content': 'Score: 2\\nR...   \n",
       "4      [{'role': 'assistant', 'content': 'Score: 2\\nR...   \n",
       "...                                                  ...   \n",
       "27173  [{'role': 'assistant', 'content': 'Score: 3\\nR...   \n",
       "27174  [{'role': 'assistant', 'content': 'Score: 3\\nR...   \n",
       "27175  [{'role': 'assistant', 'content': 'Score: 4\\nR...   \n",
       "27176  [{'role': 'assistant', 'content': 'Score: 2\\nR...   \n",
       "27177  [{'role': 'assistant', 'content': 'Score: 4\\nR...   \n",
       "\n",
       "                                                  reason dataset  \\\n",
       "0      The text assumes some basic knowledge of biolo...    plos   \n",
       "1      The text assumes a significant amount of backg...    plos   \n",
       "2      The text assumes a high level of background kn...    plos   \n",
       "3      The text assumes a high level of background kn...    plos   \n",
       "4      The text assumes a significant amount of backg...    plos   \n",
       "...                                                  ...     ...   \n",
       "27173  The text assumes a basic understanding of biol...  eureka   \n",
       "27174  The text assumes some basic knowledge of biolo...  eureka   \n",
       "27175  The text is well-structured and written in a c...  eureka   \n",
       "27176  The text assumes a significant amount of backg...  eureka   \n",
       "27177  The text is written in a clear and concise man...  eureka   \n",
       "\n",
       "                              model  \n",
       "0      3-70B-Instruct-own_reasoning  \n",
       "1      3-70B-Instruct-own_reasoning  \n",
       "2      3-70B-Instruct-own_reasoning  \n",
       "3      3-70B-Instruct-own_reasoning  \n",
       "4      3-70B-Instruct-own_reasoning  \n",
       "...                             ...  \n",
       "27173  3-70B-Instruct-own_reasoning  \n",
       "27174  3-70B-Instruct-own_reasoning  \n",
       "27175  3-70B-Instruct-own_reasoning  \n",
       "27176  3-70B-Instruct-own_reasoning  \n",
       "27177  3-70B-Instruct-own_reasoning  \n",
       "\n",
       "[27178 rows x 6 columns]"
      ]
     },
     "execution_count": 5,
     "metadata": {},
     "output_type": "execute_result"
    }
   ],
   "source": [
    "def get_scores(files_list):\n",
    "    objs = []\n",
    "    for f_name in files_list:\n",
    "        df = pd.read_csv(f_name)\n",
    "        try:\n",
    "            scores = df['reading_ease'].to_list()\n",
    "            responses = df['response'].to_list()\n",
    "            reasons = df['reason'].to_list()\n",
    "            dataset = f_name.split('.')[-2]\n",
    "            summaries = get_summaries(dataset)\n",
    "            model = f_name.split('.')[-3]\n",
    "            objs.append(\n",
    "                pd.DataFrame.from_dict(\n",
    "                    {\n",
    "                    'readability': scores, \n",
    "                    'summary': summaries,\n",
    "                    'response': responses, \n",
    "                    'reason': reasons,\n",
    "                    'dataset': dataset, \n",
    "                    'model': model})\n",
    "            )\n",
    "        except KeyError:\n",
    "            print(f_name)\n",
    "    return pd.concat(axis=0, ignore_index=True, objs=objs)\n",
    "all_scores = get_scores(output_files)\n",
    "all_scores"
   ]
  },
  {
   "cell_type": "code",
   "execution_count": 6,
   "metadata": {},
   "outputs": [
    {
     "name": "stderr",
     "output_type": "stream",
     "text": [
      "/home/icachol1/py-readability-metrics/readability/readability.py:12: UserWarning: Documents with fewer than 100 words may affect the accuracy of readability tests\n",
      "  warnings.warn(\n"
     ]
    },
    {
     "data": {
      "text/plain": [
       "0.46999999999999886"
      ]
     },
     "execution_count": 6,
     "metadata": {},
     "output_type": "execute_result"
    }
   ],
   "source": [
    "def get_readability(text):\n",
    "  try:\n",
    "    r = Readability(text, min_words=4)\n",
    "    return r.flesch_kincaid().score\n",
    "  except Exception as e:\n",
    "    return -1\n",
    "r = Readability(\"This is a test sentence.\", min_words=4)\n",
    "r.flesch_kincaid().score"
   ]
  },
  {
   "cell_type": "code",
   "execution_count": 7,
   "metadata": {},
   "outputs": [],
   "source": [
    "all_scores['fkgl'] = all_scores['summary'].apply(get_readability)"
   ]
  },
  {
   "cell_type": "code",
   "execution_count": 8,
   "metadata": {},
   "outputs": [
    {
     "name": "stdout",
     "output_type": "stream",
     "text": [
      "14944 / 27176\n"
     ]
    },
    {
     "name": "stderr",
     "output_type": "stream",
     "text": [
      "/tmp/ipykernel_1670443/4266298086.py:6: SettingWithCopyWarning: \n",
      "A value is trying to be set on a copy of a slice from a DataFrame.\n",
      "Try using .loc[row_indexer,col_indexer] = value instead\n",
      "\n",
      "See the caveats in the documentation: https://pandas.pydata.org/pandas-docs/stable/user_guide/indexing.html#returning-a-view-versus-a-copy\n",
      "  tmp['fkglbinary'] = fkglbinary.apply(int)\n",
      "/tmp/ipykernel_1670443/4266298086.py:7: SettingWithCopyWarning: \n",
      "A value is trying to be set on a copy of a slice from a DataFrame.\n",
      "Try using .loc[row_indexer,col_indexer] = value instead\n",
      "\n",
      "See the caveats in the documentation: https://pandas.pydata.org/pandas-docs/stable/user_guide/indexing.html#returning-a-view-versus-a-copy\n",
      "  tmp['lm_binary'] = lm_binary.apply(int)\n"
     ]
    },
    {
     "data": {
      "text/plain": [
       "np.float64(0.16684697684830097)"
      ]
     },
     "execution_count": 8,
     "metadata": {},
     "output_type": "execute_result"
    }
   ],
   "source": [
    "def get_aggreement_from_binary(r_level, lm_level):\n",
    "    try:\n",
    "        tmp = all_scores[all_scores['fkgl'] != -1]\n",
    "        fkglbinary = tmp['fkgl'] < r_level\n",
    "        lm_binary = tmp['readability'] >= lm_level\n",
    "        tmp['fkglbinary'] = fkglbinary.apply(int)\n",
    "        tmp['lm_binary'] = lm_binary.apply(int)\n",
    "        print(f\"{sum(tmp['fkglbinary'] == tmp['lm_binary'])} / {len(tmp)}\")\n",
    "        return cohen_kappa_score(tmp['fkglbinary'], tmp['lm_binary'])\n",
    "    except:\n",
    "    \n",
    "        return -10000\n",
    "get_aggreement_from_binary(16, 3)"
   ]
  },
  {
   "cell_type": "markdown",
   "metadata": {},
   "source": [
    "## Keyword Analysis"
   ]
  },
  {
   "cell_type": "code",
   "execution_count": 9,
   "metadata": {},
   "outputs": [],
   "source": [
    "stops = set(stopwords.words('english'))\n",
    "def get_keywords(text, n=4, dedupLim=3.0):\n",
    "    kw_extractor = yake.KeywordExtractor(lan=\"en\", n=n, dedupLim=dedupLim, top=10, features=None, stopwords=stops)\n",
    "    keywords = kw_extractor.extract_keywords(text)\n",
    "    return [k[1] for k in keywords]"
   ]
  },
  {
   "cell_type": "code",
   "execution_count": 10,
   "metadata": {},
   "outputs": [],
   "source": [
    "def get_txt(d_name):\n",
    "    tmp = all_scores[all_scores['dataset']==d_name]\n",
    "    text = '\\n'.join(tmp['reason']).lower()\n",
    "    print(len(text))\n",
    "    return text"
   ]
  },
  {
   "cell_type": "code",
   "execution_count": 11,
   "metadata": {},
   "outputs": [],
   "source": [
    "def get_txt_by_score(score):\n",
    "    tmp = all_scores[all_scores['readability']==score]\n",
    "    tmp = tmp.dropna(subset=['reason'])\n",
    "    text = '\\n'.join(tmp['reason']).lower()\n",
    "    return text"
   ]
  },
  {
   "cell_type": "code",
   "execution_count": 46,
   "metadata": {},
   "outputs": [
    {
     "name": "stdout",
     "output_type": "stream",
     "text": [
      "expert background knowledge, strong background knowledge, text also assumes, text requires expert, background knowledge, highly technical, text assumes, text also, text also includes, text\n"
     ]
    }
   ],
   "source": [
    "print(', '.join(get_keywords(get_txt_by_score(1), n=3, dedupLim=1.0)))"
   ]
  },
  {
   "cell_type": "code",
   "execution_count": 13,
   "metadata": {},
   "outputs": [
    {
     "name": "stdout",
     "output_type": "stream",
     "text": [
      "text assumes, background knowledge, using technical terms, text discusses complex, strong background knowledge, require specialized knowledge, using specialized terms, technical terms like, requires specialized knowledge, text\n"
     ]
    }
   ],
   "source": [
    "print(', '.join(get_keywords(get_txt_by_score(2), n=3, dedupLim=2.0)))"
   ]
  },
  {
   "cell_type": "code",
   "execution_count": 48,
   "metadata": {},
   "outputs": [
    {
     "name": "stdout",
     "output_type": "stream",
     "text": [
      "understandable for a general, adults with some medical, terms are not highly, concepts and the sentence, making it a challenging, readable with some basic, understandable for the general, audience than just medical, clear to a general, vocabulary of the text\n"
     ]
    }
   ],
   "source": [
    "print(', '.join(get_keywords(get_txt_by_score(3),  n=4, dedupLim=2.0)))"
   ]
  },
  {
   "cell_type": "code",
   "execution_count": 15,
   "metadata": {},
   "outputs": [
    {
     "name": "stdout",
     "output_type": "stream",
     "text": [
      "explanation for the non-expert, understanding are the use, context in a clear, explanations for the non-expert, terms for a non-expert, terms for those without, understanding are the medical, familiarity with these concepts, understandable for some readers, topic itself is specialized\n"
     ]
    }
   ],
   "source": [
    "print(', '.join(get_keywords(get_txt_by_score(4))))"
   ]
  },
  {
   "cell_type": "code",
   "execution_count": 16,
   "metadata": {},
   "outputs": [
    {
     "name": "stdout",
     "output_type": "stream",
     "text": [
      "concepts in an accessible, language that is easy, text to be accessible, easy for a general, concepts that are easy, text uses simple language, text uses simple, text also uses relatable, text also uses, text\n"
     ]
    }
   ],
   "source": [
    "print(', '.join(get_keywords(get_txt_by_score(5))))"
   ]
  },
  {
   "cell_type": "markdown",
   "metadata": {},
   "source": [
    "### keywords by dataset"
   ]
  },
  {
   "cell_type": "code",
   "execution_count": 17,
   "metadata": {},
   "outputs": [
    {
     "name": "stdout",
     "output_type": "stream",
     "text": [
      "4133804\n",
      "familiar with the specific, expertise in this area, research in a specialized, vocabulary and the specialized, suggests that a significant, matter and is likely, likely for an academic, sentences and the use, understand for an adult, readers with some expertise\n"
     ]
    }
   ],
   "source": [
    "arxiv = get_txt('arxiv')\n",
    "print(', '.join(get_keywords(arxiv)))"
   ]
  },
  {
   "cell_type": "code",
   "execution_count": 18,
   "metadata": {},
   "outputs": [
    {
     "name": "stdout",
     "output_type": "stream",
     "text": [
      "4522916\n",
      "knowledge about the disease, accessible than a highly, indicating that some readers, understanding of its content, background or some familiarity, structure of a scientific, rather than being highly, methods that are likely, professionals with a strong, concepts such as molecular\n"
     ]
    }
   ],
   "source": [
    "pubmed = get_txt('pubmed')\n",
    "print(', '.join(get_keywords(pubmed)))"
   ]
  },
  {
   "cell_type": "code",
   "execution_count": 19,
   "metadata": {},
   "outputs": [
    {
     "name": "stdout",
     "output_type": "stream",
     "text": [
      "161821\n",
      "easy for most adults, understand for most adults, understand for an adult, straightforward and the concepts, easy for an adult, understand for most adult, readers with a basic, reader with a basic, population with some basic, concepts in a clear\n"
     ]
    }
   ],
   "source": [
    "skj = get_txt('skj')\n",
    "print(', '.join(get_keywords(skj)))"
   ]
  },
  {
   "cell_type": "code",
   "execution_count": 50,
   "metadata": {},
   "outputs": [
    {
     "name": "stdout",
     "output_type": "stream",
     "text": [
      "36744\n",
      "text, text assumes some basic, text assumes, basic knowledge, assumes some basic knowledge, basic knowledge of medical, knowledge, general adult audience, medical, background knowledge\n"
     ]
    }
   ],
   "source": [
    "cdsr = get_txt('cdsr')\n",
    "print(', '.join(get_keywords(cdsr)))"
   ]
  },
  {
   "cell_type": "code",
   "execution_count": 21,
   "metadata": {},
   "outputs": [
    {
     "name": "stdout",
     "output_type": "stream",
     "text": [
      "296661\n"
     ]
    },
    {
     "data": {
      "text/plain": [
       "'terms or the context, context for these terms, specific to these fields, intended for a general, audience with some general, audience with some technical, networks and the concept, fields such as artificial, likely from the field, audience with some background'"
      ]
     },
     "execution_count": 21,
     "metadata": {},
     "output_type": "execute_result"
    }
   ],
   "source": [
    "scitldr = get_txt('scitldr')\n",
    "', '.join(get_keywords(scitldr))"
   ]
  },
  {
   "cell_type": "code",
   "execution_count": 53,
   "metadata": {},
   "outputs": [
    {
     "name": "stdout",
     "output_type": "stream",
     "text": [
      "928214\n",
      "text assumes, background knowledge, text discusses complex, text, using technical terms, require specialized knowledge, strong background knowledge, specialized knowledge, knowledge, discusses complex concepts\n"
     ]
    }
   ],
   "source": [
    "plos = get_txt('plos')\n",
    "print(', '.join(get_keywords(plos, n=3, dedupLim=2.0)))"
   ]
  },
  {
   "cell_type": "code",
   "execution_count": 51,
   "metadata": {},
   "outputs": [
    {
     "name": "stdout",
     "output_type": "stream",
     "text": [
      "766651\n",
      "general adult audience, text assumes, text, background knowledge, basic knowledge, require specialized knowledge, require expert-level knowledge, knowledge, text may require, may require\n"
     ]
    }
   ],
   "source": [
    "eureka = get_txt('eureka')\n",
    "print(', '.join(get_keywords(eureka, n=3, dedupLim=2.0)))"
   ]
  },
  {
   "cell_type": "code",
   "execution_count": 24,
   "metadata": {},
   "outputs": [
    {
     "name": "stdout",
     "output_type": "stream",
     "text": [
      "172378\n",
      "readers with a background, explanation for the technical, explanation of the concepts, explanation for the concepts, understand for a general, explanations for the technical, audience with a background, explanation of these concepts, understanding of the concepts, without such a background\n"
     ]
    }
   ],
   "source": [
    "elife = get_txt('elife')\n",
    "print(', '.join(get_keywords(elife)))"
   ]
  },
  {
   "cell_type": "code",
   "execution_count": 25,
   "metadata": {},
   "outputs": [
    {
     "name": "stdout",
     "output_type": "stream",
     "text": [
      "4117628\n",
      "adult with no expert, audience with no science, familiar with the concept, topic itself is specialized, familiar with the general, matter and the level, topic is a specialized, foundation in these fields, readers with some scientific, reader with some scientific\n"
     ]
    }
   ],
   "source": [
    "cells = get_txt('cells')\n",
    "print(', '.join(get_keywords(cells)))"
   ]
  },
  {
   "cell_type": "code",
   "execution_count": 26,
   "metadata": {},
   "outputs": [
    {
     "name": "stdout",
     "output_type": "stream",
     "text": [
      "3191243\n",
      "understandable by those without, knowledge of a specific, field and its use, understand all the details, includes a few specialized, knowledge of the academic, make it more readable, understanding of these fields, concepts to a level, unfamiliar to those without\n"
     ]
    }
   ],
   "source": [
    "scinews = get_txt('scinews')\n",
    "print(', '.join(get_keywords(scinews)))"
   ]
  },
  {
   "cell_type": "markdown",
   "metadata": {},
   "source": [
    "# Scores analysis"
   ]
  },
  {
   "cell_type": "code",
   "execution_count": 28,
   "metadata": {},
   "outputs": [
    {
     "data": {
      "text/plain": [
       "dataset\n",
       "arxiv      14.828584\n",
       "cdsr       14.084669\n",
       "cells      16.470050\n",
       "elife      11.869979\n",
       "eureka     14.987506\n",
       "plos       15.789545\n",
       "pubmed     16.680985\n",
       "scinews    14.983279\n",
       "scitldr    15.661621\n",
       "skj         8.957463\n",
       "Name: fkgl, dtype: float64"
      ]
     },
     "execution_count": 28,
     "metadata": {},
     "output_type": "execute_result"
    }
   ],
   "source": [
    "all_scores.groupby('dataset')['fkgl'].mean()"
   ]
  },
  {
   "cell_type": "code",
   "execution_count": 27,
   "metadata": {},
   "outputs": [
    {
     "data": {
      "text/plain": [
       "dataset\n",
       "arxiv      1.313354\n",
       "cdsr       3.490566\n",
       "cells      2.230867\n",
       "elife      3.178423\n",
       "eureka     3.214851\n",
       "plos       2.061773\n",
       "pubmed     1.992038\n",
       "scinews    3.370821\n",
       "scitldr    1.855987\n",
       "skj        4.401408\n",
       "Name: readability, dtype: float64"
      ]
     },
     "execution_count": 27,
     "metadata": {},
     "output_type": "execute_result"
    }
   ],
   "source": [
    "all_scores.groupby('dataset')['readability'].mean()"
   ]
  },
  {
   "cell_type": "code",
   "execution_count": 29,
   "metadata": {},
   "outputs": [
    {
     "data": {
      "text/plain": [
       "dataset\n",
       "arxiv      1.0\n",
       "cdsr       4.0\n",
       "cells      2.0\n",
       "elife      3.0\n",
       "eureka     3.0\n",
       "plos       2.0\n",
       "pubmed     2.0\n",
       "scinews    4.0\n",
       "scitldr    2.0\n",
       "skj        4.0\n",
       "Name: readability, dtype: float64"
      ]
     },
     "execution_count": 29,
     "metadata": {},
     "output_type": "execute_result"
    }
   ],
   "source": [
    "all_scores.groupby('dataset')['readability'].median()"
   ]
  },
  {
   "cell_type": "code",
   "execution_count": 30,
   "metadata": {},
   "outputs": [
    {
     "data": {
      "text/plain": [
       "dataset\n",
       "arxiv      0.229795\n",
       "cdsr       0.523948\n",
       "cells      0.504061\n",
       "elife      0.647199\n",
       "eureka     0.666380\n",
       "plos       0.260181\n",
       "pubmed     0.187587\n",
       "scinews    0.637477\n",
       "scitldr    0.324445\n",
       "skj        0.241129\n",
       "Name: readability, dtype: float64"
      ]
     },
     "execution_count": 30,
     "metadata": {},
     "output_type": "execute_result"
    }
   ],
   "source": [
    "all_scores.groupby('dataset')['readability'].var()"
   ]
  },
  {
   "cell_type": "code",
   "execution_count": 31,
   "metadata": {},
   "outputs": [
    {
     "data": {
      "text/plain": [
       "dataset  readability\n",
       "arxiv    1              4464\n",
       "         2              1939\n",
       "         3                32\n",
       "         4                 5\n",
       "cdsr     4                33\n",
       "         3                13\n",
       "         2                 7\n",
       "cells    2              4675\n",
       "         4               627\n",
       "         3               606\n",
       "         1               403\n",
       "elife    4               103\n",
       "         3                78\n",
       "         2                60\n",
       "eureka   4               467\n",
       "         3               294\n",
       "         2               248\n",
       "         1                 1\n",
       "plos     2              1145\n",
       "         1                95\n",
       "         3                92\n",
       "         4                44\n",
       "pubmed   2              5738\n",
       "         1               541\n",
       "         3               268\n",
       "         4               110\n",
       "scinews  4              2390\n",
       "         3               970\n",
       "         2               819\n",
       "         1                 9\n",
       "scitldr  2               456\n",
       "         1               134\n",
       "         4                17\n",
       "         3                11\n",
       "skj      4               170\n",
       "         5               114\n",
       "Name: count, dtype: int64"
      ]
     },
     "execution_count": 31,
     "metadata": {},
     "output_type": "execute_result"
    }
   ],
   "source": [
    "all_scores.groupby('dataset')['readability'].value_counts()"
   ]
  },
  {
   "cell_type": "code",
   "execution_count": 32,
   "metadata": {},
   "outputs": [
    {
     "data": {
      "text/plain": [
       "dataset\n",
       "pubmed     6657\n",
       "arxiv      6440\n",
       "cells      6311\n",
       "scinews    4188\n",
       "plos       1376\n",
       "eureka     1010\n",
       "scitldr     618\n",
       "skj         284\n",
       "elife       241\n",
       "cdsr         53\n",
       "Name: count, dtype: int64"
      ]
     },
     "execution_count": 32,
     "metadata": {},
     "output_type": "execute_result"
    }
   ],
   "source": [
    "all_scores['dataset'].value_counts()"
   ]
  },
  {
   "cell_type": "code",
   "execution_count": 33,
   "metadata": {},
   "outputs": [
    {
     "data": {
      "text/html": [
       "<div>\n",
       "<style scoped>\n",
       "    .dataframe tbody tr th:only-of-type {\n",
       "        vertical-align: middle;\n",
       "    }\n",
       "\n",
       "    .dataframe tbody tr th {\n",
       "        vertical-align: top;\n",
       "    }\n",
       "\n",
       "    .dataframe thead th {\n",
       "        text-align: right;\n",
       "    }\n",
       "</style>\n",
       "<table border=\"1\" class=\"dataframe\">\n",
       "  <thead>\n",
       "    <tr style=\"text-align: right;\">\n",
       "      <th>dataset</th>\n",
       "      <th>arxiv</th>\n",
       "      <th>cdsr</th>\n",
       "      <th>cells</th>\n",
       "      <th>elife</th>\n",
       "      <th>eureka</th>\n",
       "      <th>plos</th>\n",
       "      <th>pubmed</th>\n",
       "      <th>scinews</th>\n",
       "      <th>scitldr</th>\n",
       "      <th>skj</th>\n",
       "    </tr>\n",
       "    <tr>\n",
       "      <th>readability</th>\n",
       "      <th></th>\n",
       "      <th></th>\n",
       "      <th></th>\n",
       "      <th></th>\n",
       "      <th></th>\n",
       "      <th></th>\n",
       "      <th></th>\n",
       "      <th></th>\n",
       "      <th></th>\n",
       "      <th></th>\n",
       "    </tr>\n",
       "  </thead>\n",
       "  <tbody>\n",
       "    <tr>\n",
       "      <th>1</th>\n",
       "      <td>4464.0</td>\n",
       "      <td>0.0</td>\n",
       "      <td>403.0</td>\n",
       "      <td>0.0</td>\n",
       "      <td>1.0</td>\n",
       "      <td>95.0</td>\n",
       "      <td>541.0</td>\n",
       "      <td>9.0</td>\n",
       "      <td>134.0</td>\n",
       "      <td>0.0</td>\n",
       "    </tr>\n",
       "    <tr>\n",
       "      <th>2</th>\n",
       "      <td>1939.0</td>\n",
       "      <td>7.0</td>\n",
       "      <td>4675.0</td>\n",
       "      <td>60.0</td>\n",
       "      <td>248.0</td>\n",
       "      <td>1145.0</td>\n",
       "      <td>5738.0</td>\n",
       "      <td>819.0</td>\n",
       "      <td>456.0</td>\n",
       "      <td>0.0</td>\n",
       "    </tr>\n",
       "    <tr>\n",
       "      <th>3</th>\n",
       "      <td>32.0</td>\n",
       "      <td>13.0</td>\n",
       "      <td>606.0</td>\n",
       "      <td>78.0</td>\n",
       "      <td>294.0</td>\n",
       "      <td>92.0</td>\n",
       "      <td>268.0</td>\n",
       "      <td>970.0</td>\n",
       "      <td>11.0</td>\n",
       "      <td>0.0</td>\n",
       "    </tr>\n",
       "    <tr>\n",
       "      <th>4</th>\n",
       "      <td>5.0</td>\n",
       "      <td>33.0</td>\n",
       "      <td>627.0</td>\n",
       "      <td>103.0</td>\n",
       "      <td>467.0</td>\n",
       "      <td>44.0</td>\n",
       "      <td>110.0</td>\n",
       "      <td>2390.0</td>\n",
       "      <td>17.0</td>\n",
       "      <td>170.0</td>\n",
       "    </tr>\n",
       "    <tr>\n",
       "      <th>5</th>\n",
       "      <td>0.0</td>\n",
       "      <td>0.0</td>\n",
       "      <td>0.0</td>\n",
       "      <td>0.0</td>\n",
       "      <td>0.0</td>\n",
       "      <td>0.0</td>\n",
       "      <td>0.0</td>\n",
       "      <td>0.0</td>\n",
       "      <td>0.0</td>\n",
       "      <td>114.0</td>\n",
       "    </tr>\n",
       "  </tbody>\n",
       "</table>\n",
       "</div>"
      ],
      "text/plain": [
       "dataset       arxiv  cdsr   cells  elife  eureka    plos  pubmed  scinews  \\\n",
       "readability                                                                 \n",
       "1            4464.0   0.0   403.0    0.0     1.0    95.0   541.0      9.0   \n",
       "2            1939.0   7.0  4675.0   60.0   248.0  1145.0  5738.0    819.0   \n",
       "3              32.0  13.0   606.0   78.0   294.0    92.0   268.0    970.0   \n",
       "4               5.0  33.0   627.0  103.0   467.0    44.0   110.0   2390.0   \n",
       "5               0.0   0.0     0.0    0.0     0.0     0.0     0.0      0.0   \n",
       "\n",
       "dataset      scitldr    skj  \n",
       "readability                  \n",
       "1              134.0    0.0  \n",
       "2              456.0    0.0  \n",
       "3               11.0    0.0  \n",
       "4               17.0  170.0  \n",
       "5                0.0  114.0  "
      ]
     },
     "execution_count": 33,
     "metadata": {},
     "output_type": "execute_result"
    }
   ],
   "source": [
    "all_scores['readability'] = all_scores['readability'].round()\n",
    "tmp = all_scores.groupby('dataset')['readability'].value_counts().to_frame()\n",
    "tmp = tmp.pivot_table(values=\"count\", columns=\"dataset\",index=\"readability\")\n",
    "tmp.fillna(0, inplace=True)\n",
    "tmp"
   ]
  },
  {
   "cell_type": "code",
   "execution_count": 34,
   "metadata": {},
   "outputs": [],
   "source": [
    "tmp.to_csv(f\"{output_dir}/readability_counts.csv\")"
   ]
  },
  {
   "cell_type": "code",
   "execution_count": 35,
   "metadata": {},
   "outputs": [
    {
     "data": {
      "image/png": "[encoded data removed]",
      "text/plain": [
       "<Figure size 1500x600 with 7 Axes>"
      ]
     },
     "metadata": {},
     "output_type": "display_data"
    }
   ],
   "source": [
    "g = sns.FacetGrid(all_scores, \n",
    "                col=\"dataset\", \n",
    "                col_order=[\n",
    "                    \"arxiv\", \n",
    "                    \"pubmed\", \n",
    "                    \"scitldr\",\n",
    "                    \"cdsr\", \n",
    "                    \"plos\", \n",
    "                    \"elife\", \n",
    "                    \"cells\", \n",
    "                    ],\n",
    "                sharey=False, \n",
    "                sharex=False, \n",
    "                xlim=(0.5,5.5), \n",
    "                col_wrap=5\n",
    "                )\n",
    "\n",
    "# Map the histplot function to each subplot\n",
    "g.map(sns.histplot, \"readability\")\n",
    "\n",
    "# g.refline(x=all_scores[\"readability\"].mean())\n",
    "g.set_titles(col_template=\"{col_name}\")\n",
    "# Adjust the layout and show the plot\n",
    "plt.tight_layout()\n",
    "plt.show()"
   ]
  },
  {
   "cell_type": "code",
   "execution_count": 36,
   "metadata": {},
   "outputs": [],
   "source": [
    "summaries_files = glob.glob(f\"{dataset_dir}/targets/*.target\")"
   ]
  },
  {
   "cell_type": "code",
   "execution_count": 37,
   "metadata": {},
   "outputs": [],
   "source": [
    "format_str = \"\"\"\\\n",
    "Mean: {:0.2f}\n",
    "Median: {:0.0f}\n",
    "Max: {:0.0f}\n",
    "Min: {:0.0f}\n",
    "Var:{:0.2f}\n",
    "\"\"\"\n",
    "\n",
    "def get_len(text):\n",
    "    return len(text.strip().split())\n",
    "\n",
    "def analyze_texts(texts, return_n_tokens=False):\n",
    "    n_tokens = np.zeros(len(texts))\n",
    "    for i, t in enumerate(texts):\n",
    "        n_tokens[i] = get_len(t)\n",
    "    if return_n_tokens:\n",
    "        return n_tokens\n",
    "    return [np.mean(n_tokens),\n",
    "        np.median(n_tokens),\n",
    "        np.max(n_tokens),\n",
    "        np.min(n_tokens),\n",
    "        np.var(n_tokens)]\n",
    "        \n",
    "def analyze_file(fpath, return_n_tokens=False):\n",
    "    with open(fpath) as f:\n",
    "        texts = f.readlines()\n",
    "    return analyze_texts(texts, return_n_tokens)"
   ]
  },
  {
   "cell_type": "code",
   "execution_count": 38,
   "metadata": {},
   "outputs": [
    {
     "data": {
      "text/html": [
       "<div>\n",
       "<style scoped>\n",
       "    .dataframe tbody tr th:only-of-type {\n",
       "        vertical-align: middle;\n",
       "    }\n",
       "\n",
       "    .dataframe tbody tr th {\n",
       "        vertical-align: top;\n",
       "    }\n",
       "\n",
       "    .dataframe thead th {\n",
       "        text-align: right;\n",
       "    }\n",
       "</style>\n",
       "<table border=\"1\" class=\"dataframe\">\n",
       "  <thead>\n",
       "    <tr style=\"text-align: right;\">\n",
       "      <th></th>\n",
       "      <th>dataset</th>\n",
       "      <th>mean</th>\n",
       "      <th>median</th>\n",
       "      <th>max</th>\n",
       "      <th>min</th>\n",
       "      <th>var</th>\n",
       "    </tr>\n",
       "  </thead>\n",
       "  <tbody>\n",
       "  </tbody>\n",
       "</table>\n",
       "</div>"
      ],
      "text/plain": [
       "Empty DataFrame\n",
       "Columns: [dataset, mean, median, max, min, var]\n",
       "Index: []"
      ]
     },
     "execution_count": 38,
     "metadata": {},
     "output_type": "execute_result"
    }
   ],
   "source": [
    "col_names = [\"dataset\", \"mean\", \"median\", \"max\", \"min\", \"var\"]\n",
    "rows = []\n",
    "for f_name in summaries_files:\n",
    "    dataset_name = f_name.split('/')[-1].split('.')[-2]\n",
    "    stats = analyze_file(f_name)\n",
    "    rows.append([dataset_name]+stats)\n",
    "\n",
    "df = pd.DataFrame(rows, columns=col_names)\n",
    "df\n"
   ]
  },
  {
   "cell_type": "code",
   "execution_count": 39,
   "metadata": {},
   "outputs": [
    {
     "data": {
      "text/html": [
       "<div>\n",
       "<style scoped>\n",
       "    .dataframe tbody tr th:only-of-type {\n",
       "        vertical-align: middle;\n",
       "    }\n",
       "\n",
       "    .dataframe tbody tr th {\n",
       "        vertical-align: top;\n",
       "    }\n",
       "\n",
       "    .dataframe thead th {\n",
       "        text-align: right;\n",
       "    }\n",
       "</style>\n",
       "<table border=\"1\" class=\"dataframe\">\n",
       "  <thead>\n",
       "    <tr style=\"text-align: right;\">\n",
       "      <th></th>\n",
       "      <th>readability</th>\n",
       "      <th>summary</th>\n",
       "      <th>response</th>\n",
       "      <th>reason</th>\n",
       "      <th>dataset</th>\n",
       "      <th>model</th>\n",
       "      <th>fkgl</th>\n",
       "    </tr>\n",
       "  </thead>\n",
       "  <tbody>\n",
       "    <tr>\n",
       "      <th>14652</th>\n",
       "      <td>2</td>\n",
       "      <td>An international team of researchers with key ...</td>\n",
       "      <td>[{'role': 'assistant', 'content': 'Score: 2\\nR...</td>\n",
       "      <td>The text assumes a significant amount of backg...</td>\n",
       "      <td>scinews</td>\n",
       "      <td>3-70B-Instruct-own_reasoning</td>\n",
       "      <td>13.518761</td>\n",
       "    </tr>\n",
       "    <tr>\n",
       "      <th>14653</th>\n",
       "      <td>4</td>\n",
       "      <td>Exposure to antibiotics in the first days of l...</td>\n",
       "      <td>[{'role': 'assistant', 'content': 'Score: 4\\nR...</td>\n",
       "      <td>The text assumes some basic knowledge of medic...</td>\n",
       "      <td>scinews</td>\n",
       "      <td>3-70B-Instruct-own_reasoning</td>\n",
       "      <td>15.670000</td>\n",
       "    </tr>\n",
       "    <tr>\n",
       "      <th>14654</th>\n",
       "      <td>3</td>\n",
       "      <td>An ancient biological enzyme known as nickel-i...</td>\n",
       "      <td>[{'role': 'assistant', 'content': 'Score: 3\\nR...</td>\n",
       "      <td>The text assumes a basic understanding of chem...</td>\n",
       "      <td>scinews</td>\n",
       "      <td>3-70B-Instruct-own_reasoning</td>\n",
       "      <td>16.319851</td>\n",
       "    </tr>\n",
       "    <tr>\n",
       "      <th>14655</th>\n",
       "      <td>4</td>\n",
       "      <td>Older people who experience significant weight...</td>\n",
       "      <td>[{'role': 'assistant', 'content': \"Score: 4\\nR...</td>\n",
       "      <td>The text assumes some basic knowledge of healt...</td>\n",
       "      <td>scinews</td>\n",
       "      <td>3-70B-Instruct-own_reasoning</td>\n",
       "      <td>14.629856</td>\n",
       "    </tr>\n",
       "    <tr>\n",
       "      <th>14656</th>\n",
       "      <td>3</td>\n",
       "      <td>An international study led by the University C...</td>\n",
       "      <td>[{'role': 'assistant', 'content': 'Score: 3\\nR...</td>\n",
       "      <td>The text assumes a basic understanding of scie...</td>\n",
       "      <td>scinews</td>\n",
       "      <td>3-70B-Instruct-own_reasoning</td>\n",
       "      <td>18.882038</td>\n",
       "    </tr>\n",
       "    <tr>\n",
       "      <th>...</th>\n",
       "      <td>...</td>\n",
       "      <td>...</td>\n",
       "      <td>...</td>\n",
       "      <td>...</td>\n",
       "      <td>...</td>\n",
       "      <td>...</td>\n",
       "      <td>...</td>\n",
       "    </tr>\n",
       "    <tr>\n",
       "      <th>18835</th>\n",
       "      <td>3</td>\n",
       "      <td>A key technical challenge in creating new sulf...</td>\n",
       "      <td>[{'role': 'assistant', 'content': 'Score: 3\\nR...</td>\n",
       "      <td>The text assumes a basic understanding of chem...</td>\n",
       "      <td>scinews</td>\n",
       "      <td>3-70B-Instruct-own_reasoning</td>\n",
       "      <td>15.326073</td>\n",
       "    </tr>\n",
       "    <tr>\n",
       "      <th>18836</th>\n",
       "      <td>3</td>\n",
       "      <td>Increased carbon sequestration in soil to help...</td>\n",
       "      <td>[{'role': 'assistant', 'content': 'Score: 3\\nR...</td>\n",
       "      <td>The text assumes a basic understanding of envi...</td>\n",
       "      <td>scinews</td>\n",
       "      <td>3-70B-Instruct-own_reasoning</td>\n",
       "      <td>19.410183</td>\n",
       "    </tr>\n",
       "    <tr>\n",
       "      <th>18837</th>\n",
       "      <td>4</td>\n",
       "      <td>Medicines such as insulin for diabetes and clo...</td>\n",
       "      <td>[{'role': 'assistant', 'content': 'Score: 4\\nR...</td>\n",
       "      <td>The text assumes some basic knowledge of biolo...</td>\n",
       "      <td>scinews</td>\n",
       "      <td>3-70B-Instruct-own_reasoning</td>\n",
       "      <td>15.417826</td>\n",
       "    </tr>\n",
       "    <tr>\n",
       "      <th>18838</th>\n",
       "      <td>2</td>\n",
       "      <td>The electronic structure of nonmagnetic crysta...</td>\n",
       "      <td>[{'role': 'assistant', 'content': 'Score: 2\\nR...</td>\n",
       "      <td>The text is written in a highly technical and ...</td>\n",
       "      <td>scinews</td>\n",
       "      <td>3-70B-Instruct-own_reasoning</td>\n",
       "      <td>18.658486</td>\n",
       "    </tr>\n",
       "    <tr>\n",
       "      <th>18839</th>\n",
       "      <td>2</td>\n",
       "      <td>One of the outstanding mysteries of the cerebr...</td>\n",
       "      <td>[{'role': 'assistant', 'content': 'Score: 2\\nR...</td>\n",
       "      <td>The text assumes a significant amount of backg...</td>\n",
       "      <td>scinews</td>\n",
       "      <td>3-70B-Instruct-own_reasoning</td>\n",
       "      <td>18.607638</td>\n",
       "    </tr>\n",
       "  </tbody>\n",
       "</table>\n",
       "<p>4188 rows × 7 columns</p>\n",
       "</div>"
      ],
      "text/plain": [
       "       readability                                            summary  \\\n",
       "14652            2  An international team of researchers with key ...   \n",
       "14653            4  Exposure to antibiotics in the first days of l...   \n",
       "14654            3  An ancient biological enzyme known as nickel-i...   \n",
       "14655            4  Older people who experience significant weight...   \n",
       "14656            3  An international study led by the University C...   \n",
       "...            ...                                                ...   \n",
       "18835            3  A key technical challenge in creating new sulf...   \n",
       "18836            3  Increased carbon sequestration in soil to help...   \n",
       "18837            4  Medicines such as insulin for diabetes and clo...   \n",
       "18838            2  The electronic structure of nonmagnetic crysta...   \n",
       "18839            2  One of the outstanding mysteries of the cerebr...   \n",
       "\n",
       "                                                response  \\\n",
       "14652  [{'role': 'assistant', 'content': 'Score: 2\\nR...   \n",
       "14653  [{'role': 'assistant', 'content': 'Score: 4\\nR...   \n",
       "14654  [{'role': 'assistant', 'content': 'Score: 3\\nR...   \n",
       "14655  [{'role': 'assistant', 'content': \"Score: 4\\nR...   \n",
       "14656  [{'role': 'assistant', 'content': 'Score: 3\\nR...   \n",
       "...                                                  ...   \n",
       "18835  [{'role': 'assistant', 'content': 'Score: 3\\nR...   \n",
       "18836  [{'role': 'assistant', 'content': 'Score: 3\\nR...   \n",
       "18837  [{'role': 'assistant', 'content': 'Score: 4\\nR...   \n",
       "18838  [{'role': 'assistant', 'content': 'Score: 2\\nR...   \n",
       "18839  [{'role': 'assistant', 'content': 'Score: 2\\nR...   \n",
       "\n",
       "                                                  reason  dataset  \\\n",
       "14652  The text assumes a significant amount of backg...  scinews   \n",
       "14653  The text assumes some basic knowledge of medic...  scinews   \n",
       "14654  The text assumes a basic understanding of chem...  scinews   \n",
       "14655  The text assumes some basic knowledge of healt...  scinews   \n",
       "14656  The text assumes a basic understanding of scie...  scinews   \n",
       "...                                                  ...      ...   \n",
       "18835  The text assumes a basic understanding of chem...  scinews   \n",
       "18836  The text assumes a basic understanding of envi...  scinews   \n",
       "18837  The text assumes some basic knowledge of biolo...  scinews   \n",
       "18838  The text is written in a highly technical and ...  scinews   \n",
       "18839  The text assumes a significant amount of backg...  scinews   \n",
       "\n",
       "                              model       fkgl  \n",
       "14652  3-70B-Instruct-own_reasoning  13.518761  \n",
       "14653  3-70B-Instruct-own_reasoning  15.670000  \n",
       "14654  3-70B-Instruct-own_reasoning  16.319851  \n",
       "14655  3-70B-Instruct-own_reasoning  14.629856  \n",
       "14656  3-70B-Instruct-own_reasoning  18.882038  \n",
       "...                             ...        ...  \n",
       "18835  3-70B-Instruct-own_reasoning  15.326073  \n",
       "18836  3-70B-Instruct-own_reasoning  19.410183  \n",
       "18837  3-70B-Instruct-own_reasoning  15.417826  \n",
       "18838  3-70B-Instruct-own_reasoning  18.658486  \n",
       "18839  3-70B-Instruct-own_reasoning  18.607638  \n",
       "\n",
       "[4188 rows x 7 columns]"
      ]
     },
     "execution_count": 39,
     "metadata": {},
     "output_type": "execute_result"
    }
   ],
   "source": [
    "all_scores[all_scores['dataset'] == 'scinews']"
   ]
  },
  {
   "cell_type": "code",
   "execution_count": 40,
   "metadata": {},
   "outputs": [
    {
     "data": {
      "text/html": [
       "<div>\n",
       "<style scoped>\n",
       "    .dataframe tbody tr th:only-of-type {\n",
       "        vertical-align: middle;\n",
       "    }\n",
       "\n",
       "    .dataframe tbody tr th {\n",
       "        vertical-align: top;\n",
       "    }\n",
       "\n",
       "    .dataframe thead th {\n",
       "        text-align: right;\n",
       "    }\n",
       "</style>\n",
       "<table border=\"1\" class=\"dataframe\">\n",
       "  <thead>\n",
       "    <tr style=\"text-align: right;\">\n",
       "      <th></th>\n",
       "      <th>readability</th>\n",
       "      <th>summary</th>\n",
       "      <th>response</th>\n",
       "      <th>reason</th>\n",
       "      <th>dataset</th>\n",
       "      <th>model</th>\n",
       "      <th>fkgl</th>\n",
       "      <th>n_tokens</th>\n",
       "    </tr>\n",
       "  </thead>\n",
       "  <tbody>\n",
       "    <tr>\n",
       "      <th>0</th>\n",
       "      <td>3</td>\n",
       "      <td>Influenza virus continues to pose a significan...</td>\n",
       "      <td>[{'role': 'assistant', 'content': 'Score: 3\\nR...</td>\n",
       "      <td>The text assumes some basic knowledge of biolo...</td>\n",
       "      <td>plos</td>\n",
       "      <td>3-70B-Instruct-own_reasoning</td>\n",
       "      <td>17.605695</td>\n",
       "      <td>-1</td>\n",
       "    </tr>\n",
       "    <tr>\n",
       "      <th>1</th>\n",
       "      <td>2</td>\n",
       "      <td>In Brazil , leprosy remains a significant publ...</td>\n",
       "      <td>[{'role': 'assistant', 'content': 'Score: 2\\nR...</td>\n",
       "      <td>The text assumes a significant amount of backg...</td>\n",
       "      <td>plos</td>\n",
       "      <td>3-70B-Instruct-own_reasoning</td>\n",
       "      <td>14.050317</td>\n",
       "      <td>-1</td>\n",
       "    </tr>\n",
       "    <tr>\n",
       "      <th>2</th>\n",
       "      <td>2</td>\n",
       "      <td>Leishmaniasis is a tropical disease transmitte...</td>\n",
       "      <td>[{'role': 'assistant', 'content': 'Score: 2\\nR...</td>\n",
       "      <td>The text assumes a high level of background kn...</td>\n",
       "      <td>plos</td>\n",
       "      <td>3-70B-Instruct-own_reasoning</td>\n",
       "      <td>16.067775</td>\n",
       "      <td>-1</td>\n",
       "    </tr>\n",
       "    <tr>\n",
       "      <th>3</th>\n",
       "      <td>2</td>\n",
       "      <td>We address how predictable evolution is at the...</td>\n",
       "      <td>[{'role': 'assistant', 'content': 'Score: 2\\nR...</td>\n",
       "      <td>The text assumes a high level of background kn...</td>\n",
       "      <td>plos</td>\n",
       "      <td>3-70B-Instruct-own_reasoning</td>\n",
       "      <td>16.174775</td>\n",
       "      <td>-1</td>\n",
       "    </tr>\n",
       "    <tr>\n",
       "      <th>4</th>\n",
       "      <td>2</td>\n",
       "      <td>Certain proteins can occasionally misfold into...</td>\n",
       "      <td>[{'role': 'assistant', 'content': 'Score: 2\\nR...</td>\n",
       "      <td>The text assumes a significant amount of backg...</td>\n",
       "      <td>plos</td>\n",
       "      <td>3-70B-Instruct-own_reasoning</td>\n",
       "      <td>12.233793</td>\n",
       "      <td>-1</td>\n",
       "    </tr>\n",
       "    <tr>\n",
       "      <th>...</th>\n",
       "      <td>...</td>\n",
       "      <td>...</td>\n",
       "      <td>...</td>\n",
       "      <td>...</td>\n",
       "      <td>...</td>\n",
       "      <td>...</td>\n",
       "      <td>...</td>\n",
       "      <td>...</td>\n",
       "    </tr>\n",
       "    <tr>\n",
       "      <th>27173</th>\n",
       "      <td>3</td>\n",
       "      <td>What catches our eye We are almost constantly ...</td>\n",
       "      <td>[{'role': 'assistant', 'content': 'Score: 3\\nR...</td>\n",
       "      <td>The text assumes a basic understanding of biol...</td>\n",
       "      <td>eureka</td>\n",
       "      <td>3-70B-Instruct-own_reasoning</td>\n",
       "      <td>14.432601</td>\n",
       "      <td>-1</td>\n",
       "    </tr>\n",
       "    <tr>\n",
       "      <th>27174</th>\n",
       "      <td>3</td>\n",
       "      <td>Molecule capable of halting and reverting Park...</td>\n",
       "      <td>[{'role': 'assistant', 'content': 'Score: 3\\nR...</td>\n",
       "      <td>The text assumes some basic knowledge of biolo...</td>\n",
       "      <td>eureka</td>\n",
       "      <td>3-70B-Instruct-own_reasoning</td>\n",
       "      <td>22.507069</td>\n",
       "      <td>-1</td>\n",
       "    </tr>\n",
       "    <tr>\n",
       "      <th>27175</th>\n",
       "      <td>4</td>\n",
       "      <td>Is the key to sparking climate action a game ?...</td>\n",
       "      <td>[{'role': 'assistant', 'content': 'Score: 4\\nR...</td>\n",
       "      <td>The text is well-structured and written in a c...</td>\n",
       "      <td>eureka</td>\n",
       "      <td>3-70B-Instruct-own_reasoning</td>\n",
       "      <td>14.359478</td>\n",
       "      <td>-1</td>\n",
       "    </tr>\n",
       "    <tr>\n",
       "      <th>27176</th>\n",
       "      <td>2</td>\n",
       "      <td>Jumping genes drive sex chromosome changes in ...</td>\n",
       "      <td>[{'role': 'assistant', 'content': 'Score: 2\\nR...</td>\n",
       "      <td>The text assumes a significant amount of backg...</td>\n",
       "      <td>eureka</td>\n",
       "      <td>3-70B-Instruct-own_reasoning</td>\n",
       "      <td>15.777970</td>\n",
       "      <td>-1</td>\n",
       "    </tr>\n",
       "    <tr>\n",
       "      <th>27177</th>\n",
       "      <td>4</td>\n",
       "      <td>Ocean acidification may reduce sea scallop fis...</td>\n",
       "      <td>[{'role': 'assistant', 'content': 'Score: 4\\nR...</td>\n",
       "      <td>The text is written in a clear and concise man...</td>\n",
       "      <td>eureka</td>\n",
       "      <td>3-70B-Instruct-own_reasoning</td>\n",
       "      <td>15.037334</td>\n",
       "      <td>-1</td>\n",
       "    </tr>\n",
       "  </tbody>\n",
       "</table>\n",
       "<p>27178 rows × 8 columns</p>\n",
       "</div>"
      ],
      "text/plain": [
       "       readability                                            summary  \\\n",
       "0                3  Influenza virus continues to pose a significan...   \n",
       "1                2  In Brazil , leprosy remains a significant publ...   \n",
       "2                2  Leishmaniasis is a tropical disease transmitte...   \n",
       "3                2  We address how predictable evolution is at the...   \n",
       "4                2  Certain proteins can occasionally misfold into...   \n",
       "...            ...                                                ...   \n",
       "27173            3  What catches our eye We are almost constantly ...   \n",
       "27174            3  Molecule capable of halting and reverting Park...   \n",
       "27175            4  Is the key to sparking climate action a game ?...   \n",
       "27176            2  Jumping genes drive sex chromosome changes in ...   \n",
       "27177            4  Ocean acidification may reduce sea scallop fis...   \n",
       "\n",
       "                                                response  \\\n",
       "0      [{'role': 'assistant', 'content': 'Score: 3\\nR...   \n",
       "1      [{'role': 'assistant', 'content': 'Score: 2\\nR...   \n",
       "2      [{'role': 'assistant', 'content': 'Score: 2\\nR...   \n",
       "3      [{'role': 'assistant', 'content': 'Score: 2\\nR...   \n",
       "4      [{'role': 'assistant', 'content': 'Score: 2\\nR...   \n",
       "...                                                  ...   \n",
       "27173  [{'role': 'assistant', 'content': 'Score: 3\\nR...   \n",
       "27174  [{'role': 'assistant', 'content': 'Score: 3\\nR...   \n",
       "27175  [{'role': 'assistant', 'content': 'Score: 4\\nR...   \n",
       "27176  [{'role': 'assistant', 'content': 'Score: 2\\nR...   \n",
       "27177  [{'role': 'assistant', 'content': 'Score: 4\\nR...   \n",
       "\n",
       "                                                  reason dataset  \\\n",
       "0      The text assumes some basic knowledge of biolo...    plos   \n",
       "1      The text assumes a significant amount of backg...    plos   \n",
       "2      The text assumes a high level of background kn...    plos   \n",
       "3      The text assumes a high level of background kn...    plos   \n",
       "4      The text assumes a significant amount of backg...    plos   \n",
       "...                                                  ...     ...   \n",
       "27173  The text assumes a basic understanding of biol...  eureka   \n",
       "27174  The text assumes some basic knowledge of biolo...  eureka   \n",
       "27175  The text is well-structured and written in a c...  eureka   \n",
       "27176  The text assumes a significant amount of backg...  eureka   \n",
       "27177  The text is written in a clear and concise man...  eureka   \n",
       "\n",
       "                              model       fkgl  n_tokens  \n",
       "0      3-70B-Instruct-own_reasoning  17.605695        -1  \n",
       "1      3-70B-Instruct-own_reasoning  14.050317        -1  \n",
       "2      3-70B-Instruct-own_reasoning  16.067775        -1  \n",
       "3      3-70B-Instruct-own_reasoning  16.174775        -1  \n",
       "4      3-70B-Instruct-own_reasoning  12.233793        -1  \n",
       "...                             ...        ...       ...  \n",
       "27173  3-70B-Instruct-own_reasoning  14.432601        -1  \n",
       "27174  3-70B-Instruct-own_reasoning  22.507069        -1  \n",
       "27175  3-70B-Instruct-own_reasoning  14.359478        -1  \n",
       "27176  3-70B-Instruct-own_reasoning  15.777970        -1  \n",
       "27177  3-70B-Instruct-own_reasoning  15.037334        -1  \n",
       "\n",
       "[27178 rows x 8 columns]"
      ]
     },
     "execution_count": 40,
     "metadata": {},
     "output_type": "execute_result"
    }
   ],
   "source": [
    "all_scores['n_tokens'] = -1\n",
    "for fpath in summaries_files:\n",
    "    print(fpath)\n",
    "    dataset_name = fpath.split('/')[-1].split('.')[-2]\n",
    "    print(dataset_name)\n",
    "    ntokens  = analyze_file(fpath, return_n_tokens=True)\n",
    "    print(len(ntokens))\n",
    "    print(all_scores[all_scores['dataset'] == dataset_name].shape)\n",
    "    all_scores.loc[all_scores['dataset'] == dataset_name, 'n_tokens'] = ntokens\n",
    "all_scores"
   ]
  },
  {
   "cell_type": "code",
   "execution_count": 41,
   "metadata": {},
   "outputs": [
    {
     "data": {
      "text/plain": [
       "dataset\n",
       "pubmed     6657\n",
       "arxiv      6440\n",
       "cells      6311\n",
       "scinews    4188\n",
       "plos       1376\n",
       "eureka     1010\n",
       "scitldr     618\n",
       "skj         284\n",
       "elife       241\n",
       "cdsr         53\n",
       "Name: count, dtype: int64"
      ]
     },
     "execution_count": 41,
     "metadata": {},
     "output_type": "execute_result"
    }
   ],
   "source": [
    "all_scores['dataset'].value_counts()"
   ]
  },
  {
   "cell_type": "code",
   "execution_count": 42,
   "metadata": {},
   "outputs": [
    {
     "name": "stderr",
     "output_type": "stream",
     "text": [
      "/tmp/ipykernel_1670443/651468745.py:1: ConstantInputWarning: An input array is constant; the correlation coefficient is not defined.\n",
      "  pearsonr(all_scores['readability'], all_scores['n_tokens'])\n"
     ]
    },
    {
     "data": {
      "text/plain": [
       "PearsonRResult(statistic=nan, pvalue=nan)"
      ]
     },
     "execution_count": 42,
     "metadata": {},
     "output_type": "execute_result"
    }
   ],
   "source": [
    "pearsonr(all_scores['readability'], all_scores['n_tokens'])"
   ]
  },
  {
   "cell_type": "code",
   "execution_count": 43,
   "metadata": {},
   "outputs": [
    {
     "data": {
      "text/plain": [
       "<Axes: xlabel='readability', ylabel='n_tokens'>"
      ]
     },
     "execution_count": 43,
     "metadata": {},
     "output_type": "execute_result"
    },
    {
     "data": {
      "image/png": "[encoded data removed]",
      "text/plain": [
       "<Figure size 640x480 with 1 Axes>"
      ]
     },
     "metadata": {},
     "output_type": "display_data"
    }
   ],
   "source": [
    "ax = plt.subplot()\n",
    "ax.xaxis.set_ticks([1,2,3,4,5])\n",
    "ax.set_xlim([0.5,5.5])\n",
    "sns.scatterplot(all_scores, x=\"readability\", y='n_tokens', ax=ax)"
   ]
  }
 ],
 "metadata": {
  "kernelspec": {
   "display_name": "Python 3 (ipykernel)",
   "language": "python",
   "name": "python3"
  },
  "language_info": {
   "codemirror_mode": {
    "name": "ipython",
    "version": 3
   },
   "file_extension": ".py",
   "mimetype": "text/x-python",
   "name": "python",
   "nbconvert_exporter": "python",
   "pygments_lexer": "ipython3",
   "version": "3.9.16"
  }
 },
 "nbformat": 4,
 "nbformat_minor": 2
}
