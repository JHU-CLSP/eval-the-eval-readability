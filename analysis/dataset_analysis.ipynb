{
 "cells": [
  {
   "cell_type": "code",
   "execution_count": 1,
   "metadata": {},
   "outputs": [
    {
     "name": "stderr",
     "output_type": "stream",
     "text": [
      "[nltk_data] Downloading package punkt_tab to\n",
      "[nltk_data]     /scratch4/mdredze1/nltk_cache...\n",
      "[nltk_data]   Package punkt_tab is already up-to-date!\n",
      "[nltk_data] Downloading package stopwords to\n",
      "[nltk_data]     /scratch4/mdredze1/nltk_cache...\n",
      "[nltk_data]   Package stopwords is already up-to-date!\n"
     ]
    }
   ],
   "source": [
    "import pandas as pd\n",
    "import matplotlib.pyplot as plt\n",
    "import nltk\n",
    "from nltk.corpus import stopwords\n",
    "nltk.download('punkt_tab')\n",
    "nltk.download('stopwords')\n",
    "import seaborn as sns\n",
    "import numpy as np\n",
    "import matplotlib.pyplot as plt\n",
    "from readability import Readability\n",
    "from itertools import combinations\n",
    "import glob\n",
    "import yake\n",
    "from tqdm import tqdm\n",
    "from scipy.stats import pearsonr\n",
    "from collections import defaultdict\n",
    "from sklearn.metrics import cohen_kappa_score"
   ]
  },
  {
   "cell_type": "code",
   "execution_count": null,
   "metadata": {},
   "outputs": [],
   "source": [
    "output_dir = os.environ.get('READABILITY_ANALYSIS_DATASET_DIR')\n",
    "dataset_dir = os.environ.get('DATASET_DIR')"
   ]
  },
  {
   "cell_type": "code",
   "execution_count": 4,
   "metadata": {},
   "outputs": [],
   "source": [
    "output_files = glob.glob(f\"{output_dir}/meta-llama/Llama-3.3-70B-Instruct.*.csv\")"
   ]
  },
  {
   "cell_type": "code",
   "execution_count": 5,
   "metadata": {},
   "outputs": [],
   "source": [
    "def get_summaries(d_name):\n",
    "    f_name = f'{dataset_dir}/{d_name}.target'\n",
    "    lines = open(f_name).readlines()\n",
    "    return [l.strip() for l in lines]"
   ]
  },
  {
   "cell_type": "code",
   "execution_count": 6,
   "metadata": {},
   "outputs": [
    {
     "data": {
      "text/html": [
       "<div>\n",
       "<style scoped>\n",
       "    .dataframe tbody tr th:only-of-type {\n",
       "        vertical-align: middle;\n",
       "    }\n",
       "\n",
       "    .dataframe tbody tr th {\n",
       "        vertical-align: top;\n",
       "    }\n",
       "\n",
       "    .dataframe thead th {\n",
       "        text-align: right;\n",
       "    }\n",
       "</style>\n",
       "<table border=\"1\" class=\"dataframe\">\n",
       "  <thead>\n",
       "    <tr style=\"text-align: right;\">\n",
       "      <th></th>\n",
       "      <th>readability</th>\n",
       "      <th>summary</th>\n",
       "      <th>response</th>\n",
       "      <th>dataset</th>\n",
       "      <th>model</th>\n",
       "    </tr>\n",
       "  </thead>\n",
       "  <tbody>\n",
       "    <tr>\n",
       "      <th>0</th>\n",
       "      <td>2.0</td>\n",
       "      <td>Significance Endothelial cells ( ECs) , which ...</td>\n",
       "      <td>I would rate the reading ease of this text as ...</td>\n",
       "      <td>cells</td>\n",
       "      <td>3-70B-Instruct</td>\n",
       "    </tr>\n",
       "    <tr>\n",
       "      <th>1</th>\n",
       "      <td>1.0</td>\n",
       "      <td>Significance Epithelial cellular activating mo...</td>\n",
       "      <td>I would rate the reading ease of this text as ...</td>\n",
       "      <td>cells</td>\n",
       "      <td>3-70B-Instruct</td>\n",
       "    </tr>\n",
       "    <tr>\n",
       "      <th>2</th>\n",
       "      <td>2.0</td>\n",
       "      <td>Significance Approximately 25% of the human pr...</td>\n",
       "      <td>I would rate the reading ease of this text as ...</td>\n",
       "      <td>cells</td>\n",
       "      <td>3-70B-Instruct</td>\n",
       "    </tr>\n",
       "    <tr>\n",
       "      <th>3</th>\n",
       "      <td>2.0</td>\n",
       "      <td>All cell types have a characteristic size, but...</td>\n",
       "      <td>I would rate the reading ease of this text as ...</td>\n",
       "      <td>cells</td>\n",
       "      <td>3-70B-Instruct</td>\n",
       "    </tr>\n",
       "    <tr>\n",
       "      <th>4</th>\n",
       "      <td>2.0</td>\n",
       "      <td>Significance Processing of spatial, temporal, ...</td>\n",
       "      <td>I would rate the reading ease of this text as ...</td>\n",
       "      <td>cells</td>\n",
       "      <td>3-70B-Instruct</td>\n",
       "    </tr>\n",
       "    <tr>\n",
       "      <th>...</th>\n",
       "      <td>...</td>\n",
       "      <td>...</td>\n",
       "      <td>...</td>\n",
       "      <td>...</td>\n",
       "      <td>...</td>\n",
       "    </tr>\n",
       "    <tr>\n",
       "      <th>27173</th>\n",
       "      <td>1.0</td>\n",
       "      <td>we explain how hierarchical organization of bi...</td>\n",
       "      <td>I would rate the reading ease of this text as ...</td>\n",
       "      <td>arxiv</td>\n",
       "      <td>3-70B-Instruct</td>\n",
       "    </tr>\n",
       "    <tr>\n",
       "      <th>27174</th>\n",
       "      <td>4.0</td>\n",
       "      <td>this work presents a smart trespasser detectio...</td>\n",
       "      <td>I would rate the reading ease of this text as ...</td>\n",
       "      <td>arxiv</td>\n",
       "      <td>3-70B-Instruct</td>\n",
       "    </tr>\n",
       "    <tr>\n",
       "      <th>27175</th>\n",
       "      <td>2.0</td>\n",
       "      <td>the giant radio galaxy m87 was observed at tev...</td>\n",
       "      <td>I would rate the reading ease of this text as ...</td>\n",
       "      <td>arxiv</td>\n",
       "      <td>3-70B-Instruct</td>\n",
       "    </tr>\n",
       "    <tr>\n",
       "      <th>27176</th>\n",
       "      <td>1.0</td>\n",
       "      <td>the discovery of decay products of a short - l...</td>\n",
       "      <td>I would rate the reading ease of this text as ...</td>\n",
       "      <td>arxiv</td>\n",
       "      <td>3-70B-Instruct</td>\n",
       "    </tr>\n",
       "    <tr>\n",
       "      <th>27177</th>\n",
       "      <td>1.0</td>\n",
       "      <td>an iterative algorithm is presented for soft -...</td>\n",
       "      <td>I would rate the reading ease of this text as ...</td>\n",
       "      <td>arxiv</td>\n",
       "      <td>3-70B-Instruct</td>\n",
       "    </tr>\n",
       "  </tbody>\n",
       "</table>\n",
       "<p>27178 rows × 5 columns</p>\n",
       "</div>"
      ],
      "text/plain": [
       "       readability                                            summary  \\\n",
       "0              2.0  Significance Endothelial cells ( ECs) , which ...   \n",
       "1              1.0  Significance Epithelial cellular activating mo...   \n",
       "2              2.0  Significance Approximately 25% of the human pr...   \n",
       "3              2.0  All cell types have a characteristic size, but...   \n",
       "4              2.0  Significance Processing of spatial, temporal, ...   \n",
       "...            ...                                                ...   \n",
       "27173          1.0  we explain how hierarchical organization of bi...   \n",
       "27174          4.0  this work presents a smart trespasser detectio...   \n",
       "27175          2.0  the giant radio galaxy m87 was observed at tev...   \n",
       "27176          1.0  the discovery of decay products of a short - l...   \n",
       "27177          1.0  an iterative algorithm is presented for soft -...   \n",
       "\n",
       "                                                response dataset  \\\n",
       "0      I would rate the reading ease of this text as ...   cells   \n",
       "1      I would rate the reading ease of this text as ...   cells   \n",
       "2      I would rate the reading ease of this text as ...   cells   \n",
       "3      I would rate the reading ease of this text as ...   cells   \n",
       "4      I would rate the reading ease of this text as ...   cells   \n",
       "...                                                  ...     ...   \n",
       "27173  I would rate the reading ease of this text as ...   arxiv   \n",
       "27174  I would rate the reading ease of this text as ...   arxiv   \n",
       "27175  I would rate the reading ease of this text as ...   arxiv   \n",
       "27176  I would rate the reading ease of this text as ...   arxiv   \n",
       "27177  I would rate the reading ease of this text as ...   arxiv   \n",
       "\n",
       "                model  \n",
       "0      3-70B-Instruct  \n",
       "1      3-70B-Instruct  \n",
       "2      3-70B-Instruct  \n",
       "3      3-70B-Instruct  \n",
       "4      3-70B-Instruct  \n",
       "...               ...  \n",
       "27173  3-70B-Instruct  \n",
       "27174  3-70B-Instruct  \n",
       "27175  3-70B-Instruct  \n",
       "27176  3-70B-Instruct  \n",
       "27177  3-70B-Instruct  \n",
       "\n",
       "[27178 rows x 5 columns]"
      ]
     },
     "execution_count": 6,
     "metadata": {},
     "output_type": "execute_result"
    }
   ],
   "source": [
    "def get_scores(files_list):\n",
    "    objs = []\n",
    "    for f_name in files_list:\n",
    "        df = pd.read_csv(f_name)\n",
    "        try:\n",
    "            scores = df['reading_ease'].to_list()\n",
    "            responses = df['response'].to_list()\n",
    "            dataset = f_name.split('.')[-2]\n",
    "            summaries = get_summaries(dataset)\n",
    "            model = f_name.split('.')[-3]\n",
    "            objs.append(\n",
    "                pd.DataFrame.from_dict(\n",
    "                    {\n",
    "                    'readability': scores, \n",
    "                    'summary': summaries,\n",
    "                    'response': responses, \n",
    "                    'dataset': dataset, \n",
    "                    'model': model})\n",
    "            )\n",
    "        except KeyError:\n",
    "            print(f_name)\n",
    "    return pd.concat(axis=0, ignore_index=True, objs=objs)\n",
    "all_scores = get_scores(output_files)\n",
    "all_scores"
   ]
  },
  {
   "cell_type": "code",
   "execution_count": 7,
   "metadata": {},
   "outputs": [],
   "source": [
    "def get_readability(text):\n",
    "  try:\n",
    "    r = Readability(text)\n",
    "    return r.coleman_liau().score\n",
    "  except:\n",
    "    return -1"
   ]
  },
  {
   "cell_type": "code",
   "execution_count": 8,
   "metadata": {},
   "outputs": [],
   "source": [
    "all_scores['coleman_liau'] = all_scores['summary'].apply(get_readability)"
   ]
  },
  {
   "cell_type": "code",
   "execution_count": 9,
   "metadata": {},
   "outputs": [
    {
     "name": "stderr",
     "output_type": "stream",
     "text": [
      "/tmp/ipykernel_828506/2355709634.py:6: SettingWithCopyWarning: \n",
      "A value is trying to be set on a copy of a slice from a DataFrame.\n",
      "Try using .loc[row_indexer,col_indexer] = value instead\n",
      "\n",
      "See the caveats in the documentation: https://pandas.pydata.org/pandas-docs/stable/user_guide/indexing.html#returning-a-view-versus-a-copy\n",
      "  tmp['clbinary'] = clbinary.apply(int)\n",
      "/tmp/ipykernel_828506/2355709634.py:7: SettingWithCopyWarning: \n",
      "A value is trying to be set on a copy of a slice from a DataFrame.\n",
      "Try using .loc[row_indexer,col_indexer] = value instead\n",
      "\n",
      "See the caveats in the documentation: https://pandas.pydata.org/pandas-docs/stable/user_guide/indexing.html#returning-a-view-versus-a-copy\n",
      "  tmp['lm_binary'] = lm_binary.apply(int)\n"
     ]
    },
    {
     "data": {
      "text/plain": [
       "np.float64(0.10831926864059382)"
      ]
     },
     "execution_count": 9,
     "metadata": {},
     "output_type": "execute_result"
    }
   ],
   "source": [
    "def get_aggreement_from_binary(r_level, lm_level):\n",
    "    try:\n",
    "        tmp = all_scores[all_scores['coleman_liau'] != -1]\n",
    "        clbinary = tmp['coleman_liau'] < r_level\n",
    "        lm_binary = tmp['readability'] >= lm_level\n",
    "        tmp['clbinary'] = clbinary.apply(int)\n",
    "        tmp['lm_binary'] = lm_binary.apply(int)\n",
    "        return cohen_kappa_score(tmp['clbinary'], tmp['lm_binary'])\n",
    "    except:\n",
    "        return -10000\n",
    "get_aggreement_from_binary(12, 3)"
   ]
  },
  {
   "cell_type": "code",
   "execution_count": 10,
   "metadata": {},
   "outputs": [
    {
     "data": {
      "text/plain": [
       "PearsonRResult(statistic=np.float64(-0.23217963458974675), pvalue=np.float64(3.946588597593912e-288))"
      ]
     },
     "execution_count": 10,
     "metadata": {},
     "output_type": "execute_result"
    }
   ],
   "source": [
    "cl_df = all_scores[all_scores['coleman_liau'] != -1]\n",
    "pearsonr(cl_df['coleman_liau'], cl_df['readability'])"
   ]
  },
  {
   "cell_type": "markdown",
   "metadata": {},
   "source": [
    "## Keyword Analysis"
   ]
  },
  {
   "cell_type": "code",
   "execution_count": 11,
   "metadata": {},
   "outputs": [],
   "source": [
    "stops = set(stopwords.words('english'))\n",
    "stops.update([\"reading\", \"ease\", \"rating\", \"text\", \"rate\", \"assistant\", \"would\", \"may\",])\n",
    "kw_extractor = yake.KeywordExtractor(lan=\"en\", n=3, dedupLim=1.0, top=10, features=None, stopwords=stops)\n",
    "def get_keywords(text):\n",
    "    keywords = kw_extractor.extract_keywords(text)\n",
    "    return [k[1] for k in keywords]"
   ]
  },
  {
   "cell_type": "code",
   "execution_count": 12,
   "metadata": {},
   "outputs": [],
   "source": [
    "def get_txt(d_name):\n",
    "    tmp = all_scores[all_scores['dataset']==d_name]\n",
    "    text = '\\n'.join(tmp['response']).lower()\n",
    "    print(len(text))\n",
    "    return text"
   ]
  },
  {
   "cell_type": "code",
   "execution_count": 13,
   "metadata": {},
   "outputs": [],
   "source": [
    "def get_txt_by_score(score):\n",
    "    tmp = all_scores[all_scores['readability']==score]\n",
    "    text = '\\n'.join(tmp['response']).lower()\n",
    "    return text"
   ]
  },
  {
   "cell_type": "code",
   "execution_count": 14,
   "metadata": {},
   "outputs": [
    {
     "name": "stdout",
     "output_type": "stream",
     "text": [
      "expert background knowledge, requires expert background, background knowledge, strong background knowledge, significant background knowledge, expert background, technical terms, without significant background, requires expert, high level\n"
     ]
    }
   ],
   "source": [
    "print(', '.join(get_keywords(get_txt_by_score(1))))"
   ]
  },
  {
   "cell_type": "code",
   "execution_count": 15,
   "metadata": {},
   "outputs": [
    {
     "name": "stdout",
     "output_type": "stream",
     "text": [
      "background knowledge, require specialized knowledge, strong background knowledge, significant background knowledge, uses technical terms, expert background knowledge, technical terms, likely require specialized, complex sentence structures, using technical terms\n"
     ]
    }
   ],
   "source": [
    "print(', '.join(get_keywords(get_txt_by_score(2))))"
   ]
  },
  {
   "cell_type": "code",
   "execution_count": 16,
   "metadata": {},
   "outputs": [
    {
     "name": "stdout",
     "output_type": "stream",
     "text": [
      "require expert-level knowledge, background knowledge, uses technical terms, technical terms like, basic knowledge, technical terms, general adult reader, help readers understand, knowledge, help non-experts understand\n"
     ]
    }
   ],
   "source": [
    "print(', '.join(get_keywords(get_txt_by_score(3))))"
   ]
  },
  {
   "cell_type": "code",
   "execution_count": 17,
   "metadata": {},
   "outputs": [
    {
     "name": "stdout",
     "output_type": "stream",
     "text": [
      "general adult audience, basic knowledge, general adult, general adult reader, technical terms, adult audience, require specialized knowledge, background knowledge, require expert-level knowledge, general audience\n"
     ]
    }
   ],
   "source": [
    "print(', '.join(get_keywords(get_txt_by_score(4))))"
   ]
  },
  {
   "cell_type": "code",
   "execution_count": 18,
   "metadata": {},
   "outputs": [
    {
     "name": "stdout",
     "output_type": "stream",
     "text": [
      "language used, easy to understand, knowledge, easy, simple, specialized knowledge, concepts are explained, understand, concepts, language\n"
     ]
    }
   ],
   "source": [
    "print(', '.join(get_keywords(get_txt_by_score(5))))"
   ]
  },
  {
   "cell_type": "markdown",
   "metadata": {},
   "source": [
    "### keywords by dataset"
   ]
  },
  {
   "cell_type": "code",
   "execution_count": 19,
   "metadata": {},
   "outputs": [
    {
     "name": "stdout",
     "output_type": "stream",
     "text": [
      "5510918\n"
     ]
    },
    {
     "data": {
      "text/plain": [
       "['expert background knowledge',\n",
       " 'requires expert background',\n",
       " 'background knowledge',\n",
       " 'strong background knowledge',\n",
       " 'significant background knowledge',\n",
       " 'expert background',\n",
       " 'technical terms',\n",
       " 'without significant background',\n",
       " 'strong background',\n",
       " 'high level']"
      ]
     },
     "execution_count": 19,
     "metadata": {},
     "output_type": "execute_result"
    }
   ],
   "source": [
    "arxiv = get_txt('arxiv')\n",
    "get_keywords(arxiv)"
   ]
  },
  {
   "cell_type": "code",
   "execution_count": 20,
   "metadata": {},
   "outputs": [
    {
     "name": "stdout",
     "output_type": "stream",
     "text": [
      "6376039\n",
      "background knowledge, expert background knowledge, require specialized knowledge, significant background knowledge, medical background knowledge, strong background knowledge, requires expert background, complex sentence structures, likely require specialized, technical terms\n"
     ]
    }
   ],
   "source": [
    "pubmed = get_txt('pubmed')\n",
    "print(', '.join(get_keywords(pubmed)))"
   ]
  },
  {
   "cell_type": "code",
   "execution_count": 21,
   "metadata": {},
   "outputs": [
    {
     "name": "stdout",
     "output_type": "stream",
     "text": [
      "186249\n",
      "general adult audience, basic knowledge, language used, knowledge, easy to understand, concepts, general adult, understand, general, concepts are explained\n"
     ]
    }
   ],
   "source": [
    "skj = get_txt('skj')\n",
    "print(', '.join(get_keywords(skj)))"
   ]
  },
  {
   "cell_type": "code",
   "execution_count": 22,
   "metadata": {},
   "outputs": [
    {
     "name": "stdout",
     "output_type": "stream",
     "text": [
      "52101\n"
     ]
    },
    {
     "data": {
      "text/plain": [
       "['basic knowledge',\n",
       " 'knowledge',\n",
       " 'background knowledge',\n",
       " 'general adult audience',\n",
       " 'medical',\n",
       " 'medical terminology',\n",
       " 'understand',\n",
       " 'general adult',\n",
       " 'concepts',\n",
       " 'technical terms']"
      ]
     },
     "execution_count": 22,
     "metadata": {},
     "output_type": "execute_result"
    }
   ],
   "source": [
    "cdsr = get_txt('cdsr')\n",
    "get_keywords(cdsr)"
   ]
  },
  {
   "cell_type": "code",
   "execution_count": 23,
   "metadata": {},
   "outputs": [
    {
     "name": "stdout",
     "output_type": "stream",
     "text": [
      "371107\n"
     ]
    },
    {
     "data": {
      "text/plain": [
       "'background knowledge, machine learning, technical terms, general population, expert background knowledge, knowledge, technical terms like, background, technical, general'"
      ]
     },
     "execution_count": 23,
     "metadata": {},
     "output_type": "execute_result"
    }
   ],
   "source": [
    "scitldr = get_txt('scitldr')\n",
    "', '.join(get_keywords(scitldr))"
   ]
  },
  {
   "cell_type": "code",
   "execution_count": 24,
   "metadata": {},
   "outputs": [
    {
     "name": "stdout",
     "output_type": "stream",
     "text": [
      "1196145\n",
      "background knowledge, expert background knowledge, strong background knowledge, significant background knowledge, require specialized knowledge, technical terms, uses technical terms, molecular biology, knowledge, requires expert background\n"
     ]
    }
   ],
   "source": [
    "plos = get_txt('plos')\n",
    "print(', '.join(get_keywords(plos)))"
   ]
  },
  {
   "cell_type": "code",
   "execution_count": 25,
   "metadata": {},
   "outputs": [
    {
     "name": "stdout",
     "output_type": "stream",
     "text": [
      "1202408\n",
      "background knowledge, technical terms, uses technical terms, require expert-level knowledge, basic knowledge, general adult audience, knowledge, technical, general audience, general adult reader\n"
     ]
    }
   ],
   "source": [
    "eureka = get_txt('eureka')\n",
    "print(', '.join(get_keywords(eureka)))"
   ]
  },
  {
   "cell_type": "code",
   "execution_count": 26,
   "metadata": {},
   "outputs": [
    {
     "name": "stdout",
     "output_type": "stream",
     "text": [
      "262448\n",
      "background knowledge, basic knowledge, uses technical terms, knowledge, technical terms, require expert-level knowledge, biology, general adult audience, concepts, technical\n"
     ]
    }
   ],
   "source": [
    "elife = get_txt('elife')\n",
    "print(', '.join(get_keywords(elife)))"
   ]
  },
  {
   "cell_type": "code",
   "execution_count": 27,
   "metadata": {},
   "outputs": [
    {
     "name": "stdout",
     "output_type": "stream",
     "text": [
      "5128301\n",
      "background knowledge, require specialized knowledge, expert background knowledge, strong background knowledge, significant background knowledge, uses technical terms, technical terms, technical terms like, using technical terms, general adult audience\n"
     ]
    }
   ],
   "source": [
    "cells = get_txt('cells')\n",
    "print(', '.join(get_keywords(cells)))"
   ]
  },
  {
   "cell_type": "code",
   "execution_count": 28,
   "metadata": {},
   "outputs": [
    {
     "name": "stdout",
     "output_type": "stream",
     "text": [
      "4912192\n",
      "general adult audience, uses technical terms, background knowledge, technical terms, require expert-level knowledge, help readers understand, basic knowledge, technical terms like, general adult reader, general audience\n"
     ]
    }
   ],
   "source": [
    "scinews = get_txt('scinews')\n",
    "print(', '.join(get_keywords(scinews)))"
   ]
  },
  {
   "cell_type": "markdown",
   "metadata": {},
   "source": [
    "# Scores analysis"
   ]
  },
  {
   "cell_type": "code",
   "execution_count": 29,
   "metadata": {},
   "outputs": [
    {
     "data": {
      "text/plain": [
       "dataset\n",
       "arxiv      1.178727\n",
       "cdsr       3.433962\n",
       "cells      2.169941\n",
       "elife      3.080913\n",
       "eureka     2.921287\n",
       "plos       1.976744\n",
       "pubmed     1.903185\n",
       "scinews    3.178128\n",
       "scitldr    1.857605\n",
       "skj        4.345070\n",
       "Name: readability, dtype: float64"
      ]
     },
     "execution_count": 29,
     "metadata": {},
     "output_type": "execute_result"
    }
   ],
   "source": [
    "all_scores.groupby('dataset')['readability'].mean()"
   ]
  },
  {
   "cell_type": "code",
   "execution_count": 30,
   "metadata": {},
   "outputs": [
    {
     "data": {
      "text/plain": [
       "Index(['readability', 'summary', 'response', 'dataset', 'model',\n",
       "       'coleman_liau'],\n",
       "      dtype='object')"
      ]
     },
     "execution_count": 30,
     "metadata": {},
     "output_type": "execute_result"
    }
   ],
   "source": [
    "all_scores.columns"
   ]
  },
  {
   "cell_type": "code",
   "execution_count": 31,
   "metadata": {},
   "outputs": [
    {
     "data": {
      "text/plain": [
       "dataset\n",
       "arxiv      10.943194\n",
       "cdsr       14.055878\n",
       "cells      15.466924\n",
       "elife      12.458800\n",
       "eureka     14.413019\n",
       "plos       15.567070\n",
       "pubmed     13.038733\n",
       "scinews    13.867924\n",
       "scitldr    -1.000000\n",
       "skj         9.353087\n",
       "Name: coleman_liau, dtype: float64"
      ]
     },
     "execution_count": 31,
     "metadata": {},
     "output_type": "execute_result"
    }
   ],
   "source": [
    "all_scores.groupby('dataset')['coleman_liau'].mean()"
   ]
  },
  {
   "cell_type": "code",
   "execution_count": 32,
   "metadata": {},
   "outputs": [
    {
     "data": {
      "text/plain": [
       "dataset\n",
       "arxiv      1.0\n",
       "cdsr       4.0\n",
       "cells      2.0\n",
       "elife      3.0\n",
       "eureka     3.0\n",
       "plos       2.0\n",
       "pubmed     2.0\n",
       "scinews    3.0\n",
       "scitldr    2.0\n",
       "skj        4.0\n",
       "Name: readability, dtype: float64"
      ]
     },
     "execution_count": 32,
     "metadata": {},
     "output_type": "execute_result"
    }
   ],
   "source": [
    "all_scores.groupby('dataset')['readability'].median()"
   ]
  },
  {
   "cell_type": "code",
   "execution_count": 33,
   "metadata": {},
   "outputs": [
    {
     "data": {
      "text/plain": [
       "dataset\n",
       "arxiv      0.160473\n",
       "cdsr       0.481132\n",
       "cells      0.579396\n",
       "elife      0.504884\n",
       "eureka     0.528734\n",
       "plos       0.332186\n",
       "pubmed     0.268307\n",
       "scinews    0.563200\n",
       "scitldr    0.417292\n",
       "skj        0.226795\n",
       "Name: readability, dtype: float64"
      ]
     },
     "execution_count": 33,
     "metadata": {},
     "output_type": "execute_result"
    }
   ],
   "source": [
    "all_scores.groupby('dataset')['readability'].var()"
   ]
  },
  {
   "cell_type": "code",
   "execution_count": 34,
   "metadata": {},
   "outputs": [
    {
     "data": {
      "text/plain": [
       "dataset  readability\n",
       "arxiv    1.0            5328\n",
       "         2.0            1078\n",
       "         3.0              29\n",
       "         4.0               5\n",
       "cdsr     4.0              29\n",
       "         3.0              18\n",
       "         2.0               6\n",
       "cells    2.0            4107\n",
       "         1.0             838\n",
       "         3.0             820\n",
       "         4.0             545\n",
       "         2.5               1\n",
       "elife    3.0             116\n",
       "         4.0              71\n",
       "         2.0              51\n",
       "         2.5               2\n",
       "         3.5               1\n",
       "eureka   3.0             474\n",
       "         2.0             294\n",
       "         4.0             227\n",
       "         2.5              10\n",
       "         1.0               4\n",
       "         3.5               1\n",
       "plos     2.0            1019\n",
       "         1.0             211\n",
       "         3.0             110\n",
       "         4.0              34\n",
       "         2.5               2\n",
       "pubmed   2.0            5060\n",
       "         1.0            1162\n",
       "         3.0             345\n",
       "         4.0              85\n",
       "         2.5               5\n",
       "scinews  3.0            1757\n",
       "         4.0            1591\n",
       "         2.0             790\n",
       "         1.0              26\n",
       "         2.5              15\n",
       "         3.5               9\n",
       "scitldr  2.0             423\n",
       "         1.0             154\n",
       "         4.0              25\n",
       "         3.0              16\n",
       "skj      4.0             186\n",
       "         5.0              98\n",
       "Name: count, dtype: int64"
      ]
     },
     "execution_count": 34,
     "metadata": {},
     "output_type": "execute_result"
    }
   ],
   "source": [
    "all_scores.groupby('dataset')['readability'].value_counts()"
   ]
  },
  {
   "cell_type": "code",
   "execution_count": 35,
   "metadata": {},
   "outputs": [
    {
     "data": {
      "text/plain": [
       "dataset\n",
       "pubmed     6657\n",
       "arxiv      6440\n",
       "cells      6311\n",
       "scinews    4188\n",
       "plos       1376\n",
       "eureka     1010\n",
       "scitldr     618\n",
       "skj         284\n",
       "elife       241\n",
       "cdsr         53\n",
       "Name: count, dtype: int64"
      ]
     },
     "execution_count": 35,
     "metadata": {},
     "output_type": "execute_result"
    }
   ],
   "source": [
    "all_scores['dataset'].value_counts()"
   ]
  },
  {
   "cell_type": "code",
   "execution_count": 36,
   "metadata": {},
   "outputs": [
    {
     "data": {
      "text/plain": [
       "dataset  readability\n",
       "arxiv    1.0            5328\n",
       "         2.0            1078\n",
       "         3.0              29\n",
       "         4.0               5\n",
       "cdsr     4.0              29\n",
       "         3.0              18\n",
       "         2.0               6\n",
       "cells    2.0            4107\n",
       "         1.0             838\n",
       "         3.0             820\n",
       "         4.0             545\n",
       "         2.5               1\n",
       "elife    3.0             116\n",
       "         4.0              71\n",
       "         2.0              51\n",
       "         2.5               2\n",
       "         3.5               1\n",
       "eureka   3.0             474\n",
       "         2.0             294\n",
       "         4.0             227\n",
       "         2.5              10\n",
       "         1.0               4\n",
       "         3.5               1\n",
       "plos     2.0            1019\n",
       "         1.0             211\n",
       "         3.0             110\n",
       "         4.0              34\n",
       "         2.5               2\n",
       "pubmed   2.0            5060\n",
       "         1.0            1162\n",
       "         3.0             345\n",
       "         4.0              85\n",
       "         2.5               5\n",
       "scinews  3.0            1757\n",
       "         4.0            1591\n",
       "         2.0             790\n",
       "         1.0              26\n",
       "         2.5              15\n",
       "         3.5               9\n",
       "scitldr  2.0             423\n",
       "         1.0             154\n",
       "         4.0              25\n",
       "         3.0              16\n",
       "skj      4.0             186\n",
       "         5.0              98\n",
       "Name: count, dtype: int64"
      ]
     },
     "execution_count": 36,
     "metadata": {},
     "output_type": "execute_result"
    }
   ],
   "source": [
    "all_scores.groupby('dataset')['readability'].value_counts()"
   ]
  },
  {
   "cell_type": "code",
   "execution_count": 50,
   "metadata": {},
   "outputs": [
    {
     "data": {
      "text/html": [
       "<div>\n",
       "<style scoped>\n",
       "    .dataframe tbody tr th:only-of-type {\n",
       "        vertical-align: middle;\n",
       "    }\n",
       "\n",
       "    .dataframe tbody tr th {\n",
       "        vertical-align: top;\n",
       "    }\n",
       "\n",
       "    .dataframe thead th {\n",
       "        text-align: right;\n",
       "    }\n",
       "</style>\n",
       "<table border=\"1\" class=\"dataframe\">\n",
       "  <thead>\n",
       "    <tr style=\"text-align: right;\">\n",
       "      <th>dataset</th>\n",
       "      <th>arxiv</th>\n",
       "      <th>cdsr</th>\n",
       "      <th>cells</th>\n",
       "      <th>elife</th>\n",
       "      <th>eureka</th>\n",
       "      <th>plos</th>\n",
       "      <th>pubmed</th>\n",
       "      <th>scinews</th>\n",
       "      <th>scitldr</th>\n",
       "      <th>skj</th>\n",
       "    </tr>\n",
       "    <tr>\n",
       "      <th>readability</th>\n",
       "      <th></th>\n",
       "      <th></th>\n",
       "      <th></th>\n",
       "      <th></th>\n",
       "      <th></th>\n",
       "      <th></th>\n",
       "      <th></th>\n",
       "      <th></th>\n",
       "      <th></th>\n",
       "      <th></th>\n",
       "    </tr>\n",
       "  </thead>\n",
       "  <tbody>\n",
       "    <tr>\n",
       "      <th>1.0</th>\n",
       "      <td>5328.0</td>\n",
       "      <td>0.0</td>\n",
       "      <td>838.0</td>\n",
       "      <td>0.0</td>\n",
       "      <td>4.0</td>\n",
       "      <td>211.0</td>\n",
       "      <td>1162.0</td>\n",
       "      <td>26.0</td>\n",
       "      <td>154.0</td>\n",
       "      <td>0.0</td>\n",
       "    </tr>\n",
       "    <tr>\n",
       "      <th>2.0</th>\n",
       "      <td>1078.0</td>\n",
       "      <td>6.0</td>\n",
       "      <td>4108.0</td>\n",
       "      <td>53.0</td>\n",
       "      <td>304.0</td>\n",
       "      <td>1021.0</td>\n",
       "      <td>5065.0</td>\n",
       "      <td>805.0</td>\n",
       "      <td>423.0</td>\n",
       "      <td>0.0</td>\n",
       "    </tr>\n",
       "    <tr>\n",
       "      <th>3.0</th>\n",
       "      <td>29.0</td>\n",
       "      <td>18.0</td>\n",
       "      <td>820.0</td>\n",
       "      <td>116.0</td>\n",
       "      <td>474.0</td>\n",
       "      <td>110.0</td>\n",
       "      <td>345.0</td>\n",
       "      <td>1757.0</td>\n",
       "      <td>16.0</td>\n",
       "      <td>0.0</td>\n",
       "    </tr>\n",
       "    <tr>\n",
       "      <th>4.0</th>\n",
       "      <td>5.0</td>\n",
       "      <td>29.0</td>\n",
       "      <td>545.0</td>\n",
       "      <td>72.0</td>\n",
       "      <td>228.0</td>\n",
       "      <td>34.0</td>\n",
       "      <td>85.0</td>\n",
       "      <td>1600.0</td>\n",
       "      <td>25.0</td>\n",
       "      <td>186.0</td>\n",
       "    </tr>\n",
       "    <tr>\n",
       "      <th>5.0</th>\n",
       "      <td>0.0</td>\n",
       "      <td>0.0</td>\n",
       "      <td>0.0</td>\n",
       "      <td>0.0</td>\n",
       "      <td>0.0</td>\n",
       "      <td>0.0</td>\n",
       "      <td>0.0</td>\n",
       "      <td>0.0</td>\n",
       "      <td>0.0</td>\n",
       "      <td>98.0</td>\n",
       "    </tr>\n",
       "  </tbody>\n",
       "</table>\n",
       "</div>"
      ],
      "text/plain": [
       "dataset       arxiv  cdsr   cells  elife  eureka    plos  pubmed  scinews  \\\n",
       "readability                                                                 \n",
       "1.0          5328.0   0.0   838.0    0.0     4.0   211.0  1162.0     26.0   \n",
       "2.0          1078.0   6.0  4108.0   53.0   304.0  1021.0  5065.0    805.0   \n",
       "3.0            29.0  18.0   820.0  116.0   474.0   110.0   345.0   1757.0   \n",
       "4.0             5.0  29.0   545.0   72.0   228.0    34.0    85.0   1600.0   \n",
       "5.0             0.0   0.0     0.0    0.0     0.0     0.0     0.0      0.0   \n",
       "\n",
       "dataset      scitldr    skj  \n",
       "readability                  \n",
       "1.0            154.0    0.0  \n",
       "2.0            423.0    0.0  \n",
       "3.0             16.0    0.0  \n",
       "4.0             25.0  186.0  \n",
       "5.0              0.0   98.0  "
      ]
     },
     "execution_count": 50,
     "metadata": {},
     "output_type": "execute_result"
    }
   ],
   "source": [
    "all_scores['readability'] = all_scores['readability'].round()\n",
    "tmp = all_scores.groupby('dataset')['readability'].value_counts().to_frame()\n",
    "tmp = tmp.pivot_table(values=\"count\", columns=\"dataset\",index=\"readability\")\n",
    "tmp.fillna(0, inplace=True)\n",
    "tmp"
   ]
  },
  {
   "cell_type": "code",
   "execution_count": 51,
   "metadata": {},
   "outputs": [
    {
     "data": {
      "image/png": "[encoded data removed]",
      "text/plain": [
       "<Figure size 1500x600 with 7 Axes>"
      ]
     },
     "metadata": {},
     "output_type": "display_data"
    }
   ],
   "source": [
    "g = sns.FacetGrid(all_scores, \n",
    "                col=\"dataset\", \n",
    "                col_order=[\n",
    "                    \"arxiv\", \n",
    "                    \"pubmed\", \n",
    "                    \"scitldr\",\n",
    "                    \"cdsr\", \n",
    "                    \"plos\", \n",
    "                    \"elife\", \n",
    "                    \"cells\", \n",
    "                    ],\n",
    "                sharey=False, \n",
    "                sharex=False, \n",
    "                xlim=(0.5,5.5), \n",
    "                col_wrap=5\n",
    "                )\n",
    "\n",
    "# Map the histplot function to each subplot\n",
    "g.map(sns.histplot, \"readability\")\n",
    "\n",
    "# g.refline(x=all_scores[\"readability\"].mean())\n",
    "g.set_titles(col_template=\"{col_name}\")\n",
    "# Adjust the layout and show the plot\n",
    "plt.tight_layout()\n",
    "plt.show()"
   ]
  },
  {
   "cell_type": "code",
   "execution_count": null,
   "metadata": {},
   "outputs": [],
   "source": [
    "summaries_dir = \"/scratch4/mdredze1/icachol1/layscisum/targets\"\n",
    "summaries_files = glob.glob(f\"{summaries_dir}/*.target\")"
   ]
  },
  {
   "cell_type": "code",
   "execution_count": 41,
   "metadata": {},
   "outputs": [],
   "source": [
    "format_str = \"\"\"\\\n",
    "Mean: {:0.2f}\n",
    "Median: {:0.0f}\n",
    "Max: {:0.0f}\n",
    "Min: {:0.0f}\n",
    "Var:{:0.2f}\n",
    "\"\"\"\n",
    "\n",
    "def get_len(text):\n",
    "    return len(text.strip().split())\n",
    "\n",
    "def analyze_texts(texts, return_n_tokens=False):\n",
    "    n_tokens = np.zeros(len(texts))\n",
    "    for i, t in enumerate(texts):\n",
    "        n_tokens[i] = get_len(t)\n",
    "    if return_n_tokens:\n",
    "        return n_tokens\n",
    "    return [np.mean(n_tokens),\n",
    "        np.median(n_tokens),\n",
    "        np.max(n_tokens),\n",
    "        np.min(n_tokens),\n",
    "        np.var(n_tokens)]\n",
    "        \n",
    "def analyze_file(fpath, return_n_tokens=False):\n",
    "    with open(fpath) as f:\n",
    "        texts = f.readlines()\n",
    "    return analyze_texts(texts, return_n_tokens)"
   ]
  },
  {
   "cell_type": "code",
   "execution_count": 53,
   "metadata": {},
   "outputs": [
    {
     "data": {
      "text/html": [
       "<div>\n",
       "<style scoped>\n",
       "    .dataframe tbody tr th:only-of-type {\n",
       "        vertical-align: middle;\n",
       "    }\n",
       "\n",
       "    .dataframe tbody tr th {\n",
       "        vertical-align: top;\n",
       "    }\n",
       "\n",
       "    .dataframe thead th {\n",
       "        text-align: right;\n",
       "    }\n",
       "</style>\n",
       "<table border=\"1\" class=\"dataframe\">\n",
       "  <thead>\n",
       "    <tr style=\"text-align: right;\">\n",
       "      <th></th>\n",
       "      <th>dataset</th>\n",
       "      <th>mean</th>\n",
       "      <th>median</th>\n",
       "      <th>max</th>\n",
       "      <th>min</th>\n",
       "      <th>var</th>\n",
       "    </tr>\n",
       "  </thead>\n",
       "  <tbody>\n",
       "    <tr>\n",
       "      <th>0</th>\n",
       "      <td>scinews</td>\n",
       "      <td>615.017670</td>\n",
       "      <td>571.0</td>\n",
       "      <td>2720.0</td>\n",
       "      <td>119.0</td>\n",
       "      <td>61598.801980</td>\n",
       "    </tr>\n",
       "    <tr>\n",
       "      <th>1</th>\n",
       "      <td>elife</td>\n",
       "      <td>383.091286</td>\n",
       "      <td>380.0</td>\n",
       "      <td>607.0</td>\n",
       "      <td>226.0</td>\n",
       "      <td>4361.327766</td>\n",
       "    </tr>\n",
       "    <tr>\n",
       "      <th>2</th>\n",
       "      <td>cdsr</td>\n",
       "      <td>221.132075</td>\n",
       "      <td>139.0</td>\n",
       "      <td>696.0</td>\n",
       "      <td>101.0</td>\n",
       "      <td>26451.850481</td>\n",
       "    </tr>\n",
       "    <tr>\n",
       "      <th>3</th>\n",
       "      <td>eureka</td>\n",
       "      <td>662.369307</td>\n",
       "      <td>629.5</td>\n",
       "      <td>1628.0</td>\n",
       "      <td>39.0</td>\n",
       "      <td>57528.949751</td>\n",
       "    </tr>\n",
       "    <tr>\n",
       "      <th>4</th>\n",
       "      <td>plos</td>\n",
       "      <td>194.696948</td>\n",
       "      <td>202.0</td>\n",
       "      <td>400.0</td>\n",
       "      <td>51.0</td>\n",
       "      <td>1481.026619</td>\n",
       "    </tr>\n",
       "    <tr>\n",
       "      <th>5</th>\n",
       "      <td>cells</td>\n",
       "      <td>161.831247</td>\n",
       "      <td>146.0</td>\n",
       "      <td>609.0</td>\n",
       "      <td>41.0</td>\n",
       "      <td>4412.272426</td>\n",
       "    </tr>\n",
       "    <tr>\n",
       "      <th>6</th>\n",
       "      <td>scitldr</td>\n",
       "      <td>18.852751</td>\n",
       "      <td>18.0</td>\n",
       "      <td>44.0</td>\n",
       "      <td>3.0</td>\n",
       "      <td>57.203237</td>\n",
       "    </tr>\n",
       "    <tr>\n",
       "      <th>7</th>\n",
       "      <td>arxiv</td>\n",
       "      <td>163.130745</td>\n",
       "      <td>159.0</td>\n",
       "      <td>290.0</td>\n",
       "      <td>44.0</td>\n",
       "      <td>3340.795017</td>\n",
       "    </tr>\n",
       "    <tr>\n",
       "      <th>8</th>\n",
       "      <td>skj</td>\n",
       "      <td>142.246479</td>\n",
       "      <td>144.0</td>\n",
       "      <td>356.0</td>\n",
       "      <td>72.0</td>\n",
       "      <td>786.446290</td>\n",
       "    </tr>\n",
       "    <tr>\n",
       "      <th>9</th>\n",
       "      <td>pubmed</td>\n",
       "      <td>205.383356</td>\n",
       "      <td>213.0</td>\n",
       "      <td>506.0</td>\n",
       "      <td>17.0</td>\n",
       "      <td>6365.603376</td>\n",
       "    </tr>\n",
       "  </tbody>\n",
       "</table>\n",
       "</div>"
      ],
      "text/plain": [
       "   dataset        mean  median     max    min           var\n",
       "0  scinews  615.017670   571.0  2720.0  119.0  61598.801980\n",
       "1    elife  383.091286   380.0   607.0  226.0   4361.327766\n",
       "2     cdsr  221.132075   139.0   696.0  101.0  26451.850481\n",
       "3   eureka  662.369307   629.5  1628.0   39.0  57528.949751\n",
       "4     plos  194.696948   202.0   400.0   51.0   1481.026619\n",
       "5    cells  161.831247   146.0   609.0   41.0   4412.272426\n",
       "6  scitldr   18.852751    18.0    44.0    3.0     57.203237\n",
       "7    arxiv  163.130745   159.0   290.0   44.0   3340.795017\n",
       "8      skj  142.246479   144.0   356.0   72.0    786.446290\n",
       "9   pubmed  205.383356   213.0   506.0   17.0   6365.603376"
      ]
     },
     "execution_count": 53,
     "metadata": {},
     "output_type": "execute_result"
    }
   ],
   "source": [
    "col_names = [\"dataset\", \"mean\", \"median\", \"max\", \"min\", \"var\"]\n",
    "rows = []\n",
    "for f_name in summaries_files:\n",
    "    dataset_name = f_name.split('/')[-1].split('.')[-2]\n",
    "    stats = analyze_file(f_name)\n",
    "    rows.append([dataset_name]+stats)\n",
    "\n",
    "df = pd.DataFrame(rows, columns=col_names)\n",
    "df\n"
   ]
  },
  {
   "cell_type": "code",
   "execution_count": 49,
   "metadata": {},
   "outputs": [
    {
     "data": {
      "text/html": [
       "<div>\n",
       "<style scoped>\n",
       "    .dataframe tbody tr th:only-of-type {\n",
       "        vertical-align: middle;\n",
       "    }\n",
       "\n",
       "    .dataframe tbody tr th {\n",
       "        vertical-align: top;\n",
       "    }\n",
       "\n",
       "    .dataframe thead th {\n",
       "        text-align: right;\n",
       "    }\n",
       "</style>\n",
       "<table border=\"1\" class=\"dataframe\">\n",
       "  <thead>\n",
       "    <tr style=\"text-align: right;\">\n",
       "      <th></th>\n",
       "      <th>readability</th>\n",
       "      <th>summary</th>\n",
       "      <th>response</th>\n",
       "      <th>dataset</th>\n",
       "      <th>model</th>\n",
       "      <th>coleman_liau</th>\n",
       "      <th>n_tokens</th>\n",
       "    </tr>\n",
       "  </thead>\n",
       "  <tbody>\n",
       "    <tr>\n",
       "      <th>0</th>\n",
       "      <td>2.0</td>\n",
       "      <td>Significance Endothelial cells ( ECs) , which ...</td>\n",
       "      <td>I would rate the reading ease of this text as ...</td>\n",
       "      <td>cells</td>\n",
       "      <td>3-70B-Instruct</td>\n",
       "      <td>17.323846</td>\n",
       "      <td>106</td>\n",
       "    </tr>\n",
       "    <tr>\n",
       "      <th>1</th>\n",
       "      <td>1.0</td>\n",
       "      <td>Significance Epithelial cellular activating mo...</td>\n",
       "      <td>I would rate the reading ease of this text as ...</td>\n",
       "      <td>cells</td>\n",
       "      <td>3-70B-Instruct</td>\n",
       "      <td>18.534513</td>\n",
       "      <td>114</td>\n",
       "    </tr>\n",
       "    <tr>\n",
       "      <th>2</th>\n",
       "      <td>2.0</td>\n",
       "      <td>Significance Approximately 25% of the human pr...</td>\n",
       "      <td>I would rate the reading ease of this text as ...</td>\n",
       "      <td>cells</td>\n",
       "      <td>3-70B-Instruct</td>\n",
       "      <td>14.905455</td>\n",
       "      <td>120</td>\n",
       "    </tr>\n",
       "    <tr>\n",
       "      <th>3</th>\n",
       "      <td>2.0</td>\n",
       "      <td>All cell types have a characteristic size, but...</td>\n",
       "      <td>I would rate the reading ease of this text as ...</td>\n",
       "      <td>cells</td>\n",
       "      <td>3-70B-Instruct</td>\n",
       "      <td>14.680190</td>\n",
       "      <td>212</td>\n",
       "    </tr>\n",
       "    <tr>\n",
       "      <th>4</th>\n",
       "      <td>2.0</td>\n",
       "      <td>Significance Processing of spatial, temporal, ...</td>\n",
       "      <td>I would rate the reading ease of this text as ...</td>\n",
       "      <td>cells</td>\n",
       "      <td>3-70B-Instruct</td>\n",
       "      <td>20.318644</td>\n",
       "      <td>118</td>\n",
       "    </tr>\n",
       "    <tr>\n",
       "      <th>...</th>\n",
       "      <td>...</td>\n",
       "      <td>...</td>\n",
       "      <td>...</td>\n",
       "      <td>...</td>\n",
       "      <td>...</td>\n",
       "      <td>...</td>\n",
       "      <td>...</td>\n",
       "    </tr>\n",
       "    <tr>\n",
       "      <th>27173</th>\n",
       "      <td>1.0</td>\n",
       "      <td>we explain how hierarchical organization of bi...</td>\n",
       "      <td>I would rate the reading ease of this text as ...</td>\n",
       "      <td>arxiv</td>\n",
       "      <td>3-70B-Instruct</td>\n",
       "      <td>16.108940</td>\n",
       "      <td>241</td>\n",
       "    </tr>\n",
       "    <tr>\n",
       "      <th>27174</th>\n",
       "      <td>4.0</td>\n",
       "      <td>this work presents a smart trespasser detectio...</td>\n",
       "      <td>I would rate the reading ease of this text as ...</td>\n",
       "      <td>arxiv</td>\n",
       "      <td>3-70B-Instruct</td>\n",
       "      <td>-1.000000</td>\n",
       "      <td>100</td>\n",
       "    </tr>\n",
       "    <tr>\n",
       "      <th>27175</th>\n",
       "      <td>2.0</td>\n",
       "      <td>the giant radio galaxy m87 was observed at tev...</td>\n",
       "      <td>I would rate the reading ease of this text as ...</td>\n",
       "      <td>arxiv</td>\n",
       "      <td>3-70B-Instruct</td>\n",
       "      <td>-1.000000</td>\n",
       "      <td>101</td>\n",
       "    </tr>\n",
       "    <tr>\n",
       "      <th>27176</th>\n",
       "      <td>1.0</td>\n",
       "      <td>the discovery of decay products of a short - l...</td>\n",
       "      <td>I would rate the reading ease of this text as ...</td>\n",
       "      <td>arxiv</td>\n",
       "      <td>3-70B-Instruct</td>\n",
       "      <td>12.868313</td>\n",
       "      <td>272</td>\n",
       "    </tr>\n",
       "    <tr>\n",
       "      <th>27177</th>\n",
       "      <td>1.0</td>\n",
       "      <td>an iterative algorithm is presented for soft -...</td>\n",
       "      <td>I would rate the reading ease of this text as ...</td>\n",
       "      <td>arxiv</td>\n",
       "      <td>3-70B-Instruct</td>\n",
       "      <td>15.627712</td>\n",
       "      <td>182</td>\n",
       "    </tr>\n",
       "  </tbody>\n",
       "</table>\n",
       "<p>27178 rows × 7 columns</p>\n",
       "</div>"
      ],
      "text/plain": [
       "       readability                                            summary  \\\n",
       "0              2.0  Significance Endothelial cells ( ECs) , which ...   \n",
       "1              1.0  Significance Epithelial cellular activating mo...   \n",
       "2              2.0  Significance Approximately 25% of the human pr...   \n",
       "3              2.0  All cell types have a characteristic size, but...   \n",
       "4              2.0  Significance Processing of spatial, temporal, ...   \n",
       "...            ...                                                ...   \n",
       "27173          1.0  we explain how hierarchical organization of bi...   \n",
       "27174          4.0  this work presents a smart trespasser detectio...   \n",
       "27175          2.0  the giant radio galaxy m87 was observed at tev...   \n",
       "27176          1.0  the discovery of decay products of a short - l...   \n",
       "27177          1.0  an iterative algorithm is presented for soft -...   \n",
       "\n",
       "                                                response dataset  \\\n",
       "0      I would rate the reading ease of this text as ...   cells   \n",
       "1      I would rate the reading ease of this text as ...   cells   \n",
       "2      I would rate the reading ease of this text as ...   cells   \n",
       "3      I would rate the reading ease of this text as ...   cells   \n",
       "4      I would rate the reading ease of this text as ...   cells   \n",
       "...                                                  ...     ...   \n",
       "27173  I would rate the reading ease of this text as ...   arxiv   \n",
       "27174  I would rate the reading ease of this text as ...   arxiv   \n",
       "27175  I would rate the reading ease of this text as ...   arxiv   \n",
       "27176  I would rate the reading ease of this text as ...   arxiv   \n",
       "27177  I would rate the reading ease of this text as ...   arxiv   \n",
       "\n",
       "                model  coleman_liau  n_tokens  \n",
       "0      3-70B-Instruct     17.323846       106  \n",
       "1      3-70B-Instruct     18.534513       114  \n",
       "2      3-70B-Instruct     14.905455       120  \n",
       "3      3-70B-Instruct     14.680190       212  \n",
       "4      3-70B-Instruct     20.318644       118  \n",
       "...               ...           ...       ...  \n",
       "27173  3-70B-Instruct     16.108940       241  \n",
       "27174  3-70B-Instruct     -1.000000       100  \n",
       "27175  3-70B-Instruct     -1.000000       101  \n",
       "27176  3-70B-Instruct     12.868313       272  \n",
       "27177  3-70B-Instruct     15.627712       182  \n",
       "\n",
       "[27178 rows x 7 columns]"
      ]
     },
     "execution_count": 49,
     "metadata": {},
     "output_type": "execute_result"
    }
   ],
   "source": [
    "all_scores['n_tokens'] = -1\n",
    "for fpath in summaries_files:\n",
    "    dataset_name = fpath.split('/')[-1].split('.')[-2]\n",
    "    ntokens  = analyze_file(fpath, return_n_tokens=True)\n",
    "    all_scores.loc[all_scores['dataset'] == dataset_name, 'n_tokens'] = ntokens\n",
    "all_scores"
   ]
  },
  {
   "cell_type": "code",
   "execution_count": null,
   "metadata": {},
   "outputs": [
    {
     "data": {
      "text/plain": [
       "PearsonRResult(statistic=0.23042170859930367, pvalue=1.068088971052248e-274)"
      ]
     },
     "execution_count": 63,
     "metadata": {},
     "output_type": "execute_result"
    }
   ],
   "source": [
    "pearsonr(all_scores['readability'], all_scores['n_tokens'])"
   ]
  },
  {
   "cell_type": "code",
   "execution_count": null,
   "metadata": {},
   "outputs": [
    {
     "data": {
      "text/plain": [
       "<Axes: xlabel='readability', ylabel='n_tokens'>"
      ]
     },
     "execution_count": 67,
     "metadata": {},
     "output_type": "execute_result"
    },
    {
     "data": {
      "image/png": "[encoded data removed]",
      "text/plain": [
       "<Figure size 640x480 with 1 Axes>"
      ]
     },
     "metadata": {},
     "output_type": "display_data"
    }
   ],
   "source": [
    "ax = plt.subplot()\n",
    "ax.xaxis.set_ticks([1,2,3,4,5])\n",
    "ax.set_xlim([0.5,5.5])\n",
    "sns.scatterplot(all_scores, x=\"readability\", y='n_tokens', ax=ax)"
   ]
  }
 ],
 "metadata": {
  "kernelspec": {
   "display_name": "Python 3 (ipykernel)",
   "language": "python",
   "name": "python3"
  },
  "language_info": {
   "codemirror_mode": {
    "name": "ipython",
    "version": 3
   },
   "file_extension": ".py",
   "mimetype": "text/x-python",
   "name": "python",
   "nbconvert_exporter": "python",
   "pygments_lexer": "ipython3",
   "version": "3.9.16"
  }
 },
 "nbformat": 4,
 "nbformat_minor": 2
}
