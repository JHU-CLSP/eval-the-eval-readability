{
 "cells": [
  {
   "cell_type": "code",
   "execution_count": 1,
   "metadata": {},
   "outputs": [
    {
     "name": "stderr",
     "output_type": "stream",
     "text": [
      "[nltk_data] Downloading package punkt_tab to\n",
      "[nltk_data]     /home/icachol1/nltk_data...\n",
      "[nltk_data]   Package punkt_tab is already up-to-date!\n",
      "[nltk_data] Downloading package stopwords to\n",
      "[nltk_data]     /home/icachol1/nltk_data...\n",
      "[nltk_data]   Package stopwords is already up-to-date!\n"
     ]
    },
    {
     "name": "stdout",
     "output_type": "stream",
     "text": [
      "/home/icachol1/.conda/envs/request-gpt/lib/python3.9/site-packages\n",
      "Collecting en-core-web-sm==3.8.0\n",
      "  Downloading https://github.com/explosion/spacy-models/releases/download/en_core_web_sm-3.8.0/en_core_web_sm-3.8.0-py3-none-any.whl (12.8 MB)\n",
      "\u001b[2K     \u001b[38;2;114;156;31m━━━━━━━━━━━━━━━━━━━━━━━━━━━━━━━━━━━━━━━━\u001b[0m \u001b[32m12.8/12.8 MB\u001b[0m \u001b[31m4.1 MB/s\u001b[0m eta \u001b[36m0:00:00\u001b[0mm eta \u001b[36m0:00:01\u001b[0m[36m0:00:01\u001b[0m\n",
      "\u001b[?25h\u001b[38;5;2m✔ Download and installation successful\u001b[0m\n",
      "You can now load the package via spacy.load('en_core_web_sm')\n"
     ]
    }
   ],
   "source": [
    "import pandas as pd\n",
    "import matplotlib.pyplot as plt\n",
    "import nltk\n",
    "nltk.download('punkt_tab')\n",
    "nltk.download('stopwords')\n",
    "import seaborn as sns\n",
    "import numpy as np\n",
    "import matplotlib.pyplot as plt\n",
    "from readability import Readability\n",
    "from itertools import combinations\n",
    "import glob\n",
    "import yake\n",
    "from tqdm import tqdm\n",
    "from scipy.stats import pearsonr\n",
    "import spacy\n",
    "import pytextrank\n",
    "from collections import defaultdict\n",
    "from nltk.corpus import stopwords\n",
    "from sklearn.metrics import cohen_kappa_score\n",
    "\n",
    "sns.set_theme()\n",
    "!python -m spacy download en_core_web_sm"
   ]
  },
  {
   "cell_type": "code",
   "execution_count": 2,
   "metadata": {},
   "outputs": [
    {
     "data": {
      "text/plain": [
       "['/scratch4/mdredze1/icachol1/readability_analysis-data/meta-llama/Llama-3.3-70B-Instruct-prompt4.scitldr.csv',\n",
       " '/scratch4/mdredze1/icachol1/readability_analysis-data/meta-llama/Llama-3.3-70B-Instruct-prompt4.eureka.csv',\n",
       " '/scratch4/mdredze1/icachol1/readability_analysis-data/meta-llama/Llama-3.3-70B-Instruct-prompt4.arxiv.csv',\n",
       " '/scratch4/mdredze1/icachol1/readability_analysis-data/meta-llama/Llama-3.3-70B-Instruct-prompt4.cells.csv',\n",
       " '/scratch4/mdredze1/icachol1/readability_analysis-data/meta-llama/Llama-3.3-70B-Instruct-prompt4.cdsr.csv',\n",
       " '/scratch4/mdredze1/icachol1/readability_analysis-data/meta-llama/Llama-3.3-70B-Instruct-prompt4.skj.csv',\n",
       " '/scratch4/mdredze1/icachol1/readability_analysis-data/meta-llama/Llama-3.3-70B-Instruct-prompt4.plos.csv',\n",
       " '/scratch4/mdredze1/icachol1/readability_analysis-data/meta-llama/Llama-3.3-70B-Instruct-prompt4.pubmed.csv',\n",
       " '/scratch4/mdredze1/icachol1/readability_analysis-data/meta-llama/Llama-3.3-70B-Instruct-prompt4.elife.csv',\n",
       " '/scratch4/mdredze1/icachol1/readability_analysis-data/meta-llama/Llama-3.3-70B-Instruct-prompt4.scinews.csv']"
      ]
     },
     "execution_count": 2,
     "metadata": {},
     "output_type": "execute_result"
    }
   ],
   "source": [
    "output_dir = \"/scratch4/mdredze1/icachol1/readability_analysis-data\"\n",
    "output_files = glob.glob(f\"{output_dir}/meta-llama/Llama-3.3-70B-Instruct-prompt4.*.csv\")\n",
    "output_files"
   ]
  },
  {
   "cell_type": "code",
   "execution_count": 3,
   "metadata": {},
   "outputs": [],
   "source": [
    "def get_summaries(d_name):\n",
    "    f_name = f'/scratch4/mdredze1/icachol1/layscisum/targets/{d_name}.target'\n",
    "    lines = open(f_name).readlines()\n",
    "    return [l.strip() for l in lines]"
   ]
  },
  {
   "cell_type": "code",
   "execution_count": 4,
   "metadata": {},
   "outputs": [
    {
     "name": "stdout",
     "output_type": "stream",
     "text": [
      "618 618\n",
      "1010 1010\n",
      "6440 6440\n",
      "6311 6311\n",
      "53 53\n",
      "284 284\n",
      "1376 1376\n",
      "6657 6657\n",
      "241 241\n",
      "4188 4188\n"
     ]
    },
    {
     "data": {
      "text/html": [
       "<div>\n",
       "<style scoped>\n",
       "    .dataframe tbody tr th:only-of-type {\n",
       "        vertical-align: middle;\n",
       "    }\n",
       "\n",
       "    .dataframe tbody tr th {\n",
       "        vertical-align: top;\n",
       "    }\n",
       "\n",
       "    .dataframe thead th {\n",
       "        text-align: right;\n",
       "    }\n",
       "</style>\n",
       "<table border=\"1\" class=\"dataframe\">\n",
       "  <thead>\n",
       "    <tr style=\"text-align: right;\">\n",
       "      <th></th>\n",
       "      <th>readability</th>\n",
       "      <th>summary</th>\n",
       "      <th>response</th>\n",
       "      <th>dataset</th>\n",
       "      <th>model</th>\n",
       "    </tr>\n",
       "  </thead>\n",
       "  <tbody>\n",
       "    <tr>\n",
       "      <th>0</th>\n",
       "      <td>2.0</td>\n",
       "      <td>FearNet is a memory efficient neural-network, ...</td>\n",
       "      <td>I would rate the reading ease of this text as ...</td>\n",
       "      <td>scitldr</td>\n",
       "      <td>3-70B-Instruct-prompt4</td>\n",
       "    </tr>\n",
       "    <tr>\n",
       "      <th>1</th>\n",
       "      <td>2.0</td>\n",
       "      <td>Multi-view learning improves unsupervised sent...</td>\n",
       "      <td>I would rate the reading ease of the text as a...</td>\n",
       "      <td>scitldr</td>\n",
       "      <td>3-70B-Instruct-prompt4</td>\n",
       "    </tr>\n",
       "    <tr>\n",
       "      <th>2</th>\n",
       "      <td>2.0</td>\n",
       "      <td>We show how discrete objects can be learnt in ...</td>\n",
       "      <td>I would rate the reading ease of the text as a...</td>\n",
       "      <td>scitldr</td>\n",
       "      <td>3-70B-Instruct-prompt4</td>\n",
       "    </tr>\n",
       "    <tr>\n",
       "      <th>3</th>\n",
       "      <td>4.0</td>\n",
       "      <td>A large-scale dataset for training attention m...</td>\n",
       "      <td>I would rate the reading ease of the text as a...</td>\n",
       "      <td>scitldr</td>\n",
       "      <td>3-70B-Instruct-prompt4</td>\n",
       "    </tr>\n",
       "    <tr>\n",
       "      <th>4</th>\n",
       "      <td>2.0</td>\n",
       "      <td>We proposed a time-efficient defense method ag...</td>\n",
       "      <td>I would rate the reading ease of this text as ...</td>\n",
       "      <td>scitldr</td>\n",
       "      <td>3-70B-Instruct-prompt4</td>\n",
       "    </tr>\n",
       "    <tr>\n",
       "      <th>...</th>\n",
       "      <td>...</td>\n",
       "      <td>...</td>\n",
       "      <td>...</td>\n",
       "      <td>...</td>\n",
       "      <td>...</td>\n",
       "    </tr>\n",
       "    <tr>\n",
       "      <th>27173</th>\n",
       "      <td>3.0</td>\n",
       "      <td>A key technical challenge in creating new sulf...</td>\n",
       "      <td>I would rate the reading ease of this text as ...</td>\n",
       "      <td>scinews</td>\n",
       "      <td>3-70B-Instruct-prompt4</td>\n",
       "    </tr>\n",
       "    <tr>\n",
       "      <th>27174</th>\n",
       "      <td>3.0</td>\n",
       "      <td>Increased carbon sequestration in soil to help...</td>\n",
       "      <td>I would rate the reading ease of this text a 3...</td>\n",
       "      <td>scinews</td>\n",
       "      <td>3-70B-Instruct-prompt4</td>\n",
       "    </tr>\n",
       "    <tr>\n",
       "      <th>27175</th>\n",
       "      <td>4.0</td>\n",
       "      <td>Medicines such as insulin for diabetes and clo...</td>\n",
       "      <td>I would rate the reading ease of this text as ...</td>\n",
       "      <td>scinews</td>\n",
       "      <td>3-70B-Instruct-prompt4</td>\n",
       "    </tr>\n",
       "    <tr>\n",
       "      <th>27176</th>\n",
       "      <td>2.0</td>\n",
       "      <td>The electronic structure of nonmagnetic crysta...</td>\n",
       "      <td>I would rate the reading ease of this text as ...</td>\n",
       "      <td>scinews</td>\n",
       "      <td>3-70B-Instruct-prompt4</td>\n",
       "    </tr>\n",
       "    <tr>\n",
       "      <th>27177</th>\n",
       "      <td>2.0</td>\n",
       "      <td>One of the outstanding mysteries of the cerebr...</td>\n",
       "      <td>I would rate the reading ease of this text as ...</td>\n",
       "      <td>scinews</td>\n",
       "      <td>3-70B-Instruct-prompt4</td>\n",
       "    </tr>\n",
       "  </tbody>\n",
       "</table>\n",
       "<p>27178 rows × 5 columns</p>\n",
       "</div>"
      ],
      "text/plain": [
       "       readability                                            summary  \\\n",
       "0              2.0  FearNet is a memory efficient neural-network, ...   \n",
       "1              2.0  Multi-view learning improves unsupervised sent...   \n",
       "2              2.0  We show how discrete objects can be learnt in ...   \n",
       "3              4.0  A large-scale dataset for training attention m...   \n",
       "4              2.0  We proposed a time-efficient defense method ag...   \n",
       "...            ...                                                ...   \n",
       "27173          3.0  A key technical challenge in creating new sulf...   \n",
       "27174          3.0  Increased carbon sequestration in soil to help...   \n",
       "27175          4.0  Medicines such as insulin for diabetes and clo...   \n",
       "27176          2.0  The electronic structure of nonmagnetic crysta...   \n",
       "27177          2.0  One of the outstanding mysteries of the cerebr...   \n",
       "\n",
       "                                                response  dataset  \\\n",
       "0      I would rate the reading ease of this text as ...  scitldr   \n",
       "1      I would rate the reading ease of the text as a...  scitldr   \n",
       "2      I would rate the reading ease of the text as a...  scitldr   \n",
       "3      I would rate the reading ease of the text as a...  scitldr   \n",
       "4      I would rate the reading ease of this text as ...  scitldr   \n",
       "...                                                  ...      ...   \n",
       "27173  I would rate the reading ease of this text as ...  scinews   \n",
       "27174  I would rate the reading ease of this text a 3...  scinews   \n",
       "27175  I would rate the reading ease of this text as ...  scinews   \n",
       "27176  I would rate the reading ease of this text as ...  scinews   \n",
       "27177  I would rate the reading ease of this text as ...  scinews   \n",
       "\n",
       "                        model  \n",
       "0      3-70B-Instruct-prompt4  \n",
       "1      3-70B-Instruct-prompt4  \n",
       "2      3-70B-Instruct-prompt4  \n",
       "3      3-70B-Instruct-prompt4  \n",
       "4      3-70B-Instruct-prompt4  \n",
       "...                       ...  \n",
       "27173  3-70B-Instruct-prompt4  \n",
       "27174  3-70B-Instruct-prompt4  \n",
       "27175  3-70B-Instruct-prompt4  \n",
       "27176  3-70B-Instruct-prompt4  \n",
       "27177  3-70B-Instruct-prompt4  \n",
       "\n",
       "[27178 rows x 5 columns]"
      ]
     },
     "execution_count": 4,
     "metadata": {},
     "output_type": "execute_result"
    }
   ],
   "source": [
    "def get_scores(files_list):\n",
    "    objs = []\n",
    "    for f_name in files_list:\n",
    "        df = pd.read_csv(f_name)\n",
    "        try:\n",
    "            scores = df['reading_ease'].to_list()\n",
    "            responses = df['response'].to_list()\n",
    "            dataset = f_name.split('.')[-2]\n",
    "            summaries = get_summaries(dataset)\n",
    "            print(len(scores), len(summaries))\n",
    "            model = f_name.split('.')[-3]\n",
    "            objs.append(\n",
    "                pd.DataFrame.from_dict(\n",
    "                    {\n",
    "                    'readability': scores, \n",
    "                    'summary': summaries,\n",
    "                    'response': responses, \n",
    "                    'dataset': dataset, \n",
    "                    'model': model})\n",
    "            )\n",
    "        except KeyError:\n",
    "            print(f_name)\n",
    "    return pd.concat(axis=0, ignore_index=True, objs=objs)\n",
    "all_scores = get_scores(output_files)\n",
    "all_scores"
   ]
  },
  {
   "cell_type": "code",
   "execution_count": 6,
   "metadata": {},
   "outputs": [
    {
     "data": {
      "text/plain": [
       "10.673162393162393"
      ]
     },
     "execution_count": 6,
     "metadata": {},
     "output_type": "execute_result"
    }
   ],
   "source": [
    "def get_readability(text):\n",
    "  try:\n",
    "    r = Readability(text)\n",
    "    return r.coleman_liau().score\n",
    "  except:\n",
    "    return -1\n",
    "text = \"\"\"\n",
    "  In linguistics, the Gunning fog index is a readability test for English writing. The index estimates the years of formal education a person needs to understand the text on the first reading. For instance, a fog index of 12 requires the reading level of a United States high school senior (around 18 years old). The test was developed in 1952 by Robert Gunning, an American businessman who had been involved in newspaper and textbook publishing.\n",
    "  The fog index is commonly used to confirm that text can be read easily by the intended audience. Texts for a wide audience generally need a fog index less than 12. Texts requiring near-universal understanding generally need an index less than 8.\n",
    "  \"\"\"\n",
    "get_readability(text)"
   ]
  },
  {
   "cell_type": "code",
   "execution_count": 7,
   "metadata": {},
   "outputs": [],
   "source": [
    "all_scores['coleman_liau'] = all_scores['summary'].apply(get_readability)"
   ]
  },
  {
   "cell_type": "code",
   "execution_count": 8,
   "metadata": {},
   "outputs": [
    {
     "name": "stderr",
     "output_type": "stream",
     "text": [
      "/tmp/ipykernel_453495/3608487856.py:6: SettingWithCopyWarning: \n",
      "A value is trying to be set on a copy of a slice from a DataFrame.\n",
      "Try using .loc[row_indexer,col_indexer] = value instead\n",
      "\n",
      "See the caveats in the documentation: https://pandas.pydata.org/pandas-docs/stable/user_guide/indexing.html#returning-a-view-versus-a-copy\n",
      "  tmp['clbinary'] = clbinary.apply(int)\n",
      "/tmp/ipykernel_453495/3608487856.py:7: SettingWithCopyWarning: \n",
      "A value is trying to be set on a copy of a slice from a DataFrame.\n",
      "Try using .loc[row_indexer,col_indexer] = value instead\n",
      "\n",
      "See the caveats in the documentation: https://pandas.pydata.org/pandas-docs/stable/user_guide/indexing.html#returning-a-view-versus-a-copy\n",
      "  tmp['lm_binary'] = lm_binary.apply(int)\n"
     ]
    },
    {
     "data": {
      "text/plain": [
       "0.22059270529236152"
      ]
     },
     "execution_count": 8,
     "metadata": {},
     "output_type": "execute_result"
    }
   ],
   "source": [
    "def get_aggreement_from_binary(r_level, lm_level):\n",
    "    try:\n",
    "        tmp = all_scores[all_scores['coleman_liau'] != -1]\n",
    "        clbinary = tmp['coleman_liau'] < r_level\n",
    "        lm_binary = tmp['readability'] >= lm_level\n",
    "        tmp['clbinary'] = clbinary.apply(int)\n",
    "        tmp['lm_binary'] = lm_binary.apply(int)\n",
    "        return cohen_kappa_score(tmp['clbinary'], tmp['lm_binary'])\n",
    "    except:\n",
    "        return -10000\n",
    "get_aggreement_from_binary(12, 4)"
   ]
  },
  {
   "cell_type": "code",
   "execution_count": 9,
   "metadata": {},
   "outputs": [
    {
     "data": {
      "text/plain": [
       "PearsonRResult(statistic=-0.2321796345897468, pvalue=3.9465885975939065e-288)"
      ]
     },
     "execution_count": 9,
     "metadata": {},
     "output_type": "execute_result"
    }
   ],
   "source": [
    "cl_df = all_scores[all_scores['coleman_liau'] != -1]\n",
    "pearsonr(cl_df['coleman_liau'], cl_df['readability'])"
   ]
  },
  {
   "cell_type": "code",
   "execution_count": 10,
   "metadata": {},
   "outputs": [
    {
     "data": {
      "text/plain": [
       "readability                                                   5.0\n",
       "summary         There is a global need for more sustainable an...\n",
       "response        I would rate the reading ease of this text as ...\n",
       "dataset                                                       skj\n",
       "model                                      3-70B-Instruct-prompt4\n",
       "coleman_liau                                            13.187239\n",
       "Name: 14712, dtype: object"
      ]
     },
     "execution_count": 10,
     "metadata": {},
     "output_type": "execute_result"
    }
   ],
   "source": [
    "cl_df[(cl_df['coleman_liau'] > 13) & (cl_df['readability'] > 4)].iloc[0]"
   ]
  },
  {
   "cell_type": "code",
   "execution_count": 11,
   "metadata": {},
   "outputs": [
    {
     "data": {
      "text/plain": [
       "'There is a global need for more sustainable and environmentally friendly construction materials. The large, stable mounds that termites build for their homes are inspirational! Termite mounds form when the termites mix soil with their saliva. This mixture contains simple sugars that act like glue and give it stability. Cassava is a starchy root vegetable that also contains simple sugars. To mimic termite mounds, we mixed soil with hot paste made from cassava flour. Then, we made bricks containing different amounts of cassava flour paste, from 0% to 6%. We tested the physical properties of these different bricks. Our aim was to see how suitable they would be in building construction. Bricks made with 1.5% cassava flour paste performed best in tests of strength, durability, shrinkage, and water absorption. They were even better than traditional clay bricks with no cassava flour! Our termite mound-inspired bricks provide an inexpensive, accessible, and safe alternative to current building materials. AVAILABLE IN UPPER AND LOWER READING LEVELS.'"
      ]
     },
     "execution_count": 11,
     "metadata": {},
     "output_type": "execute_result"
    }
   ],
   "source": [
    "cl_df[(cl_df['coleman_liau'] > 13) & (cl_df['readability'] > 4)].iloc[0]['summary']"
   ]
  },
  {
   "cell_type": "code",
   "execution_count": 12,
   "metadata": {},
   "outputs": [
    {
     "data": {
      "text/html": [
       "<div>\n",
       "<style scoped>\n",
       "    .dataframe tbody tr th:only-of-type {\n",
       "        vertical-align: middle;\n",
       "    }\n",
       "\n",
       "    .dataframe tbody tr th {\n",
       "        vertical-align: top;\n",
       "    }\n",
       "\n",
       "    .dataframe thead th {\n",
       "        text-align: right;\n",
       "    }\n",
       "</style>\n",
       "<table border=\"1\" class=\"dataframe\">\n",
       "  <thead>\n",
       "    <tr style=\"text-align: right;\">\n",
       "      <th></th>\n",
       "      <th>readability</th>\n",
       "      <th>summary</th>\n",
       "      <th>response</th>\n",
       "      <th>dataset</th>\n",
       "      <th>model</th>\n",
       "      <th>coleman_liau</th>\n",
       "    </tr>\n",
       "  </thead>\n",
       "  <tbody>\n",
       "    <tr>\n",
       "      <th>1646</th>\n",
       "      <td>1.0</td>\n",
       "      <td>we compute the one - loop corrections to the @...</td>\n",
       "      <td>I would rate the reading ease of this text as ...</td>\n",
       "      <td>arxiv</td>\n",
       "      <td>3-70B-Instruct-prompt4</td>\n",
       "      <td>10.445172</td>\n",
       "    </tr>\n",
       "    <tr>\n",
       "      <th>1717</th>\n",
       "      <td>1.0</td>\n",
       "      <td>in this talk i discuss three related topics ba...</td>\n",
       "      <td>I would rate the reading ease of this text as ...</td>\n",
       "      <td>arxiv</td>\n",
       "      <td>3-70B-Instruct-prompt4</td>\n",
       "      <td>9.504596</td>\n",
       "    </tr>\n",
       "    <tr>\n",
       "      <th>1752</th>\n",
       "      <td>1.0</td>\n",
       "      <td>a model of quark mass matrices from six dimens...</td>\n",
       "      <td>I would rate the reading ease of this text as ...</td>\n",
       "      <td>arxiv</td>\n",
       "      <td>3-70B-Instruct-prompt4</td>\n",
       "      <td>9.000702</td>\n",
       "    </tr>\n",
       "    <tr>\n",
       "      <th>1754</th>\n",
       "      <td>1.0</td>\n",
       "      <td>light curve analysis of decay phase of nova ou...</td>\n",
       "      <td>I would rate the reading ease of this text as ...</td>\n",
       "      <td>arxiv</td>\n",
       "      <td>3-70B-Instruct-prompt4</td>\n",
       "      <td>10.176129</td>\n",
       "    </tr>\n",
       "    <tr>\n",
       "      <th>1844</th>\n",
       "      <td>1.0</td>\n",
       "      <td>the distant globular cluster palomar 13 has be...</td>\n",
       "      <td>I would rate the reading ease of this text as ...</td>\n",
       "      <td>arxiv</td>\n",
       "      <td>3-70B-Instruct-prompt4</td>\n",
       "      <td>9.721301</td>\n",
       "    </tr>\n",
       "    <tr>\n",
       "      <th>...</th>\n",
       "      <td>...</td>\n",
       "      <td>...</td>\n",
       "      <td>...</td>\n",
       "      <td>...</td>\n",
       "      <td>...</td>\n",
       "      <td>...</td>\n",
       "    </tr>\n",
       "    <tr>\n",
       "      <th>22986</th>\n",
       "      <td>2.0</td>\n",
       "      <td>If all the DNA contained within a single human...</td>\n",
       "      <td>I would rate the reading ease of this text as ...</td>\n",
       "      <td>elife</td>\n",
       "      <td>3-70B-Instruct-prompt4</td>\n",
       "      <td>9.304650</td>\n",
       "    </tr>\n",
       "    <tr>\n",
       "      <th>23068</th>\n",
       "      <td>2.0</td>\n",
       "      <td>Most of today's anticancer drugs target the DN...</td>\n",
       "      <td>I would rate the reading ease of this text as ...</td>\n",
       "      <td>scinews</td>\n",
       "      <td>3-70B-Instruct-prompt4</td>\n",
       "      <td>10.794443</td>\n",
       "    </tr>\n",
       "    <tr>\n",
       "      <th>24060</th>\n",
       "      <td>2.0</td>\n",
       "      <td>The rapid emergence of new strains of the SARS...</td>\n",
       "      <td>I would rate the reading ease of this text as ...</td>\n",
       "      <td>scinews</td>\n",
       "      <td>3-70B-Instruct-prompt4</td>\n",
       "      <td>10.913078</td>\n",
       "    </tr>\n",
       "    <tr>\n",
       "      <th>24173</th>\n",
       "      <td>2.0</td>\n",
       "      <td>A new study led by scientists at Sanford Burnh...</td>\n",
       "      <td>I would rate the reading ease of this text as ...</td>\n",
       "      <td>scinews</td>\n",
       "      <td>3-70B-Instruct-prompt4</td>\n",
       "      <td>10.499044</td>\n",
       "    </tr>\n",
       "    <tr>\n",
       "      <th>26073</th>\n",
       "      <td>2.0</td>\n",
       "      <td>Of the many divergent approaches to building a...</td>\n",
       "      <td>I would rate the reading ease of this text a 2...</td>\n",
       "      <td>scinews</td>\n",
       "      <td>3-70B-Instruct-prompt4</td>\n",
       "      <td>10.752814</td>\n",
       "    </tr>\n",
       "  </tbody>\n",
       "</table>\n",
       "<p>539 rows × 6 columns</p>\n",
       "</div>"
      ],
      "text/plain": [
       "       readability                                            summary  \\\n",
       "1646           1.0  we compute the one - loop corrections to the @...   \n",
       "1717           1.0  in this talk i discuss three related topics ba...   \n",
       "1752           1.0  a model of quark mass matrices from six dimens...   \n",
       "1754           1.0  light curve analysis of decay phase of nova ou...   \n",
       "1844           1.0  the distant globular cluster palomar 13 has be...   \n",
       "...            ...                                                ...   \n",
       "22986          2.0  If all the DNA contained within a single human...   \n",
       "23068          2.0  Most of today's anticancer drugs target the DN...   \n",
       "24060          2.0  The rapid emergence of new strains of the SARS...   \n",
       "24173          2.0  A new study led by scientists at Sanford Burnh...   \n",
       "26073          2.0  Of the many divergent approaches to building a...   \n",
       "\n",
       "                                                response  dataset  \\\n",
       "1646   I would rate the reading ease of this text as ...    arxiv   \n",
       "1717   I would rate the reading ease of this text as ...    arxiv   \n",
       "1752   I would rate the reading ease of this text as ...    arxiv   \n",
       "1754   I would rate the reading ease of this text as ...    arxiv   \n",
       "1844   I would rate the reading ease of this text as ...    arxiv   \n",
       "...                                                  ...      ...   \n",
       "22986  I would rate the reading ease of this text as ...    elife   \n",
       "23068  I would rate the reading ease of this text as ...  scinews   \n",
       "24060  I would rate the reading ease of this text as ...  scinews   \n",
       "24173  I would rate the reading ease of this text as ...  scinews   \n",
       "26073  I would rate the reading ease of this text a 2...  scinews   \n",
       "\n",
       "                        model  coleman_liau  \n",
       "1646   3-70B-Instruct-prompt4     10.445172  \n",
       "1717   3-70B-Instruct-prompt4      9.504596  \n",
       "1752   3-70B-Instruct-prompt4      9.000702  \n",
       "1754   3-70B-Instruct-prompt4     10.176129  \n",
       "1844   3-70B-Instruct-prompt4      9.721301  \n",
       "...                       ...           ...  \n",
       "22986  3-70B-Instruct-prompt4      9.304650  \n",
       "23068  3-70B-Instruct-prompt4     10.794443  \n",
       "24060  3-70B-Instruct-prompt4     10.913078  \n",
       "24173  3-70B-Instruct-prompt4     10.499044  \n",
       "26073  3-70B-Instruct-prompt4     10.752814  \n",
       "\n",
       "[539 rows x 6 columns]"
      ]
     },
     "execution_count": 12,
     "metadata": {},
     "output_type": "execute_result"
    }
   ],
   "source": [
    "cl_df[(cl_df['coleman_liau'] < 11) & (cl_df['readability'] < 3)]"
   ]
  },
  {
   "cell_type": "code",
   "execution_count": 13,
   "metadata": {},
   "outputs": [
    {
     "ename": "KeyError",
     "evalue": "21962",
     "output_type": "error",
     "traceback": [
      "\u001b[0;31m---------------------------------------------------------------------------\u001b[0m",
      "\u001b[0;31mKeyError\u001b[0m                                  Traceback (most recent call last)",
      "File \u001b[0;32m~/.conda/envs/request-gpt/lib/python3.9/site-packages/pandas/core/indexes/base.py:3805\u001b[0m, in \u001b[0;36mIndex.get_loc\u001b[0;34m(self, key)\u001b[0m\n\u001b[1;32m   3804\u001b[0m \u001b[38;5;28;01mtry\u001b[39;00m:\n\u001b[0;32m-> 3805\u001b[0m     \u001b[38;5;28;01mreturn\u001b[39;00m \u001b[38;5;28;43mself\u001b[39;49m\u001b[38;5;241;43m.\u001b[39;49m\u001b[43m_engine\u001b[49m\u001b[38;5;241;43m.\u001b[39;49m\u001b[43mget_loc\u001b[49m\u001b[43m(\u001b[49m\u001b[43mcasted_key\u001b[49m\u001b[43m)\u001b[49m\n\u001b[1;32m   3806\u001b[0m \u001b[38;5;28;01mexcept\u001b[39;00m \u001b[38;5;167;01mKeyError\u001b[39;00m \u001b[38;5;28;01mas\u001b[39;00m err:\n",
      "File \u001b[0;32mindex.pyx:167\u001b[0m, in \u001b[0;36mpandas._libs.index.IndexEngine.get_loc\u001b[0;34m()\u001b[0m\n",
      "File \u001b[0;32mindex.pyx:196\u001b[0m, in \u001b[0;36mpandas._libs.index.IndexEngine.get_loc\u001b[0;34m()\u001b[0m\n",
      "File \u001b[0;32mpandas/_libs/hashtable_class_helper.pxi:2606\u001b[0m, in \u001b[0;36mpandas._libs.hashtable.Int64HashTable.get_item\u001b[0;34m()\u001b[0m\n",
      "File \u001b[0;32mpandas/_libs/hashtable_class_helper.pxi:2630\u001b[0m, in \u001b[0;36mpandas._libs.hashtable.Int64HashTable.get_item\u001b[0;34m()\u001b[0m\n",
      "\u001b[0;31mKeyError\u001b[0m: 21962",
      "\nThe above exception was the direct cause of the following exception:\n",
      "\u001b[0;31mKeyError\u001b[0m                                  Traceback (most recent call last)",
      "Cell \u001b[0;32mIn[13], line 1\u001b[0m\n\u001b[0;32m----> 1\u001b[0m \u001b[43mcl_df\u001b[49m\u001b[43m[\u001b[49m\u001b[43m(\u001b[49m\u001b[43mcl_df\u001b[49m\u001b[43m[\u001b[49m\u001b[38;5;124;43m'\u001b[39;49m\u001b[38;5;124;43mcoleman_liau\u001b[39;49m\u001b[38;5;124;43m'\u001b[39;49m\u001b[43m]\u001b[49m\u001b[43m \u001b[49m\u001b[38;5;241;43m<\u001b[39;49m\u001b[43m \u001b[49m\u001b[38;5;241;43m12\u001b[39;49m\u001b[43m)\u001b[49m\u001b[43m \u001b[49m\u001b[38;5;241;43m&\u001b[39;49m\u001b[43m \u001b[49m\u001b[43m(\u001b[49m\u001b[43mcl_df\u001b[49m\u001b[43m[\u001b[49m\u001b[38;5;124;43m'\u001b[39;49m\u001b[38;5;124;43mreadability\u001b[39;49m\u001b[38;5;124;43m'\u001b[39;49m\u001b[43m]\u001b[49m\u001b[43m \u001b[49m\u001b[38;5;241;43m<\u001b[39;49m\u001b[43m \u001b[49m\u001b[38;5;241;43m3\u001b[39;49m\u001b[43m)\u001b[49m\u001b[43m]\u001b[49m\u001b[38;5;241;43m.\u001b[39;49m\u001b[43mloc\u001b[49m\u001b[43m[\u001b[49m\u001b[38;5;241;43m21962\u001b[39;49m\u001b[43m]\u001b[49m\n",
      "File \u001b[0;32m~/.conda/envs/request-gpt/lib/python3.9/site-packages/pandas/core/indexing.py:1191\u001b[0m, in \u001b[0;36m_LocationIndexer.__getitem__\u001b[0;34m(self, key)\u001b[0m\n\u001b[1;32m   1189\u001b[0m maybe_callable \u001b[38;5;241m=\u001b[39m com\u001b[38;5;241m.\u001b[39mapply_if_callable(key, \u001b[38;5;28mself\u001b[39m\u001b[38;5;241m.\u001b[39mobj)\n\u001b[1;32m   1190\u001b[0m maybe_callable \u001b[38;5;241m=\u001b[39m \u001b[38;5;28mself\u001b[39m\u001b[38;5;241m.\u001b[39m_check_deprecated_callable_usage(key, maybe_callable)\n\u001b[0;32m-> 1191\u001b[0m \u001b[38;5;28;01mreturn\u001b[39;00m \u001b[38;5;28;43mself\u001b[39;49m\u001b[38;5;241;43m.\u001b[39;49m\u001b[43m_getitem_axis\u001b[49m\u001b[43m(\u001b[49m\u001b[43mmaybe_callable\u001b[49m\u001b[43m,\u001b[49m\u001b[43m \u001b[49m\u001b[43maxis\u001b[49m\u001b[38;5;241;43m=\u001b[39;49m\u001b[43maxis\u001b[49m\u001b[43m)\u001b[49m\n",
      "File \u001b[0;32m~/.conda/envs/request-gpt/lib/python3.9/site-packages/pandas/core/indexing.py:1431\u001b[0m, in \u001b[0;36m_LocIndexer._getitem_axis\u001b[0;34m(self, key, axis)\u001b[0m\n\u001b[1;32m   1429\u001b[0m \u001b[38;5;66;03m# fall thru to straight lookup\u001b[39;00m\n\u001b[1;32m   1430\u001b[0m \u001b[38;5;28mself\u001b[39m\u001b[38;5;241m.\u001b[39m_validate_key(key, axis)\n\u001b[0;32m-> 1431\u001b[0m \u001b[38;5;28;01mreturn\u001b[39;00m \u001b[38;5;28;43mself\u001b[39;49m\u001b[38;5;241;43m.\u001b[39;49m\u001b[43m_get_label\u001b[49m\u001b[43m(\u001b[49m\u001b[43mkey\u001b[49m\u001b[43m,\u001b[49m\u001b[43m \u001b[49m\u001b[43maxis\u001b[49m\u001b[38;5;241;43m=\u001b[39;49m\u001b[43maxis\u001b[49m\u001b[43m)\u001b[49m\n",
      "File \u001b[0;32m~/.conda/envs/request-gpt/lib/python3.9/site-packages/pandas/core/indexing.py:1381\u001b[0m, in \u001b[0;36m_LocIndexer._get_label\u001b[0;34m(self, label, axis)\u001b[0m\n\u001b[1;32m   1379\u001b[0m \u001b[38;5;28;01mdef\u001b[39;00m \u001b[38;5;21m_get_label\u001b[39m(\u001b[38;5;28mself\u001b[39m, label, axis: AxisInt):\n\u001b[1;32m   1380\u001b[0m     \u001b[38;5;66;03m# GH#5567 this will fail if the label is not present in the axis.\u001b[39;00m\n\u001b[0;32m-> 1381\u001b[0m     \u001b[38;5;28;01mreturn\u001b[39;00m \u001b[38;5;28;43mself\u001b[39;49m\u001b[38;5;241;43m.\u001b[39;49m\u001b[43mobj\u001b[49m\u001b[38;5;241;43m.\u001b[39;49m\u001b[43mxs\u001b[49m\u001b[43m(\u001b[49m\u001b[43mlabel\u001b[49m\u001b[43m,\u001b[49m\u001b[43m \u001b[49m\u001b[43maxis\u001b[49m\u001b[38;5;241;43m=\u001b[39;49m\u001b[43maxis\u001b[49m\u001b[43m)\u001b[49m\n",
      "File \u001b[0;32m~/.conda/envs/request-gpt/lib/python3.9/site-packages/pandas/core/generic.py:4301\u001b[0m, in \u001b[0;36mNDFrame.xs\u001b[0;34m(self, key, axis, level, drop_level)\u001b[0m\n\u001b[1;32m   4299\u001b[0m             new_index \u001b[38;5;241m=\u001b[39m index[loc]\n\u001b[1;32m   4300\u001b[0m \u001b[38;5;28;01melse\u001b[39;00m:\n\u001b[0;32m-> 4301\u001b[0m     loc \u001b[38;5;241m=\u001b[39m \u001b[43mindex\u001b[49m\u001b[38;5;241;43m.\u001b[39;49m\u001b[43mget_loc\u001b[49m\u001b[43m(\u001b[49m\u001b[43mkey\u001b[49m\u001b[43m)\u001b[49m\n\u001b[1;32m   4303\u001b[0m     \u001b[38;5;28;01mif\u001b[39;00m \u001b[38;5;28misinstance\u001b[39m(loc, np\u001b[38;5;241m.\u001b[39mndarray):\n\u001b[1;32m   4304\u001b[0m         \u001b[38;5;28;01mif\u001b[39;00m loc\u001b[38;5;241m.\u001b[39mdtype \u001b[38;5;241m==\u001b[39m np\u001b[38;5;241m.\u001b[39mbool_:\n",
      "File \u001b[0;32m~/.conda/envs/request-gpt/lib/python3.9/site-packages/pandas/core/indexes/base.py:3812\u001b[0m, in \u001b[0;36mIndex.get_loc\u001b[0;34m(self, key)\u001b[0m\n\u001b[1;32m   3807\u001b[0m     \u001b[38;5;28;01mif\u001b[39;00m \u001b[38;5;28misinstance\u001b[39m(casted_key, \u001b[38;5;28mslice\u001b[39m) \u001b[38;5;129;01mor\u001b[39;00m (\n\u001b[1;32m   3808\u001b[0m         \u001b[38;5;28misinstance\u001b[39m(casted_key, abc\u001b[38;5;241m.\u001b[39mIterable)\n\u001b[1;32m   3809\u001b[0m         \u001b[38;5;129;01mand\u001b[39;00m \u001b[38;5;28many\u001b[39m(\u001b[38;5;28misinstance\u001b[39m(x, \u001b[38;5;28mslice\u001b[39m) \u001b[38;5;28;01mfor\u001b[39;00m x \u001b[38;5;129;01min\u001b[39;00m casted_key)\n\u001b[1;32m   3810\u001b[0m     ):\n\u001b[1;32m   3811\u001b[0m         \u001b[38;5;28;01mraise\u001b[39;00m InvalidIndexError(key)\n\u001b[0;32m-> 3812\u001b[0m     \u001b[38;5;28;01mraise\u001b[39;00m \u001b[38;5;167;01mKeyError\u001b[39;00m(key) \u001b[38;5;28;01mfrom\u001b[39;00m \u001b[38;5;21;01merr\u001b[39;00m\n\u001b[1;32m   3813\u001b[0m \u001b[38;5;28;01mexcept\u001b[39;00m \u001b[38;5;167;01mTypeError\u001b[39;00m:\n\u001b[1;32m   3814\u001b[0m     \u001b[38;5;66;03m# If we have a listlike key, _check_indexing_error will raise\u001b[39;00m\n\u001b[1;32m   3815\u001b[0m     \u001b[38;5;66;03m#  InvalidIndexError. Otherwise we fall through and re-raise\u001b[39;00m\n\u001b[1;32m   3816\u001b[0m     \u001b[38;5;66;03m#  the TypeError.\u001b[39;00m\n\u001b[1;32m   3817\u001b[0m     \u001b[38;5;28mself\u001b[39m\u001b[38;5;241m.\u001b[39m_check_indexing_error(key)\n",
      "\u001b[0;31mKeyError\u001b[0m: 21962"
     ]
    }
   ],
   "source": [
    "cl_df[(cl_df['coleman_liau'] < 12) & (cl_df['readability'] < 3)].loc[21962]"
   ]
  },
  {
   "cell_type": "code",
   "execution_count": null,
   "metadata": {},
   "outputs": [
    {
     "data": {
      "text/plain": [
       "'New egg cells form via a specialized kind of cell division called called meiosis , and will pause at key stages in this process before continuing their development . One of these pauses occurs before the egg cell is fertilized . At fertilization , the egg cell becomes “activated” , development resumes , and it starts forming into an embryo . Molecules deposited in the egg cell when it originally formed are used to control these earliest stages of embryonic development . These molecules include messenger RNA molecules ( mRNAs for short ) , which can be “translated” to build proteins . In fruit flies , an enzyme called PNG kinase regulates the translation of hundreds of mRNA molecules during the period after the pause , when the maturing egg cell is activated and the embryo begins to develop . It is not well understood what activates and inactivates the kinase to limit its activity to this period of time . However , it was known that a protein called GNU was needed to bind to the PNG kinase to make it active . CyclinB/CDK1 is another kinase , and in contrast to PNG it is highly active when the egg cell is paused . When the egg cell is activated for embryonic development , the levels of this second kinase drop sharply and meiosis is completed . Like all kinases , CyclinB/CDK1 attaches phosphate groups onto other molecules , and Hara et al . now show that CyclinB/CDK1 can modify the GNU protein in this way . The added phosphate groups prevent GNU from binding to the PNG kinase , meaning that the high levels of CyclinB/CDK1 during the pause stop GNU from activating the PNG kinase . However , when the egg cell is activated , the level of CyclinB/CDK1 declines so that there are not enough of these molecules to add phosphates onto GNU . This leaves GNU free to activate the PNG kinase , allowing this kinase to control the translation of mRNA molecules . Furthermore , the activity of PNG kinase leads to the destruction of GNU , and this feedback loop limits this kinase’s activity to the narrow window of time in which it is needed . The fruit fly is the second example of an animal in which the activity of a kinase essential for embryonic development has been linked to the completion of meiosis ( the other being the roundworm Caenorhabditis elegans ) . The use of this strategy in two such different animals suggests that it may also be common to many other animals , including humans . Further investigation is now needed to determine if this is indeed the case .'"
      ]
     },
     "execution_count": 13,
     "metadata": {},
     "output_type": "execute_result"
    }
   ],
   "source": [
    "cl_df[(cl_df['coleman_liau'] < 12) & (cl_df['readability'] < 3)].loc[21962]['summary']"
   ]
  },
  {
   "cell_type": "code",
   "execution_count": null,
   "metadata": {},
   "outputs": [
    {
     "data": {
      "text/plain": [
       "'I would rate the reading ease of this text as a 2 out of 5. The text assumes a significant amount of background knowledge in cell biology, genetics, and molecular biology, including terms such as meiosis, messenger RNA, kinase, and phosphate groups. The text also uses technical vocabulary and complex sentence structures, which may make it challenging for non-experts to follow.\\n\\nWhile the text does provide some explanations and definitions for specific terms, such as \"mRNAs\" and \"kinase\", it does not provide a general introduction to the topic or explain the underlying concepts in a way that would be accessible to a general audience. The text appears to be written for an audience with a strong background in biology or a related field, and may be difficult for non-experts to understand without significant additional context or explanation.'"
      ]
     },
     "execution_count": 14,
     "metadata": {},
     "output_type": "execute_result"
    }
   ],
   "source": [
    "cl_df[(cl_df['coleman_liau'] < 12) & (cl_df['readability'] < 3)].loc[21962]['response']"
   ]
  },
  {
   "cell_type": "code",
   "execution_count": 16,
   "metadata": {},
   "outputs": [
    {
     "name": "stderr",
     "output_type": "stream",
     "text": [
      "/tmp/ipykernel_453495/3608487856.py:6: SettingWithCopyWarning: \n",
      "A value is trying to be set on a copy of a slice from a DataFrame.\n",
      "Try using .loc[row_indexer,col_indexer] = value instead\n",
      "\n",
      "See the caveats in the documentation: https://pandas.pydata.org/pandas-docs/stable/user_guide/indexing.html#returning-a-view-versus-a-copy\n",
      "  tmp['clbinary'] = clbinary.apply(int)\n",
      "/tmp/ipykernel_453495/3608487856.py:7: SettingWithCopyWarning: \n",
      "A value is trying to be set on a copy of a slice from a DataFrame.\n",
      "Try using .loc[row_indexer,col_indexer] = value instead\n",
      "\n",
      "See the caveats in the documentation: https://pandas.pydata.org/pandas-docs/stable/user_guide/indexing.html#returning-a-view-versus-a-copy\n",
      "  tmp['lm_binary'] = lm_binary.apply(int)\n",
      "/tmp/ipykernel_453495/3608487856.py:6: SettingWithCopyWarning: \n",
      "A value is trying to be set on a copy of a slice from a DataFrame.\n",
      "Try using .loc[row_indexer,col_indexer] = value instead\n",
      "\n",
      "See the caveats in the documentation: https://pandas.pydata.org/pandas-docs/stable/user_guide/indexing.html#returning-a-view-versus-a-copy\n",
      "  tmp['clbinary'] = clbinary.apply(int)\n",
      "/tmp/ipykernel_453495/3608487856.py:7: SettingWithCopyWarning: \n",
      "A value is trying to be set on a copy of a slice from a DataFrame.\n",
      "Try using .loc[row_indexer,col_indexer] = value instead\n",
      "\n",
      "See the caveats in the documentation: https://pandas.pydata.org/pandas-docs/stable/user_guide/indexing.html#returning-a-view-versus-a-copy\n",
      "  tmp['lm_binary'] = lm_binary.apply(int)\n",
      "/tmp/ipykernel_453495/3608487856.py:6: SettingWithCopyWarning: \n",
      "A value is trying to be set on a copy of a slice from a DataFrame.\n",
      "Try using .loc[row_indexer,col_indexer] = value instead\n",
      "\n",
      "See the caveats in the documentation: https://pandas.pydata.org/pandas-docs/stable/user_guide/indexing.html#returning-a-view-versus-a-copy\n",
      "  tmp['clbinary'] = clbinary.apply(int)\n",
      "/tmp/ipykernel_453495/3608487856.py:7: SettingWithCopyWarning: \n",
      "A value is trying to be set on a copy of a slice from a DataFrame.\n",
      "Try using .loc[row_indexer,col_indexer] = value instead\n",
      "\n",
      "See the caveats in the documentation: https://pandas.pydata.org/pandas-docs/stable/user_guide/indexing.html#returning-a-view-versus-a-copy\n",
      "  tmp['lm_binary'] = lm_binary.apply(int)\n",
      "/tmp/ipykernel_453495/3608487856.py:6: SettingWithCopyWarning: \n",
      "A value is trying to be set on a copy of a slice from a DataFrame.\n",
      "Try using .loc[row_indexer,col_indexer] = value instead\n",
      "\n",
      "See the caveats in the documentation: https://pandas.pydata.org/pandas-docs/stable/user_guide/indexing.html#returning-a-view-versus-a-copy\n",
      "  tmp['clbinary'] = clbinary.apply(int)\n",
      "/tmp/ipykernel_453495/3608487856.py:7: SettingWithCopyWarning: \n",
      "A value is trying to be set on a copy of a slice from a DataFrame.\n",
      "Try using .loc[row_indexer,col_indexer] = value instead\n",
      "\n",
      "See the caveats in the documentation: https://pandas.pydata.org/pandas-docs/stable/user_guide/indexing.html#returning-a-view-versus-a-copy\n",
      "  tmp['lm_binary'] = lm_binary.apply(int)\n",
      "/tmp/ipykernel_453495/3608487856.py:6: SettingWithCopyWarning: \n",
      "A value is trying to be set on a copy of a slice from a DataFrame.\n",
      "Try using .loc[row_indexer,col_indexer] = value instead\n",
      "\n",
      "See the caveats in the documentation: https://pandas.pydata.org/pandas-docs/stable/user_guide/indexing.html#returning-a-view-versus-a-copy\n",
      "  tmp['clbinary'] = clbinary.apply(int)\n",
      "/tmp/ipykernel_453495/3608487856.py:7: SettingWithCopyWarning: \n",
      "A value is trying to be set on a copy of a slice from a DataFrame.\n",
      "Try using .loc[row_indexer,col_indexer] = value instead\n",
      "\n",
      "See the caveats in the documentation: https://pandas.pydata.org/pandas-docs/stable/user_guide/indexing.html#returning-a-view-versus-a-copy\n",
      "  tmp['lm_binary'] = lm_binary.apply(int)\n",
      "/tmp/ipykernel_453495/3608487856.py:6: SettingWithCopyWarning: \n",
      "A value is trying to be set on a copy of a slice from a DataFrame.\n",
      "Try using .loc[row_indexer,col_indexer] = value instead\n",
      "\n",
      "See the caveats in the documentation: https://pandas.pydata.org/pandas-docs/stable/user_guide/indexing.html#returning-a-view-versus-a-copy\n",
      "  tmp['clbinary'] = clbinary.apply(int)\n",
      "/tmp/ipykernel_453495/3608487856.py:7: SettingWithCopyWarning: \n",
      "A value is trying to be set on a copy of a slice from a DataFrame.\n",
      "Try using .loc[row_indexer,col_indexer] = value instead\n",
      "\n",
      "See the caveats in the documentation: https://pandas.pydata.org/pandas-docs/stable/user_guide/indexing.html#returning-a-view-versus-a-copy\n",
      "  tmp['lm_binary'] = lm_binary.apply(int)\n",
      "/tmp/ipykernel_453495/3608487856.py:6: SettingWithCopyWarning: \n",
      "A value is trying to be set on a copy of a slice from a DataFrame.\n",
      "Try using .loc[row_indexer,col_indexer] = value instead\n",
      "\n",
      "See the caveats in the documentation: https://pandas.pydata.org/pandas-docs/stable/user_guide/indexing.html#returning-a-view-versus-a-copy\n",
      "  tmp['clbinary'] = clbinary.apply(int)\n",
      "/tmp/ipykernel_453495/3608487856.py:7: SettingWithCopyWarning: \n",
      "A value is trying to be set on a copy of a slice from a DataFrame.\n",
      "Try using .loc[row_indexer,col_indexer] = value instead\n",
      "\n",
      "See the caveats in the documentation: https://pandas.pydata.org/pandas-docs/stable/user_guide/indexing.html#returning-a-view-versus-a-copy\n",
      "  tmp['lm_binary'] = lm_binary.apply(int)\n",
      "/tmp/ipykernel_453495/3608487856.py:6: SettingWithCopyWarning: \n",
      "A value is trying to be set on a copy of a slice from a DataFrame.\n",
      "Try using .loc[row_indexer,col_indexer] = value instead\n",
      "\n",
      "See the caveats in the documentation: https://pandas.pydata.org/pandas-docs/stable/user_guide/indexing.html#returning-a-view-versus-a-copy\n",
      "  tmp['clbinary'] = clbinary.apply(int)\n",
      "/tmp/ipykernel_453495/3608487856.py:7: SettingWithCopyWarning: \n",
      "A value is trying to be set on a copy of a slice from a DataFrame.\n",
      "Try using .loc[row_indexer,col_indexer] = value instead\n",
      "\n",
      "See the caveats in the documentation: https://pandas.pydata.org/pandas-docs/stable/user_guide/indexing.html#returning-a-view-versus-a-copy\n",
      "  tmp['lm_binary'] = lm_binary.apply(int)\n",
      "/tmp/ipykernel_453495/3608487856.py:6: SettingWithCopyWarning: \n",
      "A value is trying to be set on a copy of a slice from a DataFrame.\n",
      "Try using .loc[row_indexer,col_indexer] = value instead\n",
      "\n",
      "See the caveats in the documentation: https://pandas.pydata.org/pandas-docs/stable/user_guide/indexing.html#returning-a-view-versus-a-copy\n",
      "  tmp['clbinary'] = clbinary.apply(int)\n",
      "/tmp/ipykernel_453495/3608487856.py:7: SettingWithCopyWarning: \n",
      "A value is trying to be set on a copy of a slice from a DataFrame.\n",
      "Try using .loc[row_indexer,col_indexer] = value instead\n",
      "\n",
      "See the caveats in the documentation: https://pandas.pydata.org/pandas-docs/stable/user_guide/indexing.html#returning-a-view-versus-a-copy\n",
      "  tmp['lm_binary'] = lm_binary.apply(int)\n",
      "/tmp/ipykernel_453495/3608487856.py:6: SettingWithCopyWarning: \n",
      "A value is trying to be set on a copy of a slice from a DataFrame.\n",
      "Try using .loc[row_indexer,col_indexer] = value instead\n",
      "\n",
      "See the caveats in the documentation: https://pandas.pydata.org/pandas-docs/stable/user_guide/indexing.html#returning-a-view-versus-a-copy\n",
      "  tmp['clbinary'] = clbinary.apply(int)\n",
      "/tmp/ipykernel_453495/3608487856.py:7: SettingWithCopyWarning: \n",
      "A value is trying to be set on a copy of a slice from a DataFrame.\n",
      "Try using .loc[row_indexer,col_indexer] = value instead\n",
      "\n",
      "See the caveats in the documentation: https://pandas.pydata.org/pandas-docs/stable/user_guide/indexing.html#returning-a-view-versus-a-copy\n",
      "  tmp['lm_binary'] = lm_binary.apply(int)\n",
      "/tmp/ipykernel_453495/3608487856.py:6: SettingWithCopyWarning: \n",
      "A value is trying to be set on a copy of a slice from a DataFrame.\n",
      "Try using .loc[row_indexer,col_indexer] = value instead\n",
      "\n",
      "See the caveats in the documentation: https://pandas.pydata.org/pandas-docs/stable/user_guide/indexing.html#returning-a-view-versus-a-copy\n",
      "  tmp['clbinary'] = clbinary.apply(int)\n",
      "/tmp/ipykernel_453495/3608487856.py:7: SettingWithCopyWarning: \n",
      "A value is trying to be set on a copy of a slice from a DataFrame.\n",
      "Try using .loc[row_indexer,col_indexer] = value instead\n",
      "\n",
      "See the caveats in the documentation: https://pandas.pydata.org/pandas-docs/stable/user_guide/indexing.html#returning-a-view-versus-a-copy\n",
      "  tmp['lm_binary'] = lm_binary.apply(int)\n",
      "/tmp/ipykernel_453495/3608487856.py:6: SettingWithCopyWarning: \n",
      "A value is trying to be set on a copy of a slice from a DataFrame.\n",
      "Try using .loc[row_indexer,col_indexer] = value instead\n",
      "\n",
      "See the caveats in the documentation: https://pandas.pydata.org/pandas-docs/stable/user_guide/indexing.html#returning-a-view-versus-a-copy\n",
      "  tmp['clbinary'] = clbinary.apply(int)\n",
      "/tmp/ipykernel_453495/3608487856.py:7: SettingWithCopyWarning: \n",
      "A value is trying to be set on a copy of a slice from a DataFrame.\n",
      "Try using .loc[row_indexer,col_indexer] = value instead\n",
      "\n",
      "See the caveats in the documentation: https://pandas.pydata.org/pandas-docs/stable/user_guide/indexing.html#returning-a-view-versus-a-copy\n",
      "  tmp['lm_binary'] = lm_binary.apply(int)\n",
      "/tmp/ipykernel_453495/3608487856.py:6: SettingWithCopyWarning: \n",
      "A value is trying to be set on a copy of a slice from a DataFrame.\n",
      "Try using .loc[row_indexer,col_indexer] = value instead\n",
      "\n",
      "See the caveats in the documentation: https://pandas.pydata.org/pandas-docs/stable/user_guide/indexing.html#returning-a-view-versus-a-copy\n",
      "  tmp['clbinary'] = clbinary.apply(int)\n",
      "/tmp/ipykernel_453495/3608487856.py:7: SettingWithCopyWarning: \n",
      "A value is trying to be set on a copy of a slice from a DataFrame.\n",
      "Try using .loc[row_indexer,col_indexer] = value instead\n",
      "\n",
      "See the caveats in the documentation: https://pandas.pydata.org/pandas-docs/stable/user_guide/indexing.html#returning-a-view-versus-a-copy\n",
      "  tmp['lm_binary'] = lm_binary.apply(int)\n",
      "/tmp/ipykernel_453495/3608487856.py:6: SettingWithCopyWarning: \n",
      "A value is trying to be set on a copy of a slice from a DataFrame.\n",
      "Try using .loc[row_indexer,col_indexer] = value instead\n",
      "\n",
      "See the caveats in the documentation: https://pandas.pydata.org/pandas-docs/stable/user_guide/indexing.html#returning-a-view-versus-a-copy\n",
      "  tmp['clbinary'] = clbinary.apply(int)\n",
      "/tmp/ipykernel_453495/3608487856.py:7: SettingWithCopyWarning: \n",
      "A value is trying to be set on a copy of a slice from a DataFrame.\n",
      "Try using .loc[row_indexer,col_indexer] = value instead\n",
      "\n",
      "See the caveats in the documentation: https://pandas.pydata.org/pandas-docs/stable/user_guide/indexing.html#returning-a-view-versus-a-copy\n",
      "  tmp['lm_binary'] = lm_binary.apply(int)\n",
      "/tmp/ipykernel_453495/3608487856.py:6: SettingWithCopyWarning: \n",
      "A value is trying to be set on a copy of a slice from a DataFrame.\n",
      "Try using .loc[row_indexer,col_indexer] = value instead\n",
      "\n",
      "See the caveats in the documentation: https://pandas.pydata.org/pandas-docs/stable/user_guide/indexing.html#returning-a-view-versus-a-copy\n",
      "  tmp['clbinary'] = clbinary.apply(int)\n",
      "/tmp/ipykernel_453495/3608487856.py:7: SettingWithCopyWarning: \n",
      "A value is trying to be set on a copy of a slice from a DataFrame.\n",
      "Try using .loc[row_indexer,col_indexer] = value instead\n",
      "\n",
      "See the caveats in the documentation: https://pandas.pydata.org/pandas-docs/stable/user_guide/indexing.html#returning-a-view-versus-a-copy\n",
      "  tmp['lm_binary'] = lm_binary.apply(int)\n",
      "/tmp/ipykernel_453495/3608487856.py:6: SettingWithCopyWarning: \n",
      "A value is trying to be set on a copy of a slice from a DataFrame.\n",
      "Try using .loc[row_indexer,col_indexer] = value instead\n",
      "\n",
      "See the caveats in the documentation: https://pandas.pydata.org/pandas-docs/stable/user_guide/indexing.html#returning-a-view-versus-a-copy\n",
      "  tmp['clbinary'] = clbinary.apply(int)\n",
      "/tmp/ipykernel_453495/3608487856.py:7: SettingWithCopyWarning: \n",
      "A value is trying to be set on a copy of a slice from a DataFrame.\n",
      "Try using .loc[row_indexer,col_indexer] = value instead\n",
      "\n",
      "See the caveats in the documentation: https://pandas.pydata.org/pandas-docs/stable/user_guide/indexing.html#returning-a-view-versus-a-copy\n",
      "  tmp['lm_binary'] = lm_binary.apply(int)\n",
      "/home/icachol1/.conda/envs/request-gpt/lib/python3.9/site-packages/sklearn/metrics/_classification.py:407: UserWarning: A single label was found in 'y_true' and 'y_pred'. For the confusion matrix to have the correct shape, use the 'labels' parameter to pass all known labels.\n",
      "  warnings.warn(\n",
      "/home/icachol1/.conda/envs/request-gpt/lib/python3.9/site-packages/sklearn/metrics/_classification.py:758: RuntimeWarning: invalid value encountered in double_scalars\n",
      "  k = np.sum(w_mat * confusion) / np.sum(w_mat * expected)\n",
      "/tmp/ipykernel_453495/3608487856.py:6: SettingWithCopyWarning: \n",
      "A value is trying to be set on a copy of a slice from a DataFrame.\n",
      "Try using .loc[row_indexer,col_indexer] = value instead\n",
      "\n",
      "See the caveats in the documentation: https://pandas.pydata.org/pandas-docs/stable/user_guide/indexing.html#returning-a-view-versus-a-copy\n",
      "  tmp['clbinary'] = clbinary.apply(int)\n",
      "/tmp/ipykernel_453495/3608487856.py:7: SettingWithCopyWarning: \n",
      "A value is trying to be set on a copy of a slice from a DataFrame.\n",
      "Try using .loc[row_indexer,col_indexer] = value instead\n",
      "\n",
      "See the caveats in the documentation: https://pandas.pydata.org/pandas-docs/stable/user_guide/indexing.html#returning-a-view-versus-a-copy\n",
      "  tmp['lm_binary'] = lm_binary.apply(int)\n",
      "/tmp/ipykernel_453495/3608487856.py:6: SettingWithCopyWarning: \n",
      "A value is trying to be set on a copy of a slice from a DataFrame.\n",
      "Try using .loc[row_indexer,col_indexer] = value instead\n",
      "\n",
      "See the caveats in the documentation: https://pandas.pydata.org/pandas-docs/stable/user_guide/indexing.html#returning-a-view-versus-a-copy\n",
      "  tmp['clbinary'] = clbinary.apply(int)\n",
      "/tmp/ipykernel_453495/3608487856.py:7: SettingWithCopyWarning: \n",
      "A value is trying to be set on a copy of a slice from a DataFrame.\n",
      "Try using .loc[row_indexer,col_indexer] = value instead\n",
      "\n",
      "See the caveats in the documentation: https://pandas.pydata.org/pandas-docs/stable/user_guide/indexing.html#returning-a-view-versus-a-copy\n",
      "  tmp['lm_binary'] = lm_binary.apply(int)\n",
      "/tmp/ipykernel_453495/3608487856.py:6: SettingWithCopyWarning: \n",
      "A value is trying to be set on a copy of a slice from a DataFrame.\n",
      "Try using .loc[row_indexer,col_indexer] = value instead\n",
      "\n",
      "See the caveats in the documentation: https://pandas.pydata.org/pandas-docs/stable/user_guide/indexing.html#returning-a-view-versus-a-copy\n",
      "  tmp['clbinary'] = clbinary.apply(int)\n",
      "/tmp/ipykernel_453495/3608487856.py:7: SettingWithCopyWarning: \n",
      "A value is trying to be set on a copy of a slice from a DataFrame.\n",
      "Try using .loc[row_indexer,col_indexer] = value instead\n",
      "\n",
      "See the caveats in the documentation: https://pandas.pydata.org/pandas-docs/stable/user_guide/indexing.html#returning-a-view-versus-a-copy\n",
      "  tmp['lm_binary'] = lm_binary.apply(int)\n",
      "/tmp/ipykernel_453495/3608487856.py:6: SettingWithCopyWarning: \n",
      "A value is trying to be set on a copy of a slice from a DataFrame.\n",
      "Try using .loc[row_indexer,col_indexer] = value instead\n",
      "\n",
      "See the caveats in the documentation: https://pandas.pydata.org/pandas-docs/stable/user_guide/indexing.html#returning-a-view-versus-a-copy\n",
      "  tmp['clbinary'] = clbinary.apply(int)\n",
      "/tmp/ipykernel_453495/3608487856.py:7: SettingWithCopyWarning: \n",
      "A value is trying to be set on a copy of a slice from a DataFrame.\n",
      "Try using .loc[row_indexer,col_indexer] = value instead\n",
      "\n",
      "See the caveats in the documentation: https://pandas.pydata.org/pandas-docs/stable/user_guide/indexing.html#returning-a-view-versus-a-copy\n",
      "  tmp['lm_binary'] = lm_binary.apply(int)\n",
      "/tmp/ipykernel_453495/3608487856.py:6: SettingWithCopyWarning: \n",
      "A value is trying to be set on a copy of a slice from a DataFrame.\n",
      "Try using .loc[row_indexer,col_indexer] = value instead\n",
      "\n",
      "See the caveats in the documentation: https://pandas.pydata.org/pandas-docs/stable/user_guide/indexing.html#returning-a-view-versus-a-copy\n",
      "  tmp['clbinary'] = clbinary.apply(int)\n",
      "/tmp/ipykernel_453495/3608487856.py:7: SettingWithCopyWarning: \n",
      "A value is trying to be set on a copy of a slice from a DataFrame.\n",
      "Try using .loc[row_indexer,col_indexer] = value instead\n",
      "\n",
      "See the caveats in the documentation: https://pandas.pydata.org/pandas-docs/stable/user_guide/indexing.html#returning-a-view-versus-a-copy\n",
      "  tmp['lm_binary'] = lm_binary.apply(int)\n",
      "/home/icachol1/.conda/envs/request-gpt/lib/python3.9/site-packages/sklearn/metrics/_classification.py:407: UserWarning: A single label was found in 'y_true' and 'y_pred'. For the confusion matrix to have the correct shape, use the 'labels' parameter to pass all known labels.\n",
      "  warnings.warn(\n",
      "/home/icachol1/.conda/envs/request-gpt/lib/python3.9/site-packages/sklearn/metrics/_classification.py:758: RuntimeWarning: invalid value encountered in double_scalars\n",
      "  k = np.sum(w_mat * confusion) / np.sum(w_mat * expected)\n",
      "/tmp/ipykernel_453495/3608487856.py:6: SettingWithCopyWarning: \n",
      "A value is trying to be set on a copy of a slice from a DataFrame.\n",
      "Try using .loc[row_indexer,col_indexer] = value instead\n",
      "\n",
      "See the caveats in the documentation: https://pandas.pydata.org/pandas-docs/stable/user_guide/indexing.html#returning-a-view-versus-a-copy\n",
      "  tmp['clbinary'] = clbinary.apply(int)\n",
      "/tmp/ipykernel_453495/3608487856.py:7: SettingWithCopyWarning: \n",
      "A value is trying to be set on a copy of a slice from a DataFrame.\n",
      "Try using .loc[row_indexer,col_indexer] = value instead\n",
      "\n",
      "See the caveats in the documentation: https://pandas.pydata.org/pandas-docs/stable/user_guide/indexing.html#returning-a-view-versus-a-copy\n",
      "  tmp['lm_binary'] = lm_binary.apply(int)\n",
      "/tmp/ipykernel_453495/3608487856.py:6: SettingWithCopyWarning: \n",
      "A value is trying to be set on a copy of a slice from a DataFrame.\n",
      "Try using .loc[row_indexer,col_indexer] = value instead\n",
      "\n",
      "See the caveats in the documentation: https://pandas.pydata.org/pandas-docs/stable/user_guide/indexing.html#returning-a-view-versus-a-copy\n",
      "  tmp['clbinary'] = clbinary.apply(int)\n",
      "/tmp/ipykernel_453495/3608487856.py:7: SettingWithCopyWarning: \n",
      "A value is trying to be set on a copy of a slice from a DataFrame.\n",
      "Try using .loc[row_indexer,col_indexer] = value instead\n",
      "\n",
      "See the caveats in the documentation: https://pandas.pydata.org/pandas-docs/stable/user_guide/indexing.html#returning-a-view-versus-a-copy\n",
      "  tmp['lm_binary'] = lm_binary.apply(int)\n",
      "/tmp/ipykernel_453495/3608487856.py:6: SettingWithCopyWarning: \n",
      "A value is trying to be set on a copy of a slice from a DataFrame.\n",
      "Try using .loc[row_indexer,col_indexer] = value instead\n",
      "\n",
      "See the caveats in the documentation: https://pandas.pydata.org/pandas-docs/stable/user_guide/indexing.html#returning-a-view-versus-a-copy\n",
      "  tmp['clbinary'] = clbinary.apply(int)\n",
      "/tmp/ipykernel_453495/3608487856.py:7: SettingWithCopyWarning: \n",
      "A value is trying to be set on a copy of a slice from a DataFrame.\n",
      "Try using .loc[row_indexer,col_indexer] = value instead\n",
      "\n",
      "See the caveats in the documentation: https://pandas.pydata.org/pandas-docs/stable/user_guide/indexing.html#returning-a-view-versus-a-copy\n",
      "  tmp['lm_binary'] = lm_binary.apply(int)\n",
      "/tmp/ipykernel_453495/3608487856.py:6: SettingWithCopyWarning: \n",
      "A value is trying to be set on a copy of a slice from a DataFrame.\n",
      "Try using .loc[row_indexer,col_indexer] = value instead\n",
      "\n",
      "See the caveats in the documentation: https://pandas.pydata.org/pandas-docs/stable/user_guide/indexing.html#returning-a-view-versus-a-copy\n",
      "  tmp['clbinary'] = clbinary.apply(int)\n",
      "/tmp/ipykernel_453495/3608487856.py:7: SettingWithCopyWarning: \n",
      "A value is trying to be set on a copy of a slice from a DataFrame.\n",
      "Try using .loc[row_indexer,col_indexer] = value instead\n",
      "\n",
      "See the caveats in the documentation: https://pandas.pydata.org/pandas-docs/stable/user_guide/indexing.html#returning-a-view-versus-a-copy\n",
      "  tmp['lm_binary'] = lm_binary.apply(int)\n",
      "/tmp/ipykernel_453495/3608487856.py:6: SettingWithCopyWarning: \n",
      "A value is trying to be set on a copy of a slice from a DataFrame.\n",
      "Try using .loc[row_indexer,col_indexer] = value instead\n",
      "\n",
      "See the caveats in the documentation: https://pandas.pydata.org/pandas-docs/stable/user_guide/indexing.html#returning-a-view-versus-a-copy\n",
      "  tmp['clbinary'] = clbinary.apply(int)\n",
      "/tmp/ipykernel_453495/3608487856.py:7: SettingWithCopyWarning: \n",
      "A value is trying to be set on a copy of a slice from a DataFrame.\n",
      "Try using .loc[row_indexer,col_indexer] = value instead\n",
      "\n",
      "See the caveats in the documentation: https://pandas.pydata.org/pandas-docs/stable/user_guide/indexing.html#returning-a-view-versus-a-copy\n",
      "  tmp['lm_binary'] = lm_binary.apply(int)\n",
      "/home/icachol1/.conda/envs/request-gpt/lib/python3.9/site-packages/sklearn/metrics/_classification.py:407: UserWarning: A single label was found in 'y_true' and 'y_pred'. For the confusion matrix to have the correct shape, use the 'labels' parameter to pass all known labels.\n",
      "  warnings.warn(\n",
      "/home/icachol1/.conda/envs/request-gpt/lib/python3.9/site-packages/sklearn/metrics/_classification.py:758: RuntimeWarning: invalid value encountered in double_scalars\n",
      "  k = np.sum(w_mat * confusion) / np.sum(w_mat * expected)\n",
      "/tmp/ipykernel_453495/3608487856.py:6: SettingWithCopyWarning: \n",
      "A value is trying to be set on a copy of a slice from a DataFrame.\n",
      "Try using .loc[row_indexer,col_indexer] = value instead\n",
      "\n",
      "See the caveats in the documentation: https://pandas.pydata.org/pandas-docs/stable/user_guide/indexing.html#returning-a-view-versus-a-copy\n",
      "  tmp['clbinary'] = clbinary.apply(int)\n",
      "/tmp/ipykernel_453495/3608487856.py:7: SettingWithCopyWarning: \n",
      "A value is trying to be set on a copy of a slice from a DataFrame.\n",
      "Try using .loc[row_indexer,col_indexer] = value instead\n",
      "\n",
      "See the caveats in the documentation: https://pandas.pydata.org/pandas-docs/stable/user_guide/indexing.html#returning-a-view-versus-a-copy\n",
      "  tmp['lm_binary'] = lm_binary.apply(int)\n",
      "/tmp/ipykernel_453495/3608487856.py:6: SettingWithCopyWarning: \n",
      "A value is trying to be set on a copy of a slice from a DataFrame.\n",
      "Try using .loc[row_indexer,col_indexer] = value instead\n",
      "\n",
      "See the caveats in the documentation: https://pandas.pydata.org/pandas-docs/stable/user_guide/indexing.html#returning-a-view-versus-a-copy\n",
      "  tmp['clbinary'] = clbinary.apply(int)\n",
      "/tmp/ipykernel_453495/3608487856.py:7: SettingWithCopyWarning: \n",
      "A value is trying to be set on a copy of a slice from a DataFrame.\n",
      "Try using .loc[row_indexer,col_indexer] = value instead\n",
      "\n",
      "See the caveats in the documentation: https://pandas.pydata.org/pandas-docs/stable/user_guide/indexing.html#returning-a-view-versus-a-copy\n",
      "  tmp['lm_binary'] = lm_binary.apply(int)\n",
      "/tmp/ipykernel_453495/3608487856.py:6: SettingWithCopyWarning: \n",
      "A value is trying to be set on a copy of a slice from a DataFrame.\n",
      "Try using .loc[row_indexer,col_indexer] = value instead\n",
      "\n",
      "See the caveats in the documentation: https://pandas.pydata.org/pandas-docs/stable/user_guide/indexing.html#returning-a-view-versus-a-copy\n",
      "  tmp['clbinary'] = clbinary.apply(int)\n",
      "/tmp/ipykernel_453495/3608487856.py:7: SettingWithCopyWarning: \n",
      "A value is trying to be set on a copy of a slice from a DataFrame.\n",
      "Try using .loc[row_indexer,col_indexer] = value instead\n",
      "\n",
      "See the caveats in the documentation: https://pandas.pydata.org/pandas-docs/stable/user_guide/indexing.html#returning-a-view-versus-a-copy\n",
      "  tmp['lm_binary'] = lm_binary.apply(int)\n",
      "/tmp/ipykernel_453495/3608487856.py:6: SettingWithCopyWarning: \n",
      "A value is trying to be set on a copy of a slice from a DataFrame.\n",
      "Try using .loc[row_indexer,col_indexer] = value instead\n",
      "\n",
      "See the caveats in the documentation: https://pandas.pydata.org/pandas-docs/stable/user_guide/indexing.html#returning-a-view-versus-a-copy\n",
      "  tmp['clbinary'] = clbinary.apply(int)\n",
      "/tmp/ipykernel_453495/3608487856.py:7: SettingWithCopyWarning: \n",
      "A value is trying to be set on a copy of a slice from a DataFrame.\n",
      "Try using .loc[row_indexer,col_indexer] = value instead\n",
      "\n",
      "See the caveats in the documentation: https://pandas.pydata.org/pandas-docs/stable/user_guide/indexing.html#returning-a-view-versus-a-copy\n",
      "  tmp['lm_binary'] = lm_binary.apply(int)\n",
      "/tmp/ipykernel_453495/3608487856.py:6: SettingWithCopyWarning: \n",
      "A value is trying to be set on a copy of a slice from a DataFrame.\n",
      "Try using .loc[row_indexer,col_indexer] = value instead\n",
      "\n",
      "See the caveats in the documentation: https://pandas.pydata.org/pandas-docs/stable/user_guide/indexing.html#returning-a-view-versus-a-copy\n",
      "  tmp['clbinary'] = clbinary.apply(int)\n",
      "/tmp/ipykernel_453495/3608487856.py:7: SettingWithCopyWarning: \n",
      "A value is trying to be set on a copy of a slice from a DataFrame.\n",
      "Try using .loc[row_indexer,col_indexer] = value instead\n",
      "\n",
      "See the caveats in the documentation: https://pandas.pydata.org/pandas-docs/stable/user_guide/indexing.html#returning-a-view-versus-a-copy\n",
      "  tmp['lm_binary'] = lm_binary.apply(int)\n",
      "/home/icachol1/.conda/envs/request-gpt/lib/python3.9/site-packages/sklearn/metrics/_classification.py:407: UserWarning: A single label was found in 'y_true' and 'y_pred'. For the confusion matrix to have the correct shape, use the 'labels' parameter to pass all known labels.\n",
      "  warnings.warn(\n",
      "/home/icachol1/.conda/envs/request-gpt/lib/python3.9/site-packages/sklearn/metrics/_classification.py:758: RuntimeWarning: invalid value encountered in double_scalars\n",
      "  k = np.sum(w_mat * confusion) / np.sum(w_mat * expected)\n",
      "/tmp/ipykernel_453495/3608487856.py:6: SettingWithCopyWarning: \n",
      "A value is trying to be set on a copy of a slice from a DataFrame.\n",
      "Try using .loc[row_indexer,col_indexer] = value instead\n",
      "\n",
      "See the caveats in the documentation: https://pandas.pydata.org/pandas-docs/stable/user_guide/indexing.html#returning-a-view-versus-a-copy\n",
      "  tmp['clbinary'] = clbinary.apply(int)\n",
      "/tmp/ipykernel_453495/3608487856.py:7: SettingWithCopyWarning: \n",
      "A value is trying to be set on a copy of a slice from a DataFrame.\n",
      "Try using .loc[row_indexer,col_indexer] = value instead\n",
      "\n",
      "See the caveats in the documentation: https://pandas.pydata.org/pandas-docs/stable/user_guide/indexing.html#returning-a-view-versus-a-copy\n",
      "  tmp['lm_binary'] = lm_binary.apply(int)\n",
      "/tmp/ipykernel_453495/3608487856.py:6: SettingWithCopyWarning: \n",
      "A value is trying to be set on a copy of a slice from a DataFrame.\n",
      "Try using .loc[row_indexer,col_indexer] = value instead\n",
      "\n",
      "See the caveats in the documentation: https://pandas.pydata.org/pandas-docs/stable/user_guide/indexing.html#returning-a-view-versus-a-copy\n",
      "  tmp['clbinary'] = clbinary.apply(int)\n",
      "/tmp/ipykernel_453495/3608487856.py:7: SettingWithCopyWarning: \n",
      "A value is trying to be set on a copy of a slice from a DataFrame.\n",
      "Try using .loc[row_indexer,col_indexer] = value instead\n",
      "\n",
      "See the caveats in the documentation: https://pandas.pydata.org/pandas-docs/stable/user_guide/indexing.html#returning-a-view-versus-a-copy\n",
      "  tmp['lm_binary'] = lm_binary.apply(int)\n",
      "/tmp/ipykernel_453495/3608487856.py:6: SettingWithCopyWarning: \n",
      "A value is trying to be set on a copy of a slice from a DataFrame.\n",
      "Try using .loc[row_indexer,col_indexer] = value instead\n",
      "\n",
      "See the caveats in the documentation: https://pandas.pydata.org/pandas-docs/stable/user_guide/indexing.html#returning-a-view-versus-a-copy\n",
      "  tmp['clbinary'] = clbinary.apply(int)\n",
      "/tmp/ipykernel_453495/3608487856.py:7: SettingWithCopyWarning: \n",
      "A value is trying to be set on a copy of a slice from a DataFrame.\n",
      "Try using .loc[row_indexer,col_indexer] = value instead\n",
      "\n",
      "See the caveats in the documentation: https://pandas.pydata.org/pandas-docs/stable/user_guide/indexing.html#returning-a-view-versus-a-copy\n",
      "  tmp['lm_binary'] = lm_binary.apply(int)\n",
      "/tmp/ipykernel_453495/3608487856.py:6: SettingWithCopyWarning: \n",
      "A value is trying to be set on a copy of a slice from a DataFrame.\n",
      "Try using .loc[row_indexer,col_indexer] = value instead\n",
      "\n",
      "See the caveats in the documentation: https://pandas.pydata.org/pandas-docs/stable/user_guide/indexing.html#returning-a-view-versus-a-copy\n",
      "  tmp['clbinary'] = clbinary.apply(int)\n",
      "/tmp/ipykernel_453495/3608487856.py:7: SettingWithCopyWarning: \n",
      "A value is trying to be set on a copy of a slice from a DataFrame.\n",
      "Try using .loc[row_indexer,col_indexer] = value instead\n",
      "\n",
      "See the caveats in the documentation: https://pandas.pydata.org/pandas-docs/stable/user_guide/indexing.html#returning-a-view-versus-a-copy\n",
      "  tmp['lm_binary'] = lm_binary.apply(int)\n",
      "/tmp/ipykernel_453495/3608487856.py:6: SettingWithCopyWarning: \n",
      "A value is trying to be set on a copy of a slice from a DataFrame.\n",
      "Try using .loc[row_indexer,col_indexer] = value instead\n",
      "\n",
      "See the caveats in the documentation: https://pandas.pydata.org/pandas-docs/stable/user_guide/indexing.html#returning-a-view-versus-a-copy\n",
      "  tmp['clbinary'] = clbinary.apply(int)\n",
      "/tmp/ipykernel_453495/3608487856.py:7: SettingWithCopyWarning: \n",
      "A value is trying to be set on a copy of a slice from a DataFrame.\n",
      "Try using .loc[row_indexer,col_indexer] = value instead\n",
      "\n",
      "See the caveats in the documentation: https://pandas.pydata.org/pandas-docs/stable/user_guide/indexing.html#returning-a-view-versus-a-copy\n",
      "  tmp['lm_binary'] = lm_binary.apply(int)\n",
      "/home/icachol1/.conda/envs/request-gpt/lib/python3.9/site-packages/sklearn/metrics/_classification.py:407: UserWarning: A single label was found in 'y_true' and 'y_pred'. For the confusion matrix to have the correct shape, use the 'labels' parameter to pass all known labels.\n",
      "  warnings.warn(\n",
      "/home/icachol1/.conda/envs/request-gpt/lib/python3.9/site-packages/sklearn/metrics/_classification.py:758: RuntimeWarning: invalid value encountered in double_scalars\n",
      "  k = np.sum(w_mat * confusion) / np.sum(w_mat * expected)\n",
      "/tmp/ipykernel_453495/3608487856.py:6: SettingWithCopyWarning: \n",
      "A value is trying to be set on a copy of a slice from a DataFrame.\n",
      "Try using .loc[row_indexer,col_indexer] = value instead\n",
      "\n",
      "See the caveats in the documentation: https://pandas.pydata.org/pandas-docs/stable/user_guide/indexing.html#returning-a-view-versus-a-copy\n",
      "  tmp['clbinary'] = clbinary.apply(int)\n",
      "/tmp/ipykernel_453495/3608487856.py:7: SettingWithCopyWarning: \n",
      "A value is trying to be set on a copy of a slice from a DataFrame.\n",
      "Try using .loc[row_indexer,col_indexer] = value instead\n",
      "\n",
      "See the caveats in the documentation: https://pandas.pydata.org/pandas-docs/stable/user_guide/indexing.html#returning-a-view-versus-a-copy\n",
      "  tmp['lm_binary'] = lm_binary.apply(int)\n",
      "/tmp/ipykernel_453495/3608487856.py:6: SettingWithCopyWarning: \n",
      "A value is trying to be set on a copy of a slice from a DataFrame.\n",
      "Try using .loc[row_indexer,col_indexer] = value instead\n",
      "\n",
      "See the caveats in the documentation: https://pandas.pydata.org/pandas-docs/stable/user_guide/indexing.html#returning-a-view-versus-a-copy\n",
      "  tmp['clbinary'] = clbinary.apply(int)\n",
      "/tmp/ipykernel_453495/3608487856.py:7: SettingWithCopyWarning: \n",
      "A value is trying to be set on a copy of a slice from a DataFrame.\n",
      "Try using .loc[row_indexer,col_indexer] = value instead\n",
      "\n",
      "See the caveats in the documentation: https://pandas.pydata.org/pandas-docs/stable/user_guide/indexing.html#returning-a-view-versus-a-copy\n",
      "  tmp['lm_binary'] = lm_binary.apply(int)\n",
      "/tmp/ipykernel_453495/3608487856.py:6: SettingWithCopyWarning: \n",
      "A value is trying to be set on a copy of a slice from a DataFrame.\n",
      "Try using .loc[row_indexer,col_indexer] = value instead\n",
      "\n",
      "See the caveats in the documentation: https://pandas.pydata.org/pandas-docs/stable/user_guide/indexing.html#returning-a-view-versus-a-copy\n",
      "  tmp['clbinary'] = clbinary.apply(int)\n",
      "/tmp/ipykernel_453495/3608487856.py:7: SettingWithCopyWarning: \n",
      "A value is trying to be set on a copy of a slice from a DataFrame.\n",
      "Try using .loc[row_indexer,col_indexer] = value instead\n",
      "\n",
      "See the caveats in the documentation: https://pandas.pydata.org/pandas-docs/stable/user_guide/indexing.html#returning-a-view-versus-a-copy\n",
      "  tmp['lm_binary'] = lm_binary.apply(int)\n",
      "/tmp/ipykernel_453495/3608487856.py:6: SettingWithCopyWarning: \n",
      "A value is trying to be set on a copy of a slice from a DataFrame.\n",
      "Try using .loc[row_indexer,col_indexer] = value instead\n",
      "\n",
      "See the caveats in the documentation: https://pandas.pydata.org/pandas-docs/stable/user_guide/indexing.html#returning-a-view-versus-a-copy\n",
      "  tmp['clbinary'] = clbinary.apply(int)\n",
      "/tmp/ipykernel_453495/3608487856.py:7: SettingWithCopyWarning: \n",
      "A value is trying to be set on a copy of a slice from a DataFrame.\n",
      "Try using .loc[row_indexer,col_indexer] = value instead\n",
      "\n",
      "See the caveats in the documentation: https://pandas.pydata.org/pandas-docs/stable/user_guide/indexing.html#returning-a-view-versus-a-copy\n",
      "  tmp['lm_binary'] = lm_binary.apply(int)\n",
      "/tmp/ipykernel_453495/3608487856.py:6: SettingWithCopyWarning: \n",
      "A value is trying to be set on a copy of a slice from a DataFrame.\n",
      "Try using .loc[row_indexer,col_indexer] = value instead\n",
      "\n",
      "See the caveats in the documentation: https://pandas.pydata.org/pandas-docs/stable/user_guide/indexing.html#returning-a-view-versus-a-copy\n",
      "  tmp['clbinary'] = clbinary.apply(int)\n",
      "/tmp/ipykernel_453495/3608487856.py:7: SettingWithCopyWarning: \n",
      "A value is trying to be set on a copy of a slice from a DataFrame.\n",
      "Try using .loc[row_indexer,col_indexer] = value instead\n",
      "\n",
      "See the caveats in the documentation: https://pandas.pydata.org/pandas-docs/stable/user_guide/indexing.html#returning-a-view-versus-a-copy\n",
      "  tmp['lm_binary'] = lm_binary.apply(int)\n",
      "/home/icachol1/.conda/envs/request-gpt/lib/python3.9/site-packages/sklearn/metrics/_classification.py:407: UserWarning: A single label was found in 'y_true' and 'y_pred'. For the confusion matrix to have the correct shape, use the 'labels' parameter to pass all known labels.\n",
      "  warnings.warn(\n",
      "/home/icachol1/.conda/envs/request-gpt/lib/python3.9/site-packages/sklearn/metrics/_classification.py:758: RuntimeWarning: invalid value encountered in double_scalars\n",
      "  k = np.sum(w_mat * confusion) / np.sum(w_mat * expected)\n",
      "/tmp/ipykernel_453495/3608487856.py:6: SettingWithCopyWarning: \n",
      "A value is trying to be set on a copy of a slice from a DataFrame.\n",
      "Try using .loc[row_indexer,col_indexer] = value instead\n",
      "\n",
      "See the caveats in the documentation: https://pandas.pydata.org/pandas-docs/stable/user_guide/indexing.html#returning-a-view-versus-a-copy\n",
      "  tmp['clbinary'] = clbinary.apply(int)\n",
      "/tmp/ipykernel_453495/3608487856.py:7: SettingWithCopyWarning: \n",
      "A value is trying to be set on a copy of a slice from a DataFrame.\n",
      "Try using .loc[row_indexer,col_indexer] = value instead\n",
      "\n",
      "See the caveats in the documentation: https://pandas.pydata.org/pandas-docs/stable/user_guide/indexing.html#returning-a-view-versus-a-copy\n",
      "  tmp['lm_binary'] = lm_binary.apply(int)\n",
      "/tmp/ipykernel_453495/3608487856.py:6: SettingWithCopyWarning: \n",
      "A value is trying to be set on a copy of a slice from a DataFrame.\n",
      "Try using .loc[row_indexer,col_indexer] = value instead\n",
      "\n",
      "See the caveats in the documentation: https://pandas.pydata.org/pandas-docs/stable/user_guide/indexing.html#returning-a-view-versus-a-copy\n",
      "  tmp['clbinary'] = clbinary.apply(int)\n",
      "/tmp/ipykernel_453495/3608487856.py:7: SettingWithCopyWarning: \n",
      "A value is trying to be set on a copy of a slice from a DataFrame.\n",
      "Try using .loc[row_indexer,col_indexer] = value instead\n",
      "\n",
      "See the caveats in the documentation: https://pandas.pydata.org/pandas-docs/stable/user_guide/indexing.html#returning-a-view-versus-a-copy\n",
      "  tmp['lm_binary'] = lm_binary.apply(int)\n",
      "/tmp/ipykernel_453495/3608487856.py:6: SettingWithCopyWarning: \n",
      "A value is trying to be set on a copy of a slice from a DataFrame.\n",
      "Try using .loc[row_indexer,col_indexer] = value instead\n",
      "\n",
      "See the caveats in the documentation: https://pandas.pydata.org/pandas-docs/stable/user_guide/indexing.html#returning-a-view-versus-a-copy\n",
      "  tmp['clbinary'] = clbinary.apply(int)\n",
      "/tmp/ipykernel_453495/3608487856.py:7: SettingWithCopyWarning: \n",
      "A value is trying to be set on a copy of a slice from a DataFrame.\n",
      "Try using .loc[row_indexer,col_indexer] = value instead\n",
      "\n",
      "See the caveats in the documentation: https://pandas.pydata.org/pandas-docs/stable/user_guide/indexing.html#returning-a-view-versus-a-copy\n",
      "  tmp['lm_binary'] = lm_binary.apply(int)\n",
      "/tmp/ipykernel_453495/3608487856.py:6: SettingWithCopyWarning: \n",
      "A value is trying to be set on a copy of a slice from a DataFrame.\n",
      "Try using .loc[row_indexer,col_indexer] = value instead\n",
      "\n",
      "See the caveats in the documentation: https://pandas.pydata.org/pandas-docs/stable/user_guide/indexing.html#returning-a-view-versus-a-copy\n",
      "  tmp['clbinary'] = clbinary.apply(int)\n",
      "/tmp/ipykernel_453495/3608487856.py:7: SettingWithCopyWarning: \n",
      "A value is trying to be set on a copy of a slice from a DataFrame.\n",
      "Try using .loc[row_indexer,col_indexer] = value instead\n",
      "\n",
      "See the caveats in the documentation: https://pandas.pydata.org/pandas-docs/stable/user_guide/indexing.html#returning-a-view-versus-a-copy\n",
      "  tmp['lm_binary'] = lm_binary.apply(int)\n",
      "/tmp/ipykernel_453495/3608487856.py:6: SettingWithCopyWarning: \n",
      "A value is trying to be set on a copy of a slice from a DataFrame.\n",
      "Try using .loc[row_indexer,col_indexer] = value instead\n",
      "\n",
      "See the caveats in the documentation: https://pandas.pydata.org/pandas-docs/stable/user_guide/indexing.html#returning-a-view-versus-a-copy\n",
      "  tmp['clbinary'] = clbinary.apply(int)\n",
      "/tmp/ipykernel_453495/3608487856.py:7: SettingWithCopyWarning: \n",
      "A value is trying to be set on a copy of a slice from a DataFrame.\n",
      "Try using .loc[row_indexer,col_indexer] = value instead\n",
      "\n",
      "See the caveats in the documentation: https://pandas.pydata.org/pandas-docs/stable/user_guide/indexing.html#returning-a-view-versus-a-copy\n",
      "  tmp['lm_binary'] = lm_binary.apply(int)\n",
      "/home/icachol1/.conda/envs/request-gpt/lib/python3.9/site-packages/sklearn/metrics/_classification.py:407: UserWarning: A single label was found in 'y_true' and 'y_pred'. For the confusion matrix to have the correct shape, use the 'labels' parameter to pass all known labels.\n",
      "  warnings.warn(\n",
      "/home/icachol1/.conda/envs/request-gpt/lib/python3.9/site-packages/sklearn/metrics/_classification.py:758: RuntimeWarning: invalid value encountered in double_scalars\n",
      "  k = np.sum(w_mat * confusion) / np.sum(w_mat * expected)\n",
      "/tmp/ipykernel_453495/3608487856.py:6: SettingWithCopyWarning: \n",
      "A value is trying to be set on a copy of a slice from a DataFrame.\n",
      "Try using .loc[row_indexer,col_indexer] = value instead\n",
      "\n",
      "See the caveats in the documentation: https://pandas.pydata.org/pandas-docs/stable/user_guide/indexing.html#returning-a-view-versus-a-copy\n",
      "  tmp['clbinary'] = clbinary.apply(int)\n",
      "/tmp/ipykernel_453495/3608487856.py:7: SettingWithCopyWarning: \n",
      "A value is trying to be set on a copy of a slice from a DataFrame.\n",
      "Try using .loc[row_indexer,col_indexer] = value instead\n",
      "\n",
      "See the caveats in the documentation: https://pandas.pydata.org/pandas-docs/stable/user_guide/indexing.html#returning-a-view-versus-a-copy\n",
      "  tmp['lm_binary'] = lm_binary.apply(int)\n",
      "/tmp/ipykernel_453495/3608487856.py:6: SettingWithCopyWarning: \n",
      "A value is trying to be set on a copy of a slice from a DataFrame.\n",
      "Try using .loc[row_indexer,col_indexer] = value instead\n",
      "\n",
      "See the caveats in the documentation: https://pandas.pydata.org/pandas-docs/stable/user_guide/indexing.html#returning-a-view-versus-a-copy\n",
      "  tmp['clbinary'] = clbinary.apply(int)\n",
      "/tmp/ipykernel_453495/3608487856.py:7: SettingWithCopyWarning: \n",
      "A value is trying to be set on a copy of a slice from a DataFrame.\n",
      "Try using .loc[row_indexer,col_indexer] = value instead\n",
      "\n",
      "See the caveats in the documentation: https://pandas.pydata.org/pandas-docs/stable/user_guide/indexing.html#returning-a-view-versus-a-copy\n",
      "  tmp['lm_binary'] = lm_binary.apply(int)\n",
      "/tmp/ipykernel_453495/3608487856.py:6: SettingWithCopyWarning: \n",
      "A value is trying to be set on a copy of a slice from a DataFrame.\n",
      "Try using .loc[row_indexer,col_indexer] = value instead\n",
      "\n",
      "See the caveats in the documentation: https://pandas.pydata.org/pandas-docs/stable/user_guide/indexing.html#returning-a-view-versus-a-copy\n",
      "  tmp['clbinary'] = clbinary.apply(int)\n",
      "/tmp/ipykernel_453495/3608487856.py:7: SettingWithCopyWarning: \n",
      "A value is trying to be set on a copy of a slice from a DataFrame.\n",
      "Try using .loc[row_indexer,col_indexer] = value instead\n",
      "\n",
      "See the caveats in the documentation: https://pandas.pydata.org/pandas-docs/stable/user_guide/indexing.html#returning-a-view-versus-a-copy\n",
      "  tmp['lm_binary'] = lm_binary.apply(int)\n",
      "/tmp/ipykernel_453495/3608487856.py:6: SettingWithCopyWarning: \n",
      "A value is trying to be set on a copy of a slice from a DataFrame.\n",
      "Try using .loc[row_indexer,col_indexer] = value instead\n",
      "\n",
      "See the caveats in the documentation: https://pandas.pydata.org/pandas-docs/stable/user_guide/indexing.html#returning-a-view-versus-a-copy\n",
      "  tmp['clbinary'] = clbinary.apply(int)\n",
      "/tmp/ipykernel_453495/3608487856.py:7: SettingWithCopyWarning: \n",
      "A value is trying to be set on a copy of a slice from a DataFrame.\n",
      "Try using .loc[row_indexer,col_indexer] = value instead\n",
      "\n",
      "See the caveats in the documentation: https://pandas.pydata.org/pandas-docs/stable/user_guide/indexing.html#returning-a-view-versus-a-copy\n",
      "  tmp['lm_binary'] = lm_binary.apply(int)\n",
      "/tmp/ipykernel_453495/3608487856.py:6: SettingWithCopyWarning: \n",
      "A value is trying to be set on a copy of a slice from a DataFrame.\n",
      "Try using .loc[row_indexer,col_indexer] = value instead\n",
      "\n",
      "See the caveats in the documentation: https://pandas.pydata.org/pandas-docs/stable/user_guide/indexing.html#returning-a-view-versus-a-copy\n",
      "  tmp['clbinary'] = clbinary.apply(int)\n",
      "/tmp/ipykernel_453495/3608487856.py:7: SettingWithCopyWarning: \n",
      "A value is trying to be set on a copy of a slice from a DataFrame.\n",
      "Try using .loc[row_indexer,col_indexer] = value instead\n",
      "\n",
      "See the caveats in the documentation: https://pandas.pydata.org/pandas-docs/stable/user_guide/indexing.html#returning-a-view-versus-a-copy\n",
      "  tmp['lm_binary'] = lm_binary.apply(int)\n",
      "/home/icachol1/.conda/envs/request-gpt/lib/python3.9/site-packages/sklearn/metrics/_classification.py:407: UserWarning: A single label was found in 'y_true' and 'y_pred'. For the confusion matrix to have the correct shape, use the 'labels' parameter to pass all known labels.\n",
      "  warnings.warn(\n",
      "/home/icachol1/.conda/envs/request-gpt/lib/python3.9/site-packages/sklearn/metrics/_classification.py:758: RuntimeWarning: invalid value encountered in double_scalars\n",
      "  k = np.sum(w_mat * confusion) / np.sum(w_mat * expected)\n",
      "/tmp/ipykernel_453495/3608487856.py:6: SettingWithCopyWarning: \n",
      "A value is trying to be set on a copy of a slice from a DataFrame.\n",
      "Try using .loc[row_indexer,col_indexer] = value instead\n",
      "\n",
      "See the caveats in the documentation: https://pandas.pydata.org/pandas-docs/stable/user_guide/indexing.html#returning-a-view-versus-a-copy\n",
      "  tmp['clbinary'] = clbinary.apply(int)\n",
      "/tmp/ipykernel_453495/3608487856.py:7: SettingWithCopyWarning: \n",
      "A value is trying to be set on a copy of a slice from a DataFrame.\n",
      "Try using .loc[row_indexer,col_indexer] = value instead\n",
      "\n",
      "See the caveats in the documentation: https://pandas.pydata.org/pandas-docs/stable/user_guide/indexing.html#returning-a-view-versus-a-copy\n",
      "  tmp['lm_binary'] = lm_binary.apply(int)\n",
      "/tmp/ipykernel_453495/3608487856.py:6: SettingWithCopyWarning: \n",
      "A value is trying to be set on a copy of a slice from a DataFrame.\n",
      "Try using .loc[row_indexer,col_indexer] = value instead\n",
      "\n",
      "See the caveats in the documentation: https://pandas.pydata.org/pandas-docs/stable/user_guide/indexing.html#returning-a-view-versus-a-copy\n",
      "  tmp['clbinary'] = clbinary.apply(int)\n",
      "/tmp/ipykernel_453495/3608487856.py:7: SettingWithCopyWarning: \n",
      "A value is trying to be set on a copy of a slice from a DataFrame.\n",
      "Try using .loc[row_indexer,col_indexer] = value instead\n",
      "\n",
      "See the caveats in the documentation: https://pandas.pydata.org/pandas-docs/stable/user_guide/indexing.html#returning-a-view-versus-a-copy\n",
      "  tmp['lm_binary'] = lm_binary.apply(int)\n",
      "/tmp/ipykernel_453495/3608487856.py:6: SettingWithCopyWarning: \n",
      "A value is trying to be set on a copy of a slice from a DataFrame.\n",
      "Try using .loc[row_indexer,col_indexer] = value instead\n",
      "\n",
      "See the caveats in the documentation: https://pandas.pydata.org/pandas-docs/stable/user_guide/indexing.html#returning-a-view-versus-a-copy\n",
      "  tmp['clbinary'] = clbinary.apply(int)\n",
      "/tmp/ipykernel_453495/3608487856.py:7: SettingWithCopyWarning: \n",
      "A value is trying to be set on a copy of a slice from a DataFrame.\n",
      "Try using .loc[row_indexer,col_indexer] = value instead\n",
      "\n",
      "See the caveats in the documentation: https://pandas.pydata.org/pandas-docs/stable/user_guide/indexing.html#returning-a-view-versus-a-copy\n",
      "  tmp['lm_binary'] = lm_binary.apply(int)\n",
      "/tmp/ipykernel_453495/3608487856.py:6: SettingWithCopyWarning: \n",
      "A value is trying to be set on a copy of a slice from a DataFrame.\n",
      "Try using .loc[row_indexer,col_indexer] = value instead\n",
      "\n",
      "See the caveats in the documentation: https://pandas.pydata.org/pandas-docs/stable/user_guide/indexing.html#returning-a-view-versus-a-copy\n",
      "  tmp['clbinary'] = clbinary.apply(int)\n",
      "/tmp/ipykernel_453495/3608487856.py:7: SettingWithCopyWarning: \n",
      "A value is trying to be set on a copy of a slice from a DataFrame.\n",
      "Try using .loc[row_indexer,col_indexer] = value instead\n",
      "\n",
      "See the caveats in the documentation: https://pandas.pydata.org/pandas-docs/stable/user_guide/indexing.html#returning-a-view-versus-a-copy\n",
      "  tmp['lm_binary'] = lm_binary.apply(int)\n"
     ]
    }
   ],
   "source": [
    "scores = np.zeros((10,5))\n",
    "max_score = -10000\n",
    "best_level = (-1, -1)\n",
    "for fk_level in range(0,110, 10):\n",
    "    for lm_level in range(1,6):\n",
    "        ck_score = get_aggreement_from_binary(fk_level, lm_level)\n",
    "        if ck_score > max_score:\n",
    "            max_score = ck_score\n",
    "            best_level = (fk_level, lm_level)"
   ]
  },
  {
   "cell_type": "code",
   "execution_count": 17,
   "metadata": {},
   "outputs": [
    {
     "name": "stdout",
     "output_type": "stream",
     "text": [
      "0.24613432322858464\n",
      "(10, 5)\n"
     ]
    }
   ],
   "source": [
    "print(max_score)\n",
    "print(best_level)"
   ]
  },
  {
   "cell_type": "markdown",
   "metadata": {},
   "source": [
    "## Keyword Analysis"
   ]
  },
  {
   "cell_type": "code",
   "execution_count": 18,
   "metadata": {},
   "outputs": [],
   "source": [
    "stops = set(stopwords.words('english'))\n",
    "stops.update([\"reading\", \"ease\", \"rating\", \"text\", \"rate\", \"assistant\", \"would\", \"may\",])\n",
    "kw_extractor = yake.KeywordExtractor(lan=\"en\", n=3, dedupLim=1.0, top=10, features=None, stopwords=stops)\n",
    "def get_keywords(text):\n",
    "    keywords = kw_extractor.extract_keywords(text)\n",
    "    return [k[1] for k in keywords]"
   ]
  },
  {
   "cell_type": "code",
   "execution_count": 19,
   "metadata": {},
   "outputs": [],
   "source": [
    "def get_txt(d_name):\n",
    "    tmp = all_scores[all_scores['dataset']==d_name]\n",
    "    text = '\\n'.join(tmp['response']).lower()\n",
    "    print(len(text))\n",
    "    return text"
   ]
  },
  {
   "cell_type": "code",
   "execution_count": 20,
   "metadata": {},
   "outputs": [],
   "source": [
    "def get_txt_by_score(score):\n",
    "    tmp = all_scores[all_scores['readability']==score]\n",
    "    text = '\\n'.join(tmp['response']).lower()\n",
    "    print(len(text))\n",
    "    return text"
   ]
  },
  {
   "cell_type": "code",
   "execution_count": 21,
   "metadata": {},
   "outputs": [
    {
     "name": "stdout",
     "output_type": "stream",
     "text": [
      "6700224\n",
      "expert background knowledge, requires expert background, background knowledge, strong background knowledge, significant background knowledge, expert background, technical terms, without significant background, requires expert, high level\n"
     ]
    }
   ],
   "source": [
    "print(', '.join(get_keywords(get_txt_by_score(1))))"
   ]
  },
  {
   "cell_type": "code",
   "execution_count": 22,
   "metadata": {},
   "outputs": [
    {
     "name": "stdout",
     "output_type": "stream",
     "text": [
      "11314138\n",
      "background knowledge, require specialized knowledge, strong background knowledge, significant background knowledge, uses technical terms, expert background knowledge, technical terms, likely require specialized, complex sentence structures, using technical terms\n"
     ]
    }
   ],
   "source": [
    "print(', '.join(get_keywords(get_txt_by_score(2))))"
   ]
  },
  {
   "cell_type": "code",
   "execution_count": 23,
   "metadata": {},
   "outputs": [
    {
     "name": "stdout",
     "output_type": "stream",
     "text": [
      "4058762\n",
      "require expert-level knowledge, background knowledge, uses technical terms, technical terms like, basic knowledge, general adult reader, technical terms, help readers understand, knowledge, help non-experts understand\n"
     ]
    }
   ],
   "source": [
    "print(', '.join(get_keywords(get_txt_by_score(3))))"
   ]
  },
  {
   "cell_type": "code",
   "execution_count": 24,
   "metadata": {},
   "outputs": [
    {
     "name": "stdout",
     "output_type": "stream",
     "text": [
      "3019040\n"
     ]
    },
    {
     "name": "stdout",
     "output_type": "stream",
     "text": [
      "general adult audience, basic knowledge, general adult, general adult reader, technical terms, adult audience, require specialized knowledge, background knowledge, require expert-level knowledge, general audience\n"
     ]
    }
   ],
   "source": [
    "print(', '.join(get_keywords(get_txt_by_score(4))))"
   ]
  },
  {
   "cell_type": "code",
   "execution_count": 25,
   "metadata": {},
   "outputs": [
    {
     "name": "stdout",
     "output_type": "stream",
     "text": [
      "48667\n",
      "language used, easy to understand, knowledge, easy, simple, specialized knowledge, concepts are explained, understand, concepts, language\n"
     ]
    }
   ],
   "source": [
    "print(', '.join(get_keywords(get_txt_by_score(5))))"
   ]
  },
  {
   "cell_type": "markdown",
   "metadata": {},
   "source": [
    "### keywords by dataset"
   ]
  },
  {
   "cell_type": "code",
   "execution_count": 26,
   "metadata": {},
   "outputs": [
    {
     "name": "stdout",
     "output_type": "stream",
     "text": [
      "5510918\n"
     ]
    },
    {
     "data": {
      "text/plain": [
       "['expert background knowledge',\n",
       " 'requires expert background',\n",
       " 'background knowledge',\n",
       " 'strong background knowledge',\n",
       " 'significant background knowledge',\n",
       " 'expert background',\n",
       " 'technical terms',\n",
       " 'without significant background',\n",
       " 'strong background',\n",
       " 'high level']"
      ]
     },
     "execution_count": 26,
     "metadata": {},
     "output_type": "execute_result"
    }
   ],
   "source": [
    "arxiv = get_txt('arxiv')\n",
    "get_keywords(arxiv)"
   ]
  },
  {
   "cell_type": "code",
   "execution_count": 27,
   "metadata": {},
   "outputs": [
    {
     "name": "stdout",
     "output_type": "stream",
     "text": [
      "6376039\n",
      "background knowledge, expert background knowledge, require specialized knowledge, significant background knowledge, medical background knowledge, strong background knowledge, requires expert background, complex sentence structures, likely require specialized, technical terms\n"
     ]
    }
   ],
   "source": [
    "pubmed = get_txt('pubmed')\n",
    "print(', '.join(get_keywords(pubmed)))"
   ]
  },
  {
   "cell_type": "code",
   "execution_count": 28,
   "metadata": {},
   "outputs": [
    {
     "name": "stdout",
     "output_type": "stream",
     "text": [
      "186249\n"
     ]
    },
    {
     "name": "stdout",
     "output_type": "stream",
     "text": [
      "general adult audience, basic knowledge, language used, knowledge, easy to understand, concepts, general adult, understand, general, concepts are explained\n"
     ]
    }
   ],
   "source": [
    "skj = get_txt('skj')\n",
    "print(', '.join(get_keywords(skj)))"
   ]
  },
  {
   "cell_type": "code",
   "execution_count": 29,
   "metadata": {},
   "outputs": [
    {
     "name": "stdout",
     "output_type": "stream",
     "text": [
      "52101\n"
     ]
    },
    {
     "data": {
      "text/plain": [
       "['basic knowledge',\n",
       " 'knowledge',\n",
       " 'background knowledge',\n",
       " 'general adult audience',\n",
       " 'medical',\n",
       " 'medical terminology',\n",
       " 'understand',\n",
       " 'general adult',\n",
       " 'concepts',\n",
       " 'technical terms']"
      ]
     },
     "execution_count": 29,
     "metadata": {},
     "output_type": "execute_result"
    }
   ],
   "source": [
    "cdsr = get_txt('cdsr')\n",
    "get_keywords(cdsr)"
   ]
  },
  {
   "cell_type": "code",
   "execution_count": 30,
   "metadata": {},
   "outputs": [
    {
     "name": "stdout",
     "output_type": "stream",
     "text": [
      "371107\n"
     ]
    },
    {
     "data": {
      "text/plain": [
       "'background knowledge, machine learning, technical terms, general population, expert background knowledge, knowledge, technical terms like, background, technical, general'"
      ]
     },
     "execution_count": 30,
     "metadata": {},
     "output_type": "execute_result"
    }
   ],
   "source": [
    "scitldr = get_txt('scitldr')\n",
    "', '.join(get_keywords(scitldr))"
   ]
  },
  {
   "cell_type": "code",
   "execution_count": 31,
   "metadata": {},
   "outputs": [
    {
     "name": "stdout",
     "output_type": "stream",
     "text": [
      "1196145\n",
      "background knowledge, expert background knowledge, strong background knowledge, significant background knowledge, require specialized knowledge, technical terms, uses technical terms, molecular biology, knowledge, requires expert background\n"
     ]
    }
   ],
   "source": [
    "plos = get_txt('plos')\n",
    "print(', '.join(get_keywords(plos)))"
   ]
  },
  {
   "cell_type": "code",
   "execution_count": 32,
   "metadata": {},
   "outputs": [
    {
     "name": "stdout",
     "output_type": "stream",
     "text": [
      "1202408\n",
      "background knowledge, technical terms, uses technical terms, require expert-level knowledge, basic knowledge, general adult audience, knowledge, technical, general audience, general adult reader\n"
     ]
    }
   ],
   "source": [
    "eureka = get_txt('eureka')\n",
    "print(', '.join(get_keywords(eureka)))"
   ]
  },
  {
   "cell_type": "code",
   "execution_count": 33,
   "metadata": {},
   "outputs": [
    {
     "name": "stdout",
     "output_type": "stream",
     "text": [
      "262448\n",
      "background knowledge, basic knowledge, uses technical terms, knowledge, technical terms, require expert-level knowledge, biology, general adult audience, concepts, technical\n"
     ]
    }
   ],
   "source": [
    "elife = get_txt('elife')\n",
    "print(', '.join(get_keywords(elife)))"
   ]
  },
  {
   "cell_type": "code",
   "execution_count": 34,
   "metadata": {},
   "outputs": [
    {
     "name": "stdout",
     "output_type": "stream",
     "text": [
      "5128301\n",
      "background knowledge, require specialized knowledge, expert background knowledge, strong background knowledge, significant background knowledge, uses technical terms, technical terms, technical terms like, using technical terms, general adult audience\n"
     ]
    }
   ],
   "source": [
    "cells = get_txt('cells')\n",
    "print(', '.join(get_keywords(cells)))"
   ]
  },
  {
   "cell_type": "code",
   "execution_count": 35,
   "metadata": {},
   "outputs": [
    {
     "name": "stdout",
     "output_type": "stream",
     "text": [
      "4912192\n",
      "general adult audience, uses technical terms, background knowledge, technical terms, require expert-level knowledge, help readers understand, basic knowledge, technical terms like, general adult reader, general audience\n"
     ]
    }
   ],
   "source": [
    "scinews = get_txt('scinews')\n",
    "print(', '.join(get_keywords(scinews)))"
   ]
  },
  {
   "cell_type": "markdown",
   "metadata": {},
   "source": [
    "# Scores analysis"
   ]
  },
  {
   "cell_type": "code",
   "execution_count": 36,
   "metadata": {},
   "outputs": [
    {
     "data": {
      "text/plain": [
       "dataset\n",
       "arxiv      1.178727\n",
       "cdsr       3.433962\n",
       "cells      2.169941\n",
       "elife      3.080913\n",
       "eureka     2.921287\n",
       "plos       1.976744\n",
       "pubmed     1.903185\n",
       "scinews    3.178128\n",
       "scitldr    1.857605\n",
       "skj        4.345070\n",
       "Name: readability, dtype: float64"
      ]
     },
     "execution_count": 36,
     "metadata": {},
     "output_type": "execute_result"
    }
   ],
   "source": [
    "all_scores.groupby('dataset')['readability'].mean()"
   ]
  },
  {
   "cell_type": "code",
   "execution_count": 37,
   "metadata": {},
   "outputs": [
    {
     "data": {
      "text/plain": [
       "Index(['readability', 'summary', 'response', 'dataset', 'model',\n",
       "       'coleman_liau'],\n",
       "      dtype='object')"
      ]
     },
     "execution_count": 37,
     "metadata": {},
     "output_type": "execute_result"
    }
   ],
   "source": [
    "all_scores.columns"
   ]
  },
  {
   "cell_type": "code",
   "execution_count": 38,
   "metadata": {},
   "outputs": [
    {
     "data": {
      "text/plain": [
       "dataset\n",
       "arxiv      10.943194\n",
       "cdsr       14.055878\n",
       "cells      15.466924\n",
       "elife      12.458800\n",
       "eureka     14.413019\n",
       "plos       15.567070\n",
       "pubmed     13.038733\n",
       "scinews    13.867924\n",
       "scitldr    -1.000000\n",
       "skj         9.353087\n",
       "Name: coleman_liau, dtype: float64"
      ]
     },
     "execution_count": 38,
     "metadata": {},
     "output_type": "execute_result"
    }
   ],
   "source": [
    "all_scores.groupby('dataset')['coleman_liau'].mean()"
   ]
  },
  {
   "cell_type": "code",
   "execution_count": 39,
   "metadata": {},
   "outputs": [
    {
     "data": {
      "text/plain": [
       "dataset\n",
       "arxiv      1.0\n",
       "cdsr       4.0\n",
       "cells      2.0\n",
       "elife      3.0\n",
       "eureka     3.0\n",
       "plos       2.0\n",
       "pubmed     2.0\n",
       "scinews    3.0\n",
       "scitldr    2.0\n",
       "skj        4.0\n",
       "Name: readability, dtype: float64"
      ]
     },
     "execution_count": 39,
     "metadata": {},
     "output_type": "execute_result"
    }
   ],
   "source": [
    "all_scores.groupby('dataset')['readability'].median()"
   ]
  },
  {
   "cell_type": "code",
   "execution_count": 40,
   "metadata": {},
   "outputs": [
    {
     "data": {
      "text/plain": [
       "dataset\n",
       "arxiv      0.160473\n",
       "cdsr       0.481132\n",
       "cells      0.579396\n",
       "elife      0.504884\n",
       "eureka     0.528734\n",
       "plos       0.332186\n",
       "pubmed     0.268307\n",
       "scinews    0.563200\n",
       "scitldr    0.417292\n",
       "skj        0.226795\n",
       "Name: readability, dtype: float64"
      ]
     },
     "execution_count": 40,
     "metadata": {},
     "output_type": "execute_result"
    }
   ],
   "source": [
    "all_scores.groupby('dataset')['readability'].var()"
   ]
  },
  {
   "cell_type": "code",
   "execution_count": 41,
   "metadata": {},
   "outputs": [
    {
     "data": {
      "text/plain": [
       "dataset  readability\n",
       "arxiv    1.0            5328\n",
       "         2.0            1078\n",
       "         3.0              29\n",
       "         4.0               5\n",
       "cdsr     4.0              29\n",
       "         3.0              18\n",
       "         2.0               6\n",
       "cells    2.0            4107\n",
       "         1.0             838\n",
       "         3.0             820\n",
       "         4.0             545\n",
       "         2.5               1\n",
       "elife    3.0             116\n",
       "         4.0              71\n",
       "         2.0              51\n",
       "         2.5               2\n",
       "         3.5               1\n",
       "eureka   3.0             474\n",
       "         2.0             294\n",
       "         4.0             227\n",
       "         2.5              10\n",
       "         1.0               4\n",
       "         3.5               1\n",
       "plos     2.0            1019\n",
       "         1.0             211\n",
       "         3.0             110\n",
       "         4.0              34\n",
       "         2.5               2\n",
       "pubmed   2.0            5060\n",
       "         1.0            1162\n",
       "         3.0             345\n",
       "         4.0              85\n",
       "         2.5               5\n",
       "scinews  3.0            1757\n",
       "         4.0            1591\n",
       "         2.0             790\n",
       "         1.0              26\n",
       "         2.5              15\n",
       "         3.5               9\n",
       "scitldr  2.0             423\n",
       "         1.0             154\n",
       "         4.0              25\n",
       "         3.0              16\n",
       "skj      4.0             186\n",
       "         5.0              98\n",
       "Name: count, dtype: int64"
      ]
     },
     "execution_count": 41,
     "metadata": {},
     "output_type": "execute_result"
    }
   ],
   "source": [
    "all_scores.groupby('dataset')['readability'].value_counts()"
   ]
  },
  {
   "cell_type": "code",
   "execution_count": 42,
   "metadata": {},
   "outputs": [
    {
     "data": {
      "text/plain": [
       "dataset\n",
       "pubmed     6657\n",
       "arxiv      6440\n",
       "cells      6311\n",
       "scinews    4188\n",
       "plos       1376\n",
       "eureka     1010\n",
       "scitldr     618\n",
       "skj         284\n",
       "elife       241\n",
       "cdsr         53\n",
       "Name: count, dtype: int64"
      ]
     },
     "execution_count": 42,
     "metadata": {},
     "output_type": "execute_result"
    }
   ],
   "source": [
    "all_scores['dataset'].value_counts()"
   ]
  },
  {
   "cell_type": "code",
   "execution_count": 43,
   "metadata": {},
   "outputs": [
    {
     "data": {
      "text/plain": [
       "dataset  readability\n",
       "arxiv    1.0            5328\n",
       "         2.0            1078\n",
       "         3.0              29\n",
       "         4.0               5\n",
       "cdsr     4.0              29\n",
       "         3.0              18\n",
       "         2.0               6\n",
       "cells    2.0            4107\n",
       "         1.0             838\n",
       "         3.0             820\n",
       "         4.0             545\n",
       "         2.5               1\n",
       "elife    3.0             116\n",
       "         4.0              71\n",
       "         2.0              51\n",
       "         2.5               2\n",
       "         3.5               1\n",
       "eureka   3.0             474\n",
       "         2.0             294\n",
       "         4.0             227\n",
       "         2.5              10\n",
       "         1.0               4\n",
       "         3.5               1\n",
       "plos     2.0            1019\n",
       "         1.0             211\n",
       "         3.0             110\n",
       "         4.0              34\n",
       "         2.5               2\n",
       "pubmed   2.0            5060\n",
       "         1.0            1162\n",
       "         3.0             345\n",
       "         4.0              85\n",
       "         2.5               5\n",
       "scinews  3.0            1757\n",
       "         4.0            1591\n",
       "         2.0             790\n",
       "         1.0              26\n",
       "         2.5              15\n",
       "         3.5               9\n",
       "scitldr  2.0             423\n",
       "         1.0             154\n",
       "         4.0              25\n",
       "         3.0              16\n",
       "skj      4.0             186\n",
       "         5.0              98\n",
       "Name: count, dtype: int64"
      ]
     },
     "execution_count": 43,
     "metadata": {},
     "output_type": "execute_result"
    }
   ],
   "source": [
    "all_scores.groupby('dataset')['readability'].value_counts()"
   ]
  },
  {
   "cell_type": "code",
   "execution_count": 44,
   "metadata": {},
   "outputs": [],
   "source": [
    "all_scores['readability'] = all_scores['readability'].round()\n",
    "tmp = all_scores.groupby('dataset')['readability'].value_counts().to_frame()\n",
    "tmp = tmp.pivot_table(values=\"count\", columns=\"dataset\",index=\"readability\")\n",
    "tmp.fillna(0, inplace=True)\n",
    "tmp.to_csv(\"readability_counts.csv\")"
   ]
  },
  {
   "cell_type": "code",
   "execution_count": 45,
   "metadata": {},
   "outputs": [
    {
     "data": {
      "text/html": [
       "<div>\n",
       "<style scoped>\n",
       "    .dataframe tbody tr th:only-of-type {\n",
       "        vertical-align: middle;\n",
       "    }\n",
       "\n",
       "    .dataframe tbody tr th {\n",
       "        vertical-align: top;\n",
       "    }\n",
       "\n",
       "    .dataframe thead th {\n",
       "        text-align: right;\n",
       "    }\n",
       "</style>\n",
       "<table border=\"1\" class=\"dataframe\">\n",
       "  <thead>\n",
       "    <tr style=\"text-align: right;\">\n",
       "      <th>dataset</th>\n",
       "      <th>arxiv</th>\n",
       "      <th>cdsr</th>\n",
       "      <th>cells</th>\n",
       "      <th>elife</th>\n",
       "      <th>eureka</th>\n",
       "      <th>plos</th>\n",
       "      <th>pubmed</th>\n",
       "      <th>scinews</th>\n",
       "      <th>scitldr</th>\n",
       "      <th>skj</th>\n",
       "    </tr>\n",
       "    <tr>\n",
       "      <th>readability</th>\n",
       "      <th></th>\n",
       "      <th></th>\n",
       "      <th></th>\n",
       "      <th></th>\n",
       "      <th></th>\n",
       "      <th></th>\n",
       "      <th></th>\n",
       "      <th></th>\n",
       "      <th></th>\n",
       "      <th></th>\n",
       "    </tr>\n",
       "  </thead>\n",
       "  <tbody>\n",
       "    <tr>\n",
       "      <th>1.0</th>\n",
       "      <td>5328.0</td>\n",
       "      <td>0.0</td>\n",
       "      <td>838.0</td>\n",
       "      <td>0.0</td>\n",
       "      <td>4.0</td>\n",
       "      <td>211.0</td>\n",
       "      <td>1162.0</td>\n",
       "      <td>26.0</td>\n",
       "      <td>154.0</td>\n",
       "      <td>0.0</td>\n",
       "    </tr>\n",
       "    <tr>\n",
       "      <th>2.0</th>\n",
       "      <td>1078.0</td>\n",
       "      <td>6.0</td>\n",
       "      <td>4108.0</td>\n",
       "      <td>53.0</td>\n",
       "      <td>304.0</td>\n",
       "      <td>1021.0</td>\n",
       "      <td>5065.0</td>\n",
       "      <td>805.0</td>\n",
       "      <td>423.0</td>\n",
       "      <td>0.0</td>\n",
       "    </tr>\n",
       "    <tr>\n",
       "      <th>3.0</th>\n",
       "      <td>29.0</td>\n",
       "      <td>18.0</td>\n",
       "      <td>820.0</td>\n",
       "      <td>116.0</td>\n",
       "      <td>474.0</td>\n",
       "      <td>110.0</td>\n",
       "      <td>345.0</td>\n",
       "      <td>1757.0</td>\n",
       "      <td>16.0</td>\n",
       "      <td>0.0</td>\n",
       "    </tr>\n",
       "    <tr>\n",
       "      <th>4.0</th>\n",
       "      <td>5.0</td>\n",
       "      <td>29.0</td>\n",
       "      <td>545.0</td>\n",
       "      <td>72.0</td>\n",
       "      <td>228.0</td>\n",
       "      <td>34.0</td>\n",
       "      <td>85.0</td>\n",
       "      <td>1600.0</td>\n",
       "      <td>25.0</td>\n",
       "      <td>186.0</td>\n",
       "    </tr>\n",
       "    <tr>\n",
       "      <th>5.0</th>\n",
       "      <td>0.0</td>\n",
       "      <td>0.0</td>\n",
       "      <td>0.0</td>\n",
       "      <td>0.0</td>\n",
       "      <td>0.0</td>\n",
       "      <td>0.0</td>\n",
       "      <td>0.0</td>\n",
       "      <td>0.0</td>\n",
       "      <td>0.0</td>\n",
       "      <td>98.0</td>\n",
       "    </tr>\n",
       "  </tbody>\n",
       "</table>\n",
       "</div>"
      ],
      "text/plain": [
       "dataset       arxiv  cdsr   cells  elife  eureka    plos  pubmed  scinews  \\\n",
       "readability                                                                 \n",
       "1.0          5328.0   0.0   838.0    0.0     4.0   211.0  1162.0     26.0   \n",
       "2.0          1078.0   6.0  4108.0   53.0   304.0  1021.0  5065.0    805.0   \n",
       "3.0            29.0  18.0   820.0  116.0   474.0   110.0   345.0   1757.0   \n",
       "4.0             5.0  29.0   545.0   72.0   228.0    34.0    85.0   1600.0   \n",
       "5.0             0.0   0.0     0.0    0.0     0.0     0.0     0.0      0.0   \n",
       "\n",
       "dataset      scitldr    skj  \n",
       "readability                  \n",
       "1.0            154.0    0.0  \n",
       "2.0            423.0    0.0  \n",
       "3.0             16.0    0.0  \n",
       "4.0             25.0  186.0  \n",
       "5.0              0.0   98.0  "
      ]
     },
     "execution_count": 45,
     "metadata": {},
     "output_type": "execute_result"
    }
   ],
   "source": [
    "tmp"
   ]
  },
  {
   "cell_type": "code",
   "execution_count": 46,
   "metadata": {},
   "outputs": [
    {
     "data": {
      "image/png": "[encoded data removed]",
      "text/plain": [
       "<Figure size 900x900 with 7 Axes>"
      ]
     },
     "metadata": {},
     "output_type": "display_data"
    }
   ],
   "source": [
    "g = sns.FacetGrid(all_scores, \n",
    "                col=\"dataset\", \n",
    "                col_order=[\n",
    "                    \"arxiv\", \n",
    "                    \"pubmed\", \n",
    "                    \"scitldr\",\n",
    "                    \"cdsr\", \n",
    "                    \"plos\", \n",
    "                    \"elife\", \n",
    "                    \"cells\", \n",
    "                    ],\n",
    "                sharey=False, \n",
    "                sharex=False, \n",
    "                xlim=(0.5,5.5), \n",
    "                col_wrap=3\n",
    "                )\n",
    "\n",
    "# Map the histplot function to each subplot\n",
    "g.map(sns.histplot, \"readability\")\n",
    "\n",
    "# g.refline(x=all_scores[\"readability\"].mean())\n",
    "g.set_titles(col_template=\"{col_name}\")\n",
    "# Adjust the layout and show the plot\n",
    "plt.tight_layout()\n",
    "plt.show()"
   ]
  },
  {
   "cell_type": "code",
   "execution_count": 47,
   "metadata": {},
   "outputs": [
    {
     "data": {
      "text/plain": [
       "['/scratch4/mdredze1/icachol1/layscisum/targets/scinews.target',\n",
       " '/scratch4/mdredze1/icachol1/layscisum/targets/elife.target',\n",
       " '/scratch4/mdredze1/icachol1/layscisum/targets/cdsr.target',\n",
       " '/scratch4/mdredze1/icachol1/layscisum/targets/eureka.target',\n",
       " '/scratch4/mdredze1/icachol1/layscisum/targets/plos.target',\n",
       " '/scratch4/mdredze1/icachol1/layscisum/targets/scitldr_all.target',\n",
       " '/scratch4/mdredze1/icachol1/layscisum/targets/cells.target',\n",
       " '/scratch4/mdredze1/icachol1/layscisum/targets/scitldr.target',\n",
       " '/scratch4/mdredze1/icachol1/layscisum/targets/arxiv.target',\n",
       " '/scratch4/mdredze1/icachol1/layscisum/targets/skj.target',\n",
       " '/scratch4/mdredze1/icachol1/layscisum/targets/pubmed.target']"
      ]
     },
     "execution_count": 47,
     "metadata": {},
     "output_type": "execute_result"
    }
   ],
   "source": [
    "summaries_dir = \"/scratch4/mdredze1/icachol1/layscisum/targets\"\n",
    "summaries_files = glob.glob(f\"{summaries_dir}/*.target\")\n",
    "summaries_files"
   ]
  },
  {
   "cell_type": "code",
   "execution_count": 48,
   "metadata": {},
   "outputs": [],
   "source": [
    "format_str = \"\"\"\\\n",
    "Mean: {:0.2f}\n",
    "Median: {:0.0f}\n",
    "Max: {:0.0f}\n",
    "Min: {:0.0f}\n",
    "Var:{:0.2f}\n",
    "\"\"\"\n",
    "\n",
    "def get_len(text):\n",
    "    return len(text.strip().split())\n",
    "\n",
    "def analyze_texts(texts, return_n_tokens=False):\n",
    "    n_tokens = np.zeros(len(texts))\n",
    "    for i, t in enumerate(texts):\n",
    "        n_tokens[i] = get_len(t)\n",
    "    if return_n_tokens:\n",
    "        return n_tokens\n",
    "    return [np.mean(n_tokens),\n",
    "        np.median(n_tokens),\n",
    "        np.max(n_tokens),\n",
    "        np.min(n_tokens),\n",
    "        np.var(n_tokens)]\n",
    "        \n",
    "def analyze_file(fpath, return_n_tokens=False):\n",
    "    with open(fpath) as f:\n",
    "        texts = f.readlines()\n",
    "    return analyze_texts(texts, return_n_tokens)"
   ]
  },
  {
   "cell_type": "code",
   "execution_count": 49,
   "metadata": {},
   "outputs": [
    {
     "data": {
      "text/html": [
       "<div>\n",
       "<style scoped>\n",
       "    .dataframe tbody tr th:only-of-type {\n",
       "        vertical-align: middle;\n",
       "    }\n",
       "\n",
       "    .dataframe tbody tr th {\n",
       "        vertical-align: top;\n",
       "    }\n",
       "\n",
       "    .dataframe thead th {\n",
       "        text-align: right;\n",
       "    }\n",
       "</style>\n",
       "<table border=\"1\" class=\"dataframe\">\n",
       "  <thead>\n",
       "    <tr style=\"text-align: right;\">\n",
       "      <th></th>\n",
       "      <th>dataset</th>\n",
       "      <th>mean</th>\n",
       "      <th>median</th>\n",
       "      <th>max</th>\n",
       "      <th>min</th>\n",
       "      <th>var</th>\n",
       "    </tr>\n",
       "  </thead>\n",
       "  <tbody>\n",
       "    <tr>\n",
       "      <th>0</th>\n",
       "      <td>scinews</td>\n",
       "      <td>615.017670</td>\n",
       "      <td>571.0</td>\n",
       "      <td>2720.0</td>\n",
       "      <td>119.0</td>\n",
       "      <td>61598.801980</td>\n",
       "    </tr>\n",
       "    <tr>\n",
       "      <th>1</th>\n",
       "      <td>elife</td>\n",
       "      <td>383.091286</td>\n",
       "      <td>380.0</td>\n",
       "      <td>607.0</td>\n",
       "      <td>226.0</td>\n",
       "      <td>4361.327766</td>\n",
       "    </tr>\n",
       "    <tr>\n",
       "      <th>2</th>\n",
       "      <td>cdsr</td>\n",
       "      <td>221.132075</td>\n",
       "      <td>139.0</td>\n",
       "      <td>696.0</td>\n",
       "      <td>101.0</td>\n",
       "      <td>26451.850481</td>\n",
       "    </tr>\n",
       "    <tr>\n",
       "      <th>3</th>\n",
       "      <td>eureka</td>\n",
       "      <td>662.369307</td>\n",
       "      <td>629.5</td>\n",
       "      <td>1628.0</td>\n",
       "      <td>39.0</td>\n",
       "      <td>57528.949751</td>\n",
       "    </tr>\n",
       "    <tr>\n",
       "      <th>4</th>\n",
       "      <td>plos</td>\n",
       "      <td>194.696948</td>\n",
       "      <td>202.0</td>\n",
       "      <td>400.0</td>\n",
       "      <td>51.0</td>\n",
       "      <td>1481.026619</td>\n",
       "    </tr>\n",
       "    <tr>\n",
       "      <th>5</th>\n",
       "      <td>scitldr_all</td>\n",
       "      <td>66.645631</td>\n",
       "      <td>65.0</td>\n",
       "      <td>133.0</td>\n",
       "      <td>18.0</td>\n",
       "      <td>396.876041</td>\n",
       "    </tr>\n",
       "    <tr>\n",
       "      <th>6</th>\n",
       "      <td>cells</td>\n",
       "      <td>161.831247</td>\n",
       "      <td>146.0</td>\n",
       "      <td>609.0</td>\n",
       "      <td>41.0</td>\n",
       "      <td>4412.272426</td>\n",
       "    </tr>\n",
       "    <tr>\n",
       "      <th>7</th>\n",
       "      <td>scitldr</td>\n",
       "      <td>18.852751</td>\n",
       "      <td>18.0</td>\n",
       "      <td>44.0</td>\n",
       "      <td>3.0</td>\n",
       "      <td>57.203237</td>\n",
       "    </tr>\n",
       "    <tr>\n",
       "      <th>8</th>\n",
       "      <td>arxiv</td>\n",
       "      <td>163.130745</td>\n",
       "      <td>159.0</td>\n",
       "      <td>290.0</td>\n",
       "      <td>44.0</td>\n",
       "      <td>3340.795017</td>\n",
       "    </tr>\n",
       "    <tr>\n",
       "      <th>9</th>\n",
       "      <td>skj</td>\n",
       "      <td>142.246479</td>\n",
       "      <td>144.0</td>\n",
       "      <td>356.0</td>\n",
       "      <td>72.0</td>\n",
       "      <td>786.446290</td>\n",
       "    </tr>\n",
       "    <tr>\n",
       "      <th>10</th>\n",
       "      <td>pubmed</td>\n",
       "      <td>205.383356</td>\n",
       "      <td>213.0</td>\n",
       "      <td>506.0</td>\n",
       "      <td>17.0</td>\n",
       "      <td>6365.603376</td>\n",
       "    </tr>\n",
       "  </tbody>\n",
       "</table>\n",
       "</div>"
      ],
      "text/plain": [
       "        dataset        mean  median     max    min           var\n",
       "0       scinews  615.017670   571.0  2720.0  119.0  61598.801980\n",
       "1         elife  383.091286   380.0   607.0  226.0   4361.327766\n",
       "2          cdsr  221.132075   139.0   696.0  101.0  26451.850481\n",
       "3        eureka  662.369307   629.5  1628.0   39.0  57528.949751\n",
       "4          plos  194.696948   202.0   400.0   51.0   1481.026619\n",
       "5   scitldr_all   66.645631    65.0   133.0   18.0    396.876041\n",
       "6         cells  161.831247   146.0   609.0   41.0   4412.272426\n",
       "7       scitldr   18.852751    18.0    44.0    3.0     57.203237\n",
       "8         arxiv  163.130745   159.0   290.0   44.0   3340.795017\n",
       "9           skj  142.246479   144.0   356.0   72.0    786.446290\n",
       "10       pubmed  205.383356   213.0   506.0   17.0   6365.603376"
      ]
     },
     "execution_count": 49,
     "metadata": {},
     "output_type": "execute_result"
    }
   ],
   "source": [
    "col_names = [\"dataset\", \"mean\", \"median\", \"max\", \"min\", \"var\"]\n",
    "rows = []\n",
    "for f_name in summaries_files:\n",
    "    dataset_name = f_name.split('/')[-1].split('.')[-2]\n",
    "    # print(f\"===== {dataset_name} =====\")\n",
    "    # analyze_file(f_name)\n",
    "    stats = analyze_file(f_name)\n",
    "    rows.append([dataset_name]+stats)\n",
    "\n",
    "df = pd.DataFrame(rows, columns=col_names)\n",
    "df\n"
   ]
  },
  {
   "cell_type": "code",
   "execution_count": 50,
   "metadata": {},
   "outputs": [
    {
     "name": "stderr",
     "output_type": "stream",
     "text": [
      "/tmp/ipykernel_453495/2750136913.py:3: SettingWithCopyWarning: \n",
      "A value is trying to be set on a copy of a slice from a DataFrame.\n",
      "Try using .loc[row_indexer,col_indexer] = value instead\n",
      "\n",
      "See the caveats in the documentation: https://pandas.pydata.org/pandas-docs/stable/user_guide/indexing.html#returning-a-view-versus-a-copy\n",
      "  elife['n_tokens'] = elife_ntokens\n"
     ]
    },
    {
     "data": {
      "text/html": [
       "<div>\n",
       "<style scoped>\n",
       "    .dataframe tbody tr th:only-of-type {\n",
       "        vertical-align: middle;\n",
       "    }\n",
       "\n",
       "    .dataframe tbody tr th {\n",
       "        vertical-align: top;\n",
       "    }\n",
       "\n",
       "    .dataframe thead th {\n",
       "        text-align: right;\n",
       "    }\n",
       "</style>\n",
       "<table border=\"1\" class=\"dataframe\">\n",
       "  <thead>\n",
       "    <tr style=\"text-align: right;\">\n",
       "      <th></th>\n",
       "      <th>readability</th>\n",
       "      <th>summary</th>\n",
       "      <th>response</th>\n",
       "      <th>dataset</th>\n",
       "      <th>model</th>\n",
       "      <th>coleman_liau</th>\n",
       "      <th>n_tokens</th>\n",
       "    </tr>\n",
       "  </thead>\n",
       "  <tbody>\n",
       "    <tr>\n",
       "      <th>22749</th>\n",
       "      <td>3.0</td>\n",
       "      <td>Imagine a gymnastics competition in which part...</td>\n",
       "      <td>I would rate the reading ease of this text as ...</td>\n",
       "      <td>elife</td>\n",
       "      <td>3-70B-Instruct-prompt4</td>\n",
       "      <td>10.670954</td>\n",
       "      <td>403.0</td>\n",
       "    </tr>\n",
       "    <tr>\n",
       "      <th>22750</th>\n",
       "      <td>4.0</td>\n",
       "      <td>To grow and multiply , a living cell must take...</td>\n",
       "      <td>I would rate the reading ease of this text as ...</td>\n",
       "      <td>elife</td>\n",
       "      <td>3-70B-Instruct-prompt4</td>\n",
       "      <td>11.247771</td>\n",
       "      <td>329.0</td>\n",
       "    </tr>\n",
       "    <tr>\n",
       "      <th>22751</th>\n",
       "      <td>2.0</td>\n",
       "      <td>Our sense of number is thought to have emerged...</td>\n",
       "      <td>I would rate the reading ease of this text as ...</td>\n",
       "      <td>elife</td>\n",
       "      <td>3-70B-Instruct-prompt4</td>\n",
       "      <td>13.767383</td>\n",
       "      <td>478.0</td>\n",
       "    </tr>\n",
       "    <tr>\n",
       "      <th>22752</th>\n",
       "      <td>4.0</td>\n",
       "      <td>When an embryo is developing , stem cells must...</td>\n",
       "      <td>I would rate the reading ease of this text as ...</td>\n",
       "      <td>elife</td>\n",
       "      <td>3-70B-Instruct-prompt4</td>\n",
       "      <td>9.362639</td>\n",
       "      <td>306.0</td>\n",
       "    </tr>\n",
       "    <tr>\n",
       "      <th>22753</th>\n",
       "      <td>3.0</td>\n",
       "      <td>Neurons communicate with one another at juncti...</td>\n",
       "      <td>I would rate the reading ease of this text as ...</td>\n",
       "      <td>elife</td>\n",
       "      <td>3-70B-Instruct-prompt4</td>\n",
       "      <td>12.321041</td>\n",
       "      <td>293.0</td>\n",
       "    </tr>\n",
       "    <tr>\n",
       "      <th>...</th>\n",
       "      <td>...</td>\n",
       "      <td>...</td>\n",
       "      <td>...</td>\n",
       "      <td>...</td>\n",
       "      <td>...</td>\n",
       "      <td>...</td>\n",
       "      <td>...</td>\n",
       "    </tr>\n",
       "    <tr>\n",
       "      <th>22985</th>\n",
       "      <td>2.0</td>\n",
       "      <td>A stem cell is a special cell that divides to ...</td>\n",
       "      <td>I would rate the reading ease of this text a 2...</td>\n",
       "      <td>elife</td>\n",
       "      <td>3-70B-Instruct-prompt4</td>\n",
       "      <td>11.416053</td>\n",
       "      <td>486.0</td>\n",
       "    </tr>\n",
       "    <tr>\n",
       "      <th>22986</th>\n",
       "      <td>2.0</td>\n",
       "      <td>If all the DNA contained within a single human...</td>\n",
       "      <td>I would rate the reading ease of this text as ...</td>\n",
       "      <td>elife</td>\n",
       "      <td>3-70B-Instruct-prompt4</td>\n",
       "      <td>9.304650</td>\n",
       "      <td>450.0</td>\n",
       "    </tr>\n",
       "    <tr>\n",
       "      <th>22987</th>\n",
       "      <td>3.0</td>\n",
       "      <td>Hybrids arise when two populations of organism...</td>\n",
       "      <td>I would rate the reading ease of this text as ...</td>\n",
       "      <td>elife</td>\n",
       "      <td>3-70B-Instruct-prompt4</td>\n",
       "      <td>15.829636</td>\n",
       "      <td>515.0</td>\n",
       "    </tr>\n",
       "    <tr>\n",
       "      <th>22988</th>\n",
       "      <td>2.0</td>\n",
       "      <td>As an animal embryo develops , specific genes ...</td>\n",
       "      <td>I would rate the reading ease of this text as ...</td>\n",
       "      <td>elife</td>\n",
       "      <td>3-70B-Instruct-prompt4</td>\n",
       "      <td>11.495590</td>\n",
       "      <td>412.0</td>\n",
       "    </tr>\n",
       "    <tr>\n",
       "      <th>22989</th>\n",
       "      <td>3.0</td>\n",
       "      <td>The hippocampus is a seahorse-shaped region of...</td>\n",
       "      <td>I would rate the reading ease of this text as ...</td>\n",
       "      <td>elife</td>\n",
       "      <td>3-70B-Instruct-prompt4</td>\n",
       "      <td>14.367387</td>\n",
       "      <td>314.0</td>\n",
       "    </tr>\n",
       "  </tbody>\n",
       "</table>\n",
       "<p>241 rows × 7 columns</p>\n",
       "</div>"
      ],
      "text/plain": [
       "       readability                                            summary  \\\n",
       "22749          3.0  Imagine a gymnastics competition in which part...   \n",
       "22750          4.0  To grow and multiply , a living cell must take...   \n",
       "22751          2.0  Our sense of number is thought to have emerged...   \n",
       "22752          4.0  When an embryo is developing , stem cells must...   \n",
       "22753          3.0  Neurons communicate with one another at juncti...   \n",
       "...            ...                                                ...   \n",
       "22985          2.0  A stem cell is a special cell that divides to ...   \n",
       "22986          2.0  If all the DNA contained within a single human...   \n",
       "22987          3.0  Hybrids arise when two populations of organism...   \n",
       "22988          2.0  As an animal embryo develops , specific genes ...   \n",
       "22989          3.0  The hippocampus is a seahorse-shaped region of...   \n",
       "\n",
       "                                                response dataset  \\\n",
       "22749  I would rate the reading ease of this text as ...   elife   \n",
       "22750  I would rate the reading ease of this text as ...   elife   \n",
       "22751  I would rate the reading ease of this text as ...   elife   \n",
       "22752  I would rate the reading ease of this text as ...   elife   \n",
       "22753  I would rate the reading ease of this text as ...   elife   \n",
       "...                                                  ...     ...   \n",
       "22985  I would rate the reading ease of this text a 2...   elife   \n",
       "22986  I would rate the reading ease of this text as ...   elife   \n",
       "22987  I would rate the reading ease of this text as ...   elife   \n",
       "22988  I would rate the reading ease of this text as ...   elife   \n",
       "22989  I would rate the reading ease of this text as ...   elife   \n",
       "\n",
       "                        model  coleman_liau  n_tokens  \n",
       "22749  3-70B-Instruct-prompt4     10.670954     403.0  \n",
       "22750  3-70B-Instruct-prompt4     11.247771     329.0  \n",
       "22751  3-70B-Instruct-prompt4     13.767383     478.0  \n",
       "22752  3-70B-Instruct-prompt4      9.362639     306.0  \n",
       "22753  3-70B-Instruct-prompt4     12.321041     293.0  \n",
       "...                       ...           ...       ...  \n",
       "22985  3-70B-Instruct-prompt4     11.416053     486.0  \n",
       "22986  3-70B-Instruct-prompt4      9.304650     450.0  \n",
       "22987  3-70B-Instruct-prompt4     15.829636     515.0  \n",
       "22988  3-70B-Instruct-prompt4     11.495590     412.0  \n",
       "22989  3-70B-Instruct-prompt4     14.367387     314.0  \n",
       "\n",
       "[241 rows x 7 columns]"
      ]
     },
     "execution_count": 50,
     "metadata": {},
     "output_type": "execute_result"
    }
   ],
   "source": [
    "elife = all_scores[all_scores['dataset'] == 'elife']\n",
    "elife_ntokens  = analyze_file('/scratch4/mdredze1/icachol1/layscisum/targets/elife.target', return_n_tokens=True)\n",
    "elife['n_tokens'] = elife_ntokens\n",
    "elife"
   ]
  },
  {
   "cell_type": "code",
   "execution_count": 51,
   "metadata": {},
   "outputs": [
    {
     "data": {
      "text/plain": [
       "<Axes: xlabel='readability', ylabel='n_tokens'>"
      ]
     },
     "execution_count": 51,
     "metadata": {},
     "output_type": "execute_result"
    },
    {
     "data": {
      "image/png": "[encoded data removed]",
      "text/plain": [
       "<Figure size 640x480 with 1 Axes>"
      ]
     },
     "metadata": {},
     "output_type": "display_data"
    }
   ],
   "source": [
    "ax = plt.subplot()\n",
    "ax.xaxis.set_ticks([1,2,3,4,5])\n",
    "ax.set_xlim([1,5])\n",
    "sns.scatterplot(elife, x=\"readability\", y='n_tokens', ax=ax)"
   ]
  },
  {
   "cell_type": "code",
   "execution_count": 52,
   "metadata": {},
   "outputs": [
    {
     "data": {
      "text/plain": [
       "PearsonRResult(statistic=1.0, pvalue=0.0)"
      ]
     },
     "execution_count": 52,
     "metadata": {},
     "output_type": "execute_result"
    }
   ],
   "source": [
    "pearsonr(elife['readability'], elife['readability'])"
   ]
  },
  {
   "cell_type": "code",
   "execution_count": 53,
   "metadata": {},
   "outputs": [
    {
     "name": "stdout",
     "output_type": "stream",
     "text": [
      "scinews\n",
      "4188\n",
      "elife\n",
      "241\n",
      "cdsr\n",
      "53\n",
      "eureka\n",
      "1010\n",
      "plos\n",
      "1376\n",
      "scitldr_all\n",
      "618\n"
     ]
    },
    {
     "ename": "ValueError",
     "evalue": "Must have equal len keys and value when setting with an iterable",
     "output_type": "error",
     "traceback": [
      "\u001b[0;31m---------------------------------------------------------------------------\u001b[0m",
      "\u001b[0;31mValueError\u001b[0m                                Traceback (most recent call last)",
      "Cell \u001b[0;32mIn[53], line 9\u001b[0m\n\u001b[1;32m      6\u001b[0m     \u001b[38;5;28mprint\u001b[39m(\u001b[38;5;28mlen\u001b[39m(ntokens))\n\u001b[1;32m      7\u001b[0m     \u001b[38;5;66;03m# tmp['n_tokens'] = ntokens\u001b[39;00m\n\u001b[1;32m      8\u001b[0m     \u001b[38;5;66;03m# df.loc[df['A'].isin([1, 2]), 'B'] = [10, 20]\u001b[39;00m\n\u001b[0;32m----> 9\u001b[0m     \u001b[43mall_scores\u001b[49m\u001b[38;5;241;43m.\u001b[39;49m\u001b[43mloc\u001b[49m\u001b[43m[\u001b[49m\u001b[43mall_scores\u001b[49m\u001b[43m[\u001b[49m\u001b[38;5;124;43m'\u001b[39;49m\u001b[38;5;124;43mdataset\u001b[39;49m\u001b[38;5;124;43m'\u001b[39;49m\u001b[43m]\u001b[49m\u001b[43m \u001b[49m\u001b[38;5;241;43m==\u001b[39;49m\u001b[43m \u001b[49m\u001b[43mdataset_name\u001b[49m\u001b[43m,\u001b[49m\u001b[43m \u001b[49m\u001b[38;5;124;43m'\u001b[39;49m\u001b[38;5;124;43mn_tokens\u001b[39;49m\u001b[38;5;124;43m'\u001b[39;49m\u001b[43m]\u001b[49m \u001b[38;5;241m=\u001b[39m ntokens\n\u001b[1;32m     10\u001b[0m all_scores\n",
      "File \u001b[0;32m~/.conda/envs/request-gpt/lib/python3.9/site-packages/pandas/core/indexing.py:911\u001b[0m, in \u001b[0;36m_LocationIndexer.__setitem__\u001b[0;34m(self, key, value)\u001b[0m\n\u001b[1;32m    908\u001b[0m \u001b[38;5;28mself\u001b[39m\u001b[38;5;241m.\u001b[39m_has_valid_setitem_indexer(key)\n\u001b[1;32m    910\u001b[0m iloc \u001b[38;5;241m=\u001b[39m \u001b[38;5;28mself\u001b[39m \u001b[38;5;28;01mif\u001b[39;00m \u001b[38;5;28mself\u001b[39m\u001b[38;5;241m.\u001b[39mname \u001b[38;5;241m==\u001b[39m \u001b[38;5;124m\"\u001b[39m\u001b[38;5;124miloc\u001b[39m\u001b[38;5;124m\"\u001b[39m \u001b[38;5;28;01melse\u001b[39;00m \u001b[38;5;28mself\u001b[39m\u001b[38;5;241m.\u001b[39mobj\u001b[38;5;241m.\u001b[39miloc\n\u001b[0;32m--> 911\u001b[0m \u001b[43miloc\u001b[49m\u001b[38;5;241;43m.\u001b[39;49m\u001b[43m_setitem_with_indexer\u001b[49m\u001b[43m(\u001b[49m\u001b[43mindexer\u001b[49m\u001b[43m,\u001b[49m\u001b[43m \u001b[49m\u001b[43mvalue\u001b[49m\u001b[43m,\u001b[49m\u001b[43m \u001b[49m\u001b[38;5;28;43mself\u001b[39;49m\u001b[38;5;241;43m.\u001b[39;49m\u001b[43mname\u001b[49m\u001b[43m)\u001b[49m\n",
      "File \u001b[0;32m~/.conda/envs/request-gpt/lib/python3.9/site-packages/pandas/core/indexing.py:1942\u001b[0m, in \u001b[0;36m_iLocIndexer._setitem_with_indexer\u001b[0;34m(self, indexer, value, name)\u001b[0m\n\u001b[1;32m   1939\u001b[0m \u001b[38;5;66;03m# align and set the values\u001b[39;00m\n\u001b[1;32m   1940\u001b[0m \u001b[38;5;28;01mif\u001b[39;00m take_split_path:\n\u001b[1;32m   1941\u001b[0m     \u001b[38;5;66;03m# We have to operate column-wise\u001b[39;00m\n\u001b[0;32m-> 1942\u001b[0m     \u001b[38;5;28;43mself\u001b[39;49m\u001b[38;5;241;43m.\u001b[39;49m\u001b[43m_setitem_with_indexer_split_path\u001b[49m\u001b[43m(\u001b[49m\u001b[43mindexer\u001b[49m\u001b[43m,\u001b[49m\u001b[43m \u001b[49m\u001b[43mvalue\u001b[49m\u001b[43m,\u001b[49m\u001b[43m \u001b[49m\u001b[43mname\u001b[49m\u001b[43m)\u001b[49m\n\u001b[1;32m   1943\u001b[0m \u001b[38;5;28;01melse\u001b[39;00m:\n\u001b[1;32m   1944\u001b[0m     \u001b[38;5;28mself\u001b[39m\u001b[38;5;241m.\u001b[39m_setitem_single_block(indexer, value, name)\n",
      "File \u001b[0;32m~/.conda/envs/request-gpt/lib/python3.9/site-packages/pandas/core/indexing.py:2027\u001b[0m, in \u001b[0;36m_iLocIndexer._setitem_with_indexer_split_path\u001b[0;34m(self, indexer, value, name)\u001b[0m\n\u001b[1;32m   2024\u001b[0m         \u001b[38;5;28mself\u001b[39m\u001b[38;5;241m.\u001b[39m_setitem_single_column(ilocs[\u001b[38;5;241m0\u001b[39m], value, pi)\n\u001b[1;32m   2026\u001b[0m     \u001b[38;5;28;01melse\u001b[39;00m:\n\u001b[0;32m-> 2027\u001b[0m         \u001b[38;5;28;01mraise\u001b[39;00m \u001b[38;5;167;01mValueError\u001b[39;00m(\n\u001b[1;32m   2028\u001b[0m             \u001b[38;5;124m\"\u001b[39m\u001b[38;5;124mMust have equal len keys and value \u001b[39m\u001b[38;5;124m\"\u001b[39m\n\u001b[1;32m   2029\u001b[0m             \u001b[38;5;124m\"\u001b[39m\u001b[38;5;124mwhen setting with an iterable\u001b[39m\u001b[38;5;124m\"\u001b[39m\n\u001b[1;32m   2030\u001b[0m         )\n\u001b[1;32m   2032\u001b[0m \u001b[38;5;28;01melse\u001b[39;00m:\n\u001b[1;32m   2033\u001b[0m     \u001b[38;5;66;03m# scalar value\u001b[39;00m\n\u001b[1;32m   2034\u001b[0m     \u001b[38;5;28;01mfor\u001b[39;00m loc \u001b[38;5;129;01min\u001b[39;00m ilocs:\n",
      "\u001b[0;31mValueError\u001b[0m: Must have equal len keys and value when setting with an iterable"
     ]
    }
   ],
   "source": [
    "all_scores['n_tokens'] = -1\n",
    "for fpath in summaries_files:\n",
    "    dataset_name = fpath.split('/')[-1].split('.')[-2]\n",
    "    print(dataset_name)\n",
    "    ntokens  = analyze_file(fpath, return_n_tokens=True)\n",
    "    print(len(ntokens))\n",
    "    # tmp['n_tokens'] = ntokens\n",
    "    # df.loc[df['A'].isin([1, 2]), 'B'] = [10, 20]\n",
    "    all_scores.loc[all_scores['dataset'] == dataset_name, 'n_tokens'] = ntokens\n",
    "all_scores"
   ]
  },
  {
   "cell_type": "code",
   "execution_count": null,
   "metadata": {},
   "outputs": [
    {
     "data": {
      "text/plain": [
       "PearsonRResult(statistic=0.23042170859930367, pvalue=1.068088971052248e-274)"
      ]
     },
     "execution_count": 63,
     "metadata": {},
     "output_type": "execute_result"
    }
   ],
   "source": [
    "pearsonr(all_scores['readability'], all_scores['n_tokens'])"
   ]
  },
  {
   "cell_type": "code",
   "execution_count": null,
   "metadata": {},
   "outputs": [
    {
     "data": {
      "text/plain": [
       "<Axes: xlabel='readability', ylabel='n_tokens'>"
      ]
     },
     "execution_count": 67,
     "metadata": {},
     "output_type": "execute_result"
    },
    {
     "data": {
      "image/png": "[encoded data removed]",
      "text/plain": [
       "<Figure size 640x480 with 1 Axes>"
      ]
     },
     "metadata": {},
     "output_type": "display_data"
    }
   ],
   "source": [
    "ax = plt.subplot()\n",
    "ax.xaxis.set_ticks([1,2,3,4,5])\n",
    "ax.set_xlim([0.5,5.5])\n",
    "sns.scatterplot(all_scores, x=\"readability\", y='n_tokens', ax=ax)"
   ]
  },
  {
   "cell_type": "code",
   "execution_count": null,
   "metadata": {},
   "outputs": [],
   "source": []
  }
 ],
 "metadata": {
  "kernelspec": {
   "display_name": "Python 3 (ipykernel)",
   "language": "python",
   "name": "python3"
  },
  "language_info": {
   "codemirror_mode": {
    "name": "ipython",
    "version": 3
   },
   "file_extension": ".py",
   "mimetype": "text/x-python",
   "name": "python",
   "nbconvert_exporter": "python",
   "pygments_lexer": "ipython3",
   "version": "3.9.16"
  }
 },
 "nbformat": 4,
 "nbformat_minor": 2
}
